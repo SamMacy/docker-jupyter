{
 "cells": [
  {
   "cell_type": "markdown",
   "metadata": {},
   "source": [
    "# G2Engine"
   ]
  },
  {
   "cell_type": "code",
   "execution_count": null,
   "metadata": {},
   "outputs": [],
   "source": [
    "import com.senzing.g2.engine.G2Engine;\n",
    "import com.senzing.g2.engine.G2JNI;\n",
    "import com.senzing.g2.engine.Result;"
   ]
  },
  {
   "cell_type": "markdown",
   "metadata": {},
   "source": [
    "## Initialize variables\n",
    "\n",
    "Create variables used for G2Engine."
   ]
  },
  {
   "cell_type": "code",
   "execution_count": null,
   "metadata": {},
   "outputs": [],
   "source": [
    "String moduleName = \"G2JNI\";\n",
    "String iniFilename = \"{\\\"PIPELINE\\\": {\\\"SUPPORTPATH\\\": \\\"/opt/senzing/g2/data\\\"},\\\"SQL\\\": {\\\"CONNECTION\\\": \\\"sqlite3://na:na@/opt/senzing/g2/sqldb/G2C.db\\\",\\\"G2CONFIGFILE\\\": \\\"/opt/senzing/g2/python/g2config.json\\\"}}\";\n",
    "boolean verboseLogging = true;\n",
    "Result<Long> configID = new Result<Long>();"
   ]
  },
  {
   "cell_type": "markdown",
   "metadata": {},
   "source": [
    "## Initialization\n",
    "\n",
    "To start using Senzing G2Engine, create and initialize an instance.\n",
    "This should be done once per process.\n",
    "The `init()` method accepts the following parameters:\n",
    "\n",
    "- **module_name:** A short name given to this instance of the G2 engine (i.e. your G2Module object)\n",
    "- **g2module_ini_pathname:** A fully qualified path to the G2 engine INI file (often /opt/senzing/g2/python/G2Module.ini)\n",
    "- **verbose_logging:** A boolean which enables diagnostic logging - this will print a massive amount of information to stdout (default = False)\n",
    "- **config_id:** (optional) The identifier value for the engine configuration can be returned here.\n",
    "\n",
    "Calling this function will return \"0\" upon success."
   ]
  },
  {
   "cell_type": "code",
   "execution_count": null,
   "metadata": {
    "scrolled": true
   },
   "outputs": [],
   "source": [
    "G2Engine engine = new G2JNI();\n",
    "int initResult = engine.initV2(moduleName, iniFilename, verboseLogging);\n",
    "System.out.println(initResult);"
   ]
  },
  {
   "cell_type": "markdown",
   "metadata": {},
   "source": [
    "## Prime Engine\n",
    "\n",
    "The `primeEngine()` method may optionally be called to pre-initialize some of the heavier weight internal resources of the G2 engine."
   ]
  },
  {
   "cell_type": "code",
   "execution_count": null,
   "metadata": {},
   "outputs": [],
   "source": [
    "int ret = engine.primeEngine();\n",
    "if(ret!=0)\n",
    "    System.out.println(engine.getLastException());\n",
    "System.out.print(ret)"
   ]
  },
  {
   "cell_type": "code",
   "execution_count": null,
   "metadata": {},
   "outputs": [],
   "source": [
    "String stats = engine.stats();\n",
    "System.out.println(\"STATS: \" + stats);"
   ]
  },
  {
   "cell_type": "markdown",
   "metadata": {},
   "source": [
    "## addRecord()\n",
    "\n",
    "Once the Senzing engine is initialized, use addRecord() to load a record into the Senzing repository -- addRecord() can be called as many times as desired and from multiple threads at the same time. The addRecord() function returns \"0\" upon success, and accepts four parameters as input:\n",
    "\n",
    "- **datasource_code:** The name of the data source the record is associated with. This value is configurable to the system\n",
    "- **record_id:** The record ID, used to identify distinct records\n",
    "- **data_string:** A JSON document with the attribute data for the record\n",
    "- **load_id:** The observation load ID for the record; value can be null and will default to data_source\n"
   ]
  },
  {
   "cell_type": "code",
   "execution_count": null,
   "metadata": {},
   "outputs": [],
   "source": [
    "String dataSourceCode = \"TEST\";\n",
    "String recordID = \"1\";\n",
    "String jsonData =  \"{\\\"NAME_TYPE\\\": \\\"PRIMARY\\\", \\\"NAME_FIRST\\\": \\\"JANE\\\", \\\"NAME_LAST\\\": \\\"SMITH\\\", \\\"ADDR_TYPE\\\": \\\"HOME\\\", \\\"ADDR_LINE1\\\": \\\"653 STATE ROUTE 7\\\", \\\"ADDR_CITY\\\": \\\"FRESNO\\\", \\\"ADDR_STATE\\\": \\\"CA\\\", \\\"ADDR_POSTAL_CODE\\\": \\\"55073-1234\\\"}\";\n",
    "String loadID = null;\n",
    "\n",
    "int ret = engine.addRecord(dataSourceCode, recordID, jsonData, loadID);\n",
    "\n",
    "StringBuffer recordID2 = new StringBuffer();\n",
    "int ret2 = engine.addRecordWithReturnedRecordID(dataSourceCode, recordID2, jsonData, loadID);\n",
    "\n",
    "System.out.println(\"New Record ID: \" + recordID2.toString());\n",
    "if(ret!=0)\n",
    "    System.out.println(engine.getLastException());\n",
    "if(ret2!=0)\n",
    "    System.out.println(engine.getLastException());\n",
    "System.out.println(ret)"
   ]
  },
  {
   "cell_type": "markdown",
   "metadata": {},
   "source": [
    "## getRecord()\n",
    "\n",
    "Use `getRecord()` to retrieve a single record from the data repository; the record is assigned in JSON form to a user-designated buffer, and the function itself returns \"0\" upon success. Once the Senzing engine is initialized, `getRecord()` can be called as many times as desired and from multiple threads at the same time. The `getRecord()` function accepts the following parameters as input:\n",
    "\n",
    "- **data_source:** The name of the data source the record is associated with. This value is configurable to the system\n",
    "- **record_id:** The record ID, used to identify the record for retrieval\n",
    "- **response:** A memory buffer for returning the response document; if an error occurred, an error response is stored here"
   ]
  },
  {
   "cell_type": "code",
   "execution_count": null,
   "metadata": {},
   "outputs": [],
   "source": [
    "String dataSourceCode = \"TEST\";\n",
    "String recordID = \"1\";\n",
    "StringBuffer response = new StringBuffer();\n",
    "\n",
    "/** getRecord */\n",
    "int ret = engine.getRecord(dataSourceCode, recordID, response);\n",
    "\n",
    "System.out.println(\"GET RECORD: \" + response.toString());\n",
    "System.out.println(\"\");\n",
    "if(ret!=0)\n",
    "    System.out.println(engine.getLastException());\n",
    "System.out.println(ret)"
   ]
  },
  {
   "cell_type": "markdown",
   "metadata": {},
   "source": [
    "## getEntityByRecordID()\n",
    "\n",
    "Use `getEntityByRecordID()` to retrieve entity data based on the record ID of a particular data record. This function accepts the following parameters as input:\n",
    "\n",
    "- **datasource_code:** The name of the data source the record is associated with. This value is configurable to the system\n",
    "- **record_id:** The record ID for a particular data record\n",
    "- **response:** A memory buffer for returning the response document; if an error occurred, an error response is stored here."
   ]
  },
  {
   "cell_type": "code",
   "execution_count": null,
   "metadata": {
    "scrolled": true
   },
   "outputs": [],
   "source": [
    "String dataSourceCode = \"TEST\";\n",
    "String recordID = \"1\";\n",
    "\n",
    "long entityID = 1;\n",
    "StringBuffer response = new StringBuffer();\n",
    "\n",
    "int ret2 = engine.getEntityByEntityID(entityID, response);\n",
    "System.out.println(\"GET Entity: \" + response.toString());\n",
    "\n",
    "response = new StringBuffer();\n",
    "\n",
    "int ret3 = engine.getEntityByRecordID(dataSourceCode,recordID,response);\n",
    "System.out.println(\"GET Entity: \" + response.toString());\n",
    "if(ret2!=0)\n",
    "    System.out.println(engine.getLastException());\n",
    "if(ret3!=0)\n",
    "    System.out.println(engine.getLastException());\n",
    "System.out.println(ret2)"
   ]
  },
  {
   "cell_type": "markdown",
   "metadata": {},
   "source": [
    "## searchByAttributes()\n",
    "\n",
    "Use `searchByAttributes()` to retrieve entity data based on a user-specified set of entity attributes. This function accepts the following parameters as input:\n",
    "\n",
    "- **data_string:** A JSON document with the attribute data to search for\n",
    "- **response:** A memory buffer for returning the response document; if an error occurred, an error response is stored here."
   ]
  },
  {
   "cell_type": "code",
   "execution_count": null,
   "metadata": {},
   "outputs": [],
   "source": [
    "String dataSourceCode = \"TEST\";\n",
    "String recordID = \"1\";\n",
    "\n",
    "response = new StringBuffer();\n",
    "\n",
    "int ret4 = engine.searchByAttributes(jsonData, response);\n",
    "System.out.println(\"GET Entity: \" + response.toString());\n",
    "if(ret4!=0)\n",
    "    System.out.println(engine.getLastException());\n",
    "System.out.println(ret4)"
   ]
  },
  {
   "cell_type": "markdown",
   "metadata": {},
   "source": [
    "# Replace the record\n",
    "Use the `replaceRecord()` function to update or replace a record in the data repository (if record doesn't exist, a new record is added to the data repository. Like the above functions, `replaceRecord()` returns \"0\" upon success, and it can be called as many times as desired and from multiple threads at the same time. The `replaceRecord()` function accepts four parameters as input:\n",
    "\n",
    "- **dataSourceCode:** The name of the data source the record is associated with. This value is configurable to the system\n",
    "- **recordID:** The record ID, used to identify distinct records\n",
    "- **jsonData:** A JSON document with the attribute data for the record\n",
    "- **loadID:** The observation load ID for the record; value can be null and will default to dataSourceCode"
   ]
  },
  {
   "cell_type": "code",
   "execution_count": null,
   "metadata": {},
   "outputs": [],
   "source": [
    "String dataSourceCode = \"TEST\";\n",
    "String recordID = \"1\";\n",
    "String jsonData =  \"{\\\"NAME_TYPE\\\": \\\"PRIMARY\\\", \\\"NAME_FIRST\\\": \\\"JANE\\\", \\\"NAME_LAST\\\": \\\"ADAMS\\\", \\\"ADDR_TYPE\\\": \\\"HOME\\\", \\\"ADDR_LINE1\\\": \\\"653 STATE ROUTE 7\\\", \\\"ADDR_CITY\\\": \\\"FRESNO\\\", \\\"ADDR_STATE\\\": \\\"CA\\\", \\\"ADDR_POSTAL_CODE\\\": \\\"55073-1234\\\"}\";\n",
    "String loadID = null;\n",
    "\n",
    "int ret = engine.replaceRecord(dataSourceCode, recordID, jsonData, loadID);\n",
    "if(ret!=0)\n",
    "    System.out.println(engine.getLastException());\n",
    "System.out.println(ret)"
   ]
  },
  {
   "cell_type": "markdown",
   "metadata": {},
   "source": [
    "Do ```getRecord()``` again to see the changes"
   ]
  },
  {
   "cell_type": "code",
   "execution_count": null,
   "metadata": {
    "scrolled": false
   },
   "outputs": [],
   "source": [
    "String dataSourceCode = \"TEST\";\n",
    "String recordID = \"1\";\n",
    "StringBuffer response = new StringBuffer();\n",
    "\n",
    "int ret = engine.getRecord(dataSourceCode, recordID, response);\n",
    "\n",
    "System.out.println(\"GET RECORD: \" + response.toString());\n",
    "System.out.println(\"\");\n",
    "if(ret!=0)\n",
    "    System.out.println(engine.getLastException());\n",
    "System.out.print(ret)"
   ]
  },
  {
   "cell_type": "markdown",
   "metadata": {},
   "source": [
    "## Export JSON Entity Report\n",
    "\n",
    "There are three steps to exporting resolved entity data from the G2Engine object in JSON format. First, use the `exportJSONEntityReport()` method to generate a long integer, referred to here as an 'exportHandle'. The `exportJSONEntityReport()` method accepts one parameter as input:\n",
    "\n",
    "- **flags**: An integer specifying which entity details should be included in the export. See the \"Entity Export Flags\" section for further details.\n",
    "\n",
    "Second, use the fetchNext() method to read the exportHandle and export a row of JSON output containing the entity data for a single entity. Note that successive calls of fetchNext() will export successive rows of entity data. The fetchNext() method accepts the following parameters as input:\n",
    "\n",
    "- **exportHandle:** A long integer from which resolved entity data may be read and exported\n",
    "- **response:** A memory buffer for returning the response document; if an error occurred, an error response is stored here."
   ]
  },
  {
   "cell_type": "code",
   "execution_count": null,
   "metadata": {},
   "outputs": [],
   "source": [
    "int flags = engine.G2_EXPORT_INCLUDE_ALL_ENTITIES;\n",
    "\n",
    "long exportHandle = engine.exportJSONEntityReport(flags);\n",
    "\n",
    "String response = engine.fetchNext(exportHandle);\n",
    "System.out.println(response);\n",
    "\n",
    "engine.closeExport(exportHandle);"
   ]
  },
  {
   "cell_type": "markdown",
   "metadata": {},
   "source": [
    "## Export CSV Entity Report\n",
    "\n",
    "There are three steps to exporting resolved entity data from the G2Engine object in CSV format. First, use the `exportCSVEntityReport()` method to generate a long integer, referred to here as an 'exportHandle'. The `exportCSVEntityReport()` method accepts one parameter as input:\n",
    "\n",
    "- **flags:** An integer specifying which entity details should be included in the export. See the \"Entity Export Flags\" section for further details.\n",
    "Second, use the `fetchNext()` method to read the exportHandle and export a row of CSV output containing the entity data for a single entity. Note that the first call of `fetchNext()` may yield a header row, and that successive calls of `fetchNext()` will export successive rows of entity data. The `fetchNext()` method accepts the following parameters as input:\n",
    "\n",
    "- **exportHandle:** A long integer from which resolved entity data may be read and exported\n",
    "- **response:** A memory buffer for returning the response document; if an error occurred, an error response is stored here"
   ]
  },
  {
   "cell_type": "code",
   "execution_count": null,
   "metadata": {},
   "outputs": [],
   "source": [
    "int flags = engine.G2_EXPORT_INCLUDE_ALL_ENTITIES;\n",
    "\n",
    "long exportHandle = engine.exportCSVEntityReport(flags);\n",
    "\n",
    "String response = engine.fetchNext(exportHandle);\n",
    "System.out.println(response);\n",
    "\n",
    "engine.closeExport(exportHandle);"
   ]
  },
  {
   "cell_type": "markdown",
   "metadata": {},
   "source": [
    "## Finding Paths\n",
    "The `FindPathByEntityID()` and `FindPathByRecordID()` functions can be used to find single relationship paths between two entities. Paths are found using known relationships with other entities.\n",
    "\n",
    "Entities can be searched for by either Entity ID or by Record ID, depending on which function is chosen.\n",
    "\n",
    "These functions have the following parameters:\n",
    "\n",
    "- **entityID1:** The entity ID for the starting entity of the search path\n",
    "- **entityID2:** The entity ID for the ending entity of the search path\n",
    "- **dataSourceCode1:** The data source for the starting entity of the search path\n",
    "- **recordID1:** The record ID for the starting entity of the search path\n",
    "- **dataSourceCode2:** The data source for the ending entity of the search path\n",
    "- **recordID2:** The record ID for the ending entity of the search path\n",
    "- **maxDegree:** The number of relationship degrees to search"
   ]
  },
  {
   "cell_type": "markdown",
   "metadata": {},
   "source": [
    "First you will need to create some records so that you have some that you can compare. Can you see what is the same between this record and the previous one?"
   ]
  },
  {
   "cell_type": "code",
   "execution_count": null,
   "metadata": {},
   "outputs": [],
   "source": [
    "String dataSourceCode = \"TEST\";\n",
    "String recordID = \"2\";\n",
    "String jsonData =  \"{\\\"NAME_TYPE\\\": \\\"PRIMARY\\\", \\\"NAME_FIRST\\\": \\\"JOHN\\\", \\\"NAME_LAST\\\": \\\"SMITH\\\", \\\"ADDR_TYPE\\\": \\\"HOME\\\", \\\"ADDR_LINE1\\\": \\\"753 STATE ROUTE 8\\\", \\\"ADDR_CITY\\\": \\\"FRESNO\\\", \\\"ADDR_STATE\\\": \\\"CA\\\", \\\"ADDR_POSTAL_CODE\\\": \\\"55073-1234\\\"}\";\n",
    "String loadID = null;\n",
    "\n",
    "int ret = engine.addRecord(dataSourceCode, recordID, jsonData, loadID);\n",
    "\n",
    "StringBuffer recordID2 = new StringBuffer();\n",
    "int ret2 = engine.addRecordWithReturnedRecordID(dataSourceCode, recordID2, jsonData, loadID);\n",
    "\n",
    "System.out.println(\"New Record ID: \" + recordID2.toString());\n",
    "if(ret!=0)\n",
    "    System.out.println(engine.getLastException());\n",
    "if(ret2!=0)\n",
    "    System.out.println(engine.getLastException());\n",
    "System.out.println(ret)"
   ]
  },
  {
   "cell_type": "markdown",
   "metadata": {},
   "source": [
    "## `FindPathByEntityID()`"
   ]
  },
  {
   "cell_type": "code",
   "execution_count": null,
   "metadata": {
    "scrolled": true
   },
   "outputs": [],
   "source": [
    "long entityID1 = 1;\n",
    "long entityID2 = 2;\n",
    "int maxDegree = 3;\n",
    "\n",
    "StringBuffer response = new StringBuffer();\n",
    "\n",
    "int ret_code = engine.findPathByEntityID(entityID1,entityID2,maxDegree,response);\n",
    "\n",
    "System.out.println(\"Path result document: \" + response.toString());\n",
    "if(ret_code!=0)\n",
    "    System.out.println(engine.getLastException());\n",
    "System.out.print(ret_code)"
   ]
  },
  {
   "cell_type": "markdown",
   "metadata": {},
   "source": [
    "## `FindPathByRecordID()`"
   ]
  },
  {
   "cell_type": "code",
   "execution_count": null,
   "metadata": {
    "scrolled": true
   },
   "outputs": [],
   "source": [
    "String dataSourceCode1 = new String(\"TEST\");\n",
    "String recordID1 = new String(\"1\");\n",
    "String dataSourceCode2 = new String(\"TEST\");\n",
    "String recordID2 = new String(\"2\");\n",
    "\n",
    "ret_code = engine.findPathByRecordID(dataSourceCode1,recordID1,dataSourceCode2,recordID2,maxDegree,response);\n",
    "\n",
    "System.out.println(\"Path result document: \" + response.toString());\n",
    "if(ret_code!=0)\n",
    "    System.out.println(engine.getLastException());\n",
    "System.out.println(ret_code)"
   ]
  },
  {
   "cell_type": "markdown",
   "metadata": {},
   "source": [
    "## Finding Paths with Exclusions\n",
    "The `FindPathExcludingByEntityID()` and `FindPathExcludingByRecordID()` functions can be used to find single relationship paths between two entities. Paths are found using known relationships with other entities. In addition, it will find paths that exclude certain entities from being on the path.\n",
    "\n",
    "Entities can be searched for by either Entity ID or by Record ID, depending on which function is chosen. Additionally, entities to be excluded can also be specified by either Entity ID or by Record ID.\n",
    "\n",
    "When excluding entities, the user may choose to either (a) strictly exclude the entities, or (b) prefer to exclude the entities, but still include them if no other path is found. By default, entities will be strictly excluded. A \"preferred exclude\" may be done by specifying the G2_FIND_PATH_PREFER_EXCLUDE control flag.\n",
    "\n",
    "These functions have the following parameters:\n",
    "\n",
    "- **entityID1:** The entity ID for the starting entity of the search path\n",
    "- **entityID2:** The entity ID for the ending entity of the search path\n",
    "- **dataSourceCode1:** The data source for the starting entity of the search path\n",
    "- **recordID1:** The record ID for the starting entity of the search path\n",
    "- **dataSourceCode2:** The data source for the ending entity of the search path\n",
    "- **recordID2:** The record ID for the ending entity of the search path\n",
    "- **maxDegree:** The number of relationship degrees to search\n",
    "- **excludedEntities:** Entities that should be avoided on the path (JSON document)\n",
    "- **flags:** Operational flags"
   ]
  },
  {
   "cell_type": "code",
   "execution_count": null,
   "metadata": {
    "scrolled": true
   },
   "outputs": [],
   "source": [
    "String dataSourceCode = \"TEST\";\n",
    "String recordID = \"3\";\n",
    "String jsonData =  \"{\\\"NAME_TYPE\\\": \\\"PRIMARY\\\", \\\"NAME_FIRST\\\": \\\"SAM\\\", \\\"NAME_LAST\\\": \\\"MILLER\\\", \\\"ADDR_TYPE\\\": \\\"HOME\\\", \\\"ADDR_LINE1\\\": \\\"753 STATE ROUTE 8\\\", \\\"ADDR_CITY\\\": \\\"FRESNO\\\", \\\"ADDR_STATE\\\": \\\"CA\\\", \\\"ADDR_POSTAL_CODE\\\": \\\"55073-1234\\\", \\\"SSN_NUMBER\\\": \\\"111-11-1111\\\"}\";\n",
    "String loadID = null;\n",
    "\n",
    "int ret = engine.addRecord(dataSourceCode, recordID, jsonData, loadID);\n",
    "\n",
    "StringBuffer recordID2 = new StringBuffer();\n",
    "int ret2 = engine.addRecordWithReturnedRecordID(dataSourceCode, recordID2, jsonData, loadID);\n",
    "\n",
    "System.out.println(\"New Record ID: \" + recordID2.toString());\n",
    "if(ret!=0)\n",
    "    System.out.println(engine.getLastException());\n",
    "if(ret2!=0)\n",
    "    System.out.println(engine.getLastException());\n",
    "System.out.println(ret)"
   ]
  },
  {
   "cell_type": "markdown",
   "metadata": {},
   "source": [
    "## `FindPathExcludingByEntityID()`"
   ]
  },
  {
   "cell_type": "code",
   "execution_count": null,
   "metadata": {
    "scrolled": true
   },
   "outputs": [],
   "source": [
    "long entityID1 = 2;\n",
    "long entityID2 = 3;\n",
    "int maxDegree = 4;\n",
    "String excludedEntities = new String(\"{\\\"ENTITIES\\\":[{\\\"ENTITY_ID\\\":\\\"1\\\"}]}\");\n",
    "int flags = G2Engine.G2_EXPORT_DEFAULT_FLAGS;\n",
    "\n",
    "StringBuffer response = new StringBuffer();\n",
    "\n",
    "int ret_code = engine.findPathExcludingByEntityID(entityID1,entityID2,maxDegree,excludedEntities,flags,response);\n",
    "System.out.println(\"Path result document: \" + response.toString());\n",
    "if(ret_code!=0)\n",
    "    System.out.println(engine.getLastException());\n",
    "System.out.println(ret_code);"
   ]
  },
  {
   "cell_type": "markdown",
   "metadata": {},
   "source": [
    "## `FindPathExcludingByRecordID()`"
   ]
  },
  {
   "cell_type": "code",
   "execution_count": null,
   "metadata": {
    "scrolled": true
   },
   "outputs": [],
   "source": [
    "String dataSourceCode1 = new String(\"TEST\");\n",
    "String recordID1 = new String(\"2\");\n",
    "String dataSourceCode2 = new String(\"TEST\");\n",
    "String recordID2 = new String(\"3\");\n",
    "String excludedRecords = new String(\"{\\\"RECORDS\\\":[{\\\"RECORD_ID\\\":\\\"1\\\",\\\"DATA_SOURCE\\\":\\\"TEST\\\"}]}\");\n",
    "\n",
    "ret_code = engine.findPathExcludingByRecordID(dataSourceCode1,recordID1,dataSourceCode2,recordID2,maxDegree,excludedRecords,flags,response);\n",
    "\n",
    "System.out.println(\"Path result document: \" + response.toString());\n",
    "if(ret_code!=0)\n",
    "    System.out.println(engine.getLastException());\n",
    "System.out.println(ret_code);"
   ]
  },
  {
   "cell_type": "markdown",
   "metadata": {},
   "source": [
    "## Finding Paths with Required Sources\n",
    "The `FindPathIncludingSourceByEntityID()` and `FindPathIncludingSourceByRecordID()` functions can be used to find single relationship paths between two entities. In addition, one of the enties along the path must include a specified data source.\n",
    "\n",
    "Entities can be searched for by either Entity ID or by Record ID, depending on which function is chosen. The required data source or sources are specified by a json document list.\n",
    "\n",
    "Specific entities may also be excluded, using the same methodology as the `FindPathExcludingByEntityID()` and `FindPathExcludingByRecordID()` functions use.\n",
    "\n",
    "These functions have the following parameters:\n",
    "\n",
    "- **entityID1:** The entity ID for the starting entity of the search path\n",
    "- **entityID2:** The entity ID for the ending entity of the search path\n",
    "- **dataSourceCode1:** The data source for the starting entity of the search path\n",
    "- **recordID1:** The record ID for the starting entity of the search path\n",
    "- **dataSourceCode2:** The data source for the ending entity of the search path\n",
    "- **recordID2:** The record ID for the ending entity of the search path\n",
    "- **maxDegree:** The number of relationship degrees to search\n",
    "- **excludedEntities:** Entities that should be avoided on the path (JSON document)\n",
    "- **requiredDsrcs:** Entities that should be avoided on the path (JSON document)\n",
    "- **flags:** Operational flags"
   ]
  },
  {
   "cell_type": "code",
   "execution_count": null,
   "metadata": {
    "scrolled": true
   },
   "outputs": [],
   "source": [
    "long entityID1 = 2;\n",
    "long entityID2 = 1;\n",
    "int maxDegree = 4;\n",
    "String excludedEntities = new String(\"{\\\"ENTITIES\\\":[{\\\"ENTITY_ID\\\":\\\"1\\\"}]}\");\n",
    "String requiredDsrcs = new String(\"{\\\"DATA_SOURCES\\\":[\\\"TEST\\\"]}\");\n",
    "int flags = 0;\n",
    "\n",
    "StringBuffer response = new StringBuffer();\n",
    "\n",
    "int ret_code = engine.findPathIncludingSourceByEntityID(entityID1,entityID2,maxDegree,excludedEntities,requiredDsrcs,flags,response);\n",
    "\n",
    "System.out.println(\"Path result document: \" + response.toString());\n",
    "\n",
    "String dataSourceCode1 = new String(\"TEST\");\n",
    "String recordID1 = new String(\"2\");\n",
    "String dataSourceCode2 = new String(\"TEST\");\n",
    "String recordID2 = new String(\"3\");\n",
    "String excludedRecords = new String(\"{\\\"RECORDS\\\":[{\\\"RECORD_ID\\\":\\\"1\\\",\\\"DATA_SOURCE\\\":\\\"TEST\\\"}]}\");\n",
    "\n",
    "ret_code = engine.findPathIncludingSourceByRecordID(dataSourceCode1,recordID1,dataSourceCode2,recordID2,maxDegree,excludedRecords,requiredDsrcs,flags,response);\n",
    "\n",
    "System.out.println(\"Path result document: \" + response.toString());\n",
    "if(ret_code!=0)\n",
    "    System.out.println(engine.getLastException());\n",
    "System.out.print(ret_code);"
   ]
  },
  {
   "cell_type": "markdown",
   "metadata": {},
   "source": [
    "## Redo Processing\n",
    "Redo records are automatically created by Senzing when certain conditions occur where it believes more processing may be needed.  Some examples:\n",
    "* A value becomes generic and previous decisions may need to be revisited\n",
    "* Clean up after some record deletes\n",
    "* Detected related entities were being changed at the same time\n",
    "* A table inconsistency exists, potentially after a non-graceful shutdown\n",
    "First we will need to have a total of 6 data sources so let's add 4 more"
   ]
  },
  {
   "cell_type": "code",
   "execution_count": null,
   "metadata": {},
   "outputs": [],
   "source": [
    "String dataSourceCode = \"TEST\";\n",
    "String recordID = \"4\";\n",
    "String jsonData =  \"{\\\"NAME_TYPE\\\": \\\"PRIMARY\\\", \\\"NAME_FIRST\\\": \\\"JANE\\\", \\\"NAME_LAST\\\": \\\"ADAMS\\\", \\\"SSN_NUMBER\\\": \\\"111-11-1111\\\"}\";\n",
    "String loadID = null;\n",
    "int ret = engine.addRecord(dataSourceCode, recordID, jsonData, loadID);\n",
    "if(ret!=0)\n",
    "    System.out.println(engine.getLastException());\n",
    "System.out.println(ret);\n",
    "\n",
    "String dataSourceCode = \"TEST\";\n",
    "String recordID = \"5\";\n",
    "String jsonData =  \"{\\\"NAME_TYPE\\\": \\\"PRIMARY\\\", \\\"NAME_FIRST\\\": \\\"LILY\\\", \\\"NAME_LAST\\\": \\\"OWENS\\\", \\\"SSN_NUMBER\\\": \\\"111-11-1111\\\"}\";\n",
    "String loadID = null;\n",
    "int ret = engine.addRecord(dataSourceCode, recordID, jsonData, loadID);\n",
    "if(ret!=0)\n",
    "    System.out.println(engine.getLastException());\n",
    "System.out.println(ret);\n",
    "\n",
    "String dataSourceCode = \"TEST\";\n",
    "String recordID = \"6\";\n",
    "String jsonData =  \"{\\\"NAME_TYPE\\\": \\\"PRIMARY\\\", \\\"NAME_FIRST\\\": \\\"AUGUST\\\", \\\"NAME_LAST\\\": \\\"Bauler\\\", \\\"SSN_NUMBER\\\": \\\"111-11-1111\\\"}\";\n",
    "String loadID = null;\n",
    "int ret = engine.addRecord(dataSourceCode, recordID, jsonData, loadID);\n",
    "if(ret!=0)\n",
    "    System.out.println(engine.getLastException());\n",
    "System.out.println(ret);\n",
    "\n",
    "String dataSourceCode = \"TEST\";\n",
    "String recordID = \"7\";\n",
    "String jsonData =  \"{\\\"NAME_TYPE\\\": \\\"PRIMARY\\\", \\\"NAME_FIRST\\\": \\\"JACK\\\", \\\"NAME_LAST\\\": \\\"MILLER\\\", \\\"SSN_NUMBER\\\": \\\"111-11-1111\\\"}\";\n",
    "String loadID = null;\n",
    "int ret = engine.addRecord(dataSourceCode, recordID, jsonData, loadID);\n",
    "if(ret!=0)\n",
    "    System.out.println(engine.getLastException());\n",
    "System.out.println(ret);\n",
    "\n",
    "String dataSourceCode = \"TEST\";\n",
    "String recordID = \"8\";\n",
    "String jsonData =  \"{\\\"NAME_TYPE\\\": \\\"PRIMARY\\\", \\\"NAME_FIRST\\\": \\\"LOGAN\\\", \\\"NAME_LAST\\\": \\\"WILLIAMS\\\", \\\"SSN_NUMBER\\\": \\\"111-11-1111\\\"}\";\n",
    "String loadID = null;\n",
    "int ret = engine.addRecord(dataSourceCode, recordID, jsonData, loadID);\n",
    "if(ret!=0)\n",
    "    System.out.println(engine.getLastException());\n",
    "System.out.println(ret);"
   ]
  },
  {
   "cell_type": "markdown",
   "metadata": {},
   "source": [
    "## Counting the number of redos\n",
    "This returns the number of redos within the processed records that are awaiting processing."
   ]
  },
  {
   "cell_type": "code",
   "execution_count": null,
   "metadata": {},
   "outputs": [],
   "source": [
    "long response = engine.countRedoRecords();\n",
    "if(response<0)\n",
    "    System.out.println(engine.getLastException());\n",
    "System.out.print(response);"
   ]
  },
  {
   "cell_type": "markdown",
   "metadata": {},
   "source": [
    "## Geting a redo record\n",
    "Gets a redo record so that it can be processed"
   ]
  },
  {
   "cell_type": "code",
   "execution_count": null,
   "metadata": {},
   "outputs": [],
   "source": [
    "StringBuffer response_string = new StringBuffer();\n",
    "int response = engine.getRedoRecord(response_string);\n",
    "if(response==0 && response_string.length()>0)\n",
    "    response = engine.process(response_string.toString());\n",
    "if(response!=0)\n",
    "    System.out.println(engine.getLastException());\n",
    "System.out.print(response)"
   ]
  },
  {
   "cell_type": "code",
   "execution_count": null,
   "metadata": {
    "scrolled": false
   },
   "outputs": [],
   "source": [
    "StringBuffer response_string = new StringBuffer();\n",
    "int response = engine.getRedoRecord(response_string);\n",
    "System.out.println(response_string);\n",
    "System.out.println(response);"
   ]
  },
  {
   "cell_type": "markdown",
   "metadata": {},
   "source": [
    "## Deleting Records\n",
    "use `deleteRecord()` to remove a record from the data repository (returns \"0\" upon success) ; `deleteRecord()` can be called as many times as desired and from multiple threads at the same time. The `deleteRecord()` function accepts three parameters as input:\n",
    "\n",
    "- **dataSourceCode:** The name of the data source the record is associated with. This value is configurable to the system\n",
    "- **recordID:** The record ID, used to identify distinct records\n",
    "- **loadID:** The observation load ID for the record; value can be null and will default to dataSourceCode"
   ]
  },
  {
   "cell_type": "code",
   "execution_count": null,
   "metadata": {},
   "outputs": [],
   "source": [
    "ret = engine.deleteRecord(dataSourceCode,recordID, loadID);\n",
    "if(ret!=0)\n",
    "    System.out.println(engine.getLastException());\n",
    "System.out.print(ret)"
   ]
  },
  {
   "cell_type": "markdown",
   "metadata": {},
   "source": [
    "Attempt to get the record again. It should error and give an output similar to \"Unknown record\" and a return value of -2."
   ]
  },
  {
   "cell_type": "code",
   "execution_count": null,
   "metadata": {},
   "outputs": [],
   "source": [
    "String dataSourceCode = \"TEST\";\n",
    "String recordID = \"1\";\n",
    "StringBuffer response = new StringBuffer();\n",
    "int ret = engine.getRecord(dataSourceCode, recordID, response);\n",
    "\n",
    "if(ret!=0)\n",
    "    System.out.println(engine.getLastException());\n",
    "System.out.println(ret)"
   ]
  },
  {
   "cell_type": "markdown",
   "metadata": {},
   "source": [
    "## Purge Repository\n",
    "To purge the G2 repository, use the aptly named `purgeRepository()` method. This will remove every record in your current repository."
   ]
  },
  {
   "cell_type": "code",
   "execution_count": null,
   "metadata": {},
   "outputs": [],
   "source": [
    "int ret = engine.purgeRepository();\n",
    "if(ret!=0)\n",
    "    System.out.println(engine.getLastException());\n",
    "System.out.print(ret)"
   ]
  },
  {
   "cell_type": "code",
   "execution_count": null,
   "metadata": {},
   "outputs": [],
   "source": []
  }
 ],
 "metadata": {
  "kernelspec": {
   "display_name": "Java",
   "language": "java",
   "name": "java"
  },
  "language_info": {
   "codemirror_mode": "java",
   "file_extension": ".java",
   "mimetype": "text/x-java-source",
   "name": "Java",
   "pygments_lexer": "java",
   "version": "11.0.2+9-LTS"
  }
 },
 "nbformat": 4,
 "nbformat_minor": 2
}
