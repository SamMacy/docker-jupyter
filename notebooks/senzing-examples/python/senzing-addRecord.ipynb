{
 "cells": [
  {
   "cell_type": "markdown",
   "metadata": {},
   "source": [
    "# Adding records\n",
    "\n",
    "The `addRecord()` method creates a JSON string with information about your Senzing version."
   ]
  },
  {
   "cell_type": "code",
   "execution_count": 1,
   "metadata": {},
   "outputs": [],
   "source": [
    "import os\n",
    "import sys\n",
    "import json\n",
    "\n",
    "# For RenderJSON\n",
    "\n",
    "import uuid\n",
    "from IPython.display import display_javascript, display_html, display"
   ]
  },
  {
   "cell_type": "markdown",
   "metadata": {},
   "source": [
    "## Helper class for JSON Rendering"
   ]
  },
  {
   "cell_type": "code",
   "execution_count": 2,
   "metadata": {},
   "outputs": [],
   "source": [
    "class RenderJSON(object):\n",
    "    def __init__(self, json_data):\n",
    "        if isinstance(json_data, dict):\n",
    "            self.json_str = json.dumps(json_data)\n",
    "        else:\n",
    "            self.json_str = json_data\n",
    "        self.uuid = str(uuid.uuid4())\n",
    "\n",
    "    def _ipython_display_(self):\n",
    "        display_html('<div id=\"{}\" style=\"height: 600px; width:100%;\"></div>'.format(self.uuid), raw=True)\n",
    "        display_javascript(\"\"\"\n",
    "        require([\"https://rawgit.com/caldwell/renderjson/master/renderjson.js\"], function() {\n",
    "        document.getElementById('%s').appendChild(renderjson(%s))\n",
    "        });\n",
    "        \"\"\" % (self.uuid, self.json_str), raw=True)"
   ]
  },
  {
   "cell_type": "markdown",
   "metadata": {},
   "source": [
    "## G2Engine\n",
    "\n",
    "The G2Engine API..."
   ]
  },
  {
   "cell_type": "code",
   "execution_count": 3,
   "metadata": {},
   "outputs": [],
   "source": [
    "from G2Engine import G2Engine"
   ]
  },
  {
   "cell_type": "markdown",
   "metadata": {},
   "source": [
    "## Initialize variables\n",
    "\n",
    "Create variables used in `addRecord()`."
   ]
  },
  {
   "cell_type": "code",
   "execution_count": 4,
   "metadata": {},
   "outputs": [],
   "source": [
    "module_name = 'pyG2EngineForAddRecord'\n",
    "senzing_directory = os.environ.get(\"SENZING_DIR\", \"/opt/senzing\")\n",
    "senzing_python_directory = \"{0}/g2/python\".format(senzing_directory)\n",
    "g2module_ini_pathname = \"{0}/G2Module.ini\".format(senzing_python_directory)\n",
    "verbose_logging = False\n",
    "config_id = bytearray([])"
   ]
  },
  {
   "cell_type": "markdown",
   "metadata": {},
   "source": [
    "## System path\n",
    "\n",
    "Update system path."
   ]
  },
  {
   "cell_type": "code",
   "execution_count": 5,
   "metadata": {},
   "outputs": [],
   "source": [
    "sys.path.append(senzing_python_directory)"
   ]
  },
  {
   "cell_type": "markdown",
   "metadata": {},
   "source": [
    "## Initialization\n",
    "\n",
    "To start using Senzing G2Engine, create and initialize an instance.\n",
    "This should be done once per process.\n",
    "The `init()` method accepts the following parameters:\n",
    "\n",
    "- **module_name:** A short name given to this instance of the G2 engine (i.e. your G2Module object)\n",
    "- **g2module_ini_pathname:** A fully qualified path to the G2 engine INI file (often /opt/senzing/g2/python/G2Module.ini)\n",
    "- **verbose_logging:** A boolean which enables diagnostic logging - this will print a massive amount of information to stdout (default = False)\n",
    "- **config_id:** (optional) The identifier value for the engine configuration can be returned here.\n",
    "\n",
    "Calling this function will return \"0\" upon success."
   ]
  },
  {
   "cell_type": "code",
   "execution_count": 6,
   "metadata": {
    "scrolled": true
   },
   "outputs": [
    {
     "name": "stdout",
     "output_type": "stream",
     "text": [
      "Result: 0\n"
     ]
    }
   ],
   "source": [
    "g2_engine = G2Engine()\n",
    "result = g2_engine.init(module_name, g2module_ini_pathname, verbose_logging)\n",
    "\n",
    "print(\"Result: {0}\".format(result))"
   ]
  },
  {
   "cell_type": "markdown",
   "metadata": {},
   "source": [
    "## Prime Engine\n",
    "\n",
    "The `primeEngine()` method may optionally be called to pre-initialize some of the heavier weight internal resources of the G2 engine."
   ]
  },
  {
   "cell_type": "code",
   "execution_count": 7,
   "metadata": {},
   "outputs": [],
   "source": [
    "response = g2_engine.primeEngine()"
   ]
  },
  {
   "cell_type": "markdown",
   "metadata": {},
   "source": [
    "## addRecord()\n",
    "\n",
    "Once the Senzing engine is initialized, use addRecord() to load a record into the Senzing repository -- addRecord() can be called as many times as desired and from multiple threads at the same time. The addRecord() function returns \"0\" upon success, and accepts four parameters as input:\n",
    "\n",
    "- **datasource_code:** The name of the data source the record is associated with. This value is configurable to the system\n",
    "- **record_id:** The record ID, used to identify distinct records\n",
    "- **data_string:** A JSON document with the attribute data for the record\n",
    "- **load_id:** The observation load ID for the record; value can be null and will default to data_source\n"
   ]
  },
  {
   "cell_type": "code",
   "execution_count": 8,
   "metadata": {},
   "outputs": [
    {
     "name": "stdout",
     "output_type": "stream",
     "text": [
      "Result: 0\n"
     ]
    }
   ],
   "source": [
    "datasource_code = \"TEST\"\n",
    "record_id = \"1\"\n",
    "data = {\n",
    "    \"NAMES\": [{\n",
    "        \"NAME_TYPE\": \"PRIMARY\",\n",
    "        \"NAME_LAST\": \"Smith\",\n",
    "        \"NAME_FIRST\": \"John\",\n",
    "        \"NAME_MIDDLE\": \"M\"\n",
    "    }],\n",
    "    \"PASSPORT_NUMBER\": \"PP11111\",\n",
    "    \"PASSPORT_COUNTRY\": \"US\",\n",
    "    \"DRIVERS_LICENSE_NUMBER\": \"DL11111\",\n",
    "    \"SSN_NUMBER\": \"111-11-1111\"\n",
    "}\n",
    "data_string = json.dumps(data)\n",
    "load_id = None\n",
    "\n",
    "result = g2_engine.addRecord(datasource_code, record_id, data_string, load_id)\n",
    "\n",
    "print(\"Result: {0}\".format(result))"
   ]
  },
  {
   "cell_type": "markdown",
   "metadata": {},
   "source": [
    "## getRecord()\n",
    "\n",
    "Use `getRecord()` to retrieve a single record from the data repository; the record is assigned in JSON form to a user-designated buffer, and the function itself returns \"0\" upon success. Once the Senzing engine is initialized, `getRecord()` can be called as many times as desired and from multiple threads at the same time. The `getRecord()` function accepts the following parameters as input:\n",
    "\n",
    "- **datasource_code:** The name of the data source the record is associated with. This value is configurable to the system\n",
    "- **record_id:** The record ID, used to identify the record for retrieval\n",
    "- **response_bytearray:** A memory buffer for returning the response document; if an error occurred, an error response is stored here"
   ]
  },
  {
   "cell_type": "code",
   "execution_count": 9,
   "metadata": {},
   "outputs": [
    {
     "name": "stdout",
     "output_type": "stream",
     "text": [
      "Result: 0\n"
     ]
    },
    {
     "data": {
      "text/html": [
       "<div id=\"80b9fd50-dc25-490b-b532-d2db3befd363\" style=\"height: 600px; width:100%;\"></div>"
      ]
     },
     "metadata": {},
     "output_type": "display_data"
    },
    {
     "data": {
      "application/javascript": [
       "\n",
       "        require([\"https://rawgit.com/caldwell/renderjson/master/renderjson.js\"], function() {\n",
       "        document.getElementById('80b9fd50-dc25-490b-b532-d2db3befd363').appendChild(renderjson({\"JSON_DATA\": {\"NAMES\": [{\"NAME_TYPE\": \"PRIMARY\", \"NAME_LAST\": \"Smith\", \"NAME_FIRST\": \"John\", \"NAME_MIDDLE\": \"M\"}], \"PASSPORT_NUMBER\": \"PP11111\", \"PASSPORT_COUNTRY\": \"US\", \"DRIVERS_LICENSE_NUMBER\": \"DL11111\", \"SSN_NUMBER\": \"111-11-1111\", \"DATA_SOURCE\": \"TEST\", \"ENTITY_TYPE\": \"TEST\", \"DSRC_ACTION\": \"A\", \"LENS_CODE\": \"DEFAULT\", \"RECORD_ID\": \"1\"}, \"NAME_DATA\": [\"PRIMARY: Smith John M\"], \"ATTRIBUTE_DATA\": [], \"IDENTIFIER_DATA\": [\"DRLIC: DL11111\", \"PASSPORT: PP11111 US\", \"SSN: 111-11-1111\"], \"ADDRESS_DATA\": [], \"PHONE_DATA\": [], \"RELATIONSHIP_DATA\": [], \"ENTITY_DATA\": [], \"OTHER_DATA\": [], \"DATA_SOURCE\": \"TEST\", \"RECORD_ID\": \"1\", \"ENTITY_TYPE\": \"TEST\", \"ENTITY_KEY\": \"DC22202DD6CC5FFF711D866BCF1394489FFA9180\", \"OBS_ENT_HASH\": \"DC22202DD6CC5FFF711D866BCF1394489FFA9180\", \"LAST_SEEN_DT\": \"2019-07-12 17:10:25.831\"}))\n",
       "        });\n",
       "        "
      ]
     },
     "metadata": {},
     "output_type": "display_data"
    }
   ],
   "source": [
    "response_bytearray = bytearray()\n",
    "result = g2_engine.getRecord(datasource_code, record_id, response_bytearray)\n",
    "response_dictionary = json.loads(response_bytearray)\n",
    "\n",
    "print(\"Result: {0}\".format(result))\n",
    "RenderJSON(response_dictionary)"
   ]
  },
  {
   "cell_type": "markdown",
   "metadata": {},
   "source": [
    "## getEntityByRecordID()\n",
    "\n",
    "Use `getEntityByRecordID()` to retrieve entity data based on the record ID of a particular data record. This function accepts the following parameters as input:\n",
    "\n",
    "- **datasource_code:** The name of the data source the record is associated with. This value is configurable to the system\n",
    "- **record_id:** The record ID for a particular data record\n",
    "- **response_bytearray:** A memory buffer for returning the response document; if an error occurred, an error response is stored here."
   ]
  },
  {
   "cell_type": "code",
   "execution_count": 10,
   "metadata": {},
   "outputs": [
    {
     "name": "stdout",
     "output_type": "stream",
     "text": [
      "Result: 0\n"
     ]
    },
    {
     "data": {
      "text/html": [
       "<div id=\"39ec9d06-f3e3-494b-b388-34e4ff5762d8\" style=\"height: 600px; width:100%;\"></div>"
      ]
     },
     "metadata": {},
     "output_type": "display_data"
    },
    {
     "data": {
      "application/javascript": [
       "\n",
       "        require([\"https://rawgit.com/caldwell/renderjson/master/renderjson.js\"], function() {\n",
       "        document.getElementById('39ec9d06-f3e3-494b-b388-34e4ff5762d8').appendChild(renderjson({\"RESOLVED_ENTITY\": {\"ENTITY_ID\": 1, \"LENS_CODE\": \"DEFAULT\", \"ENTITY_NAME\": \"JOHN M SMITH\", \"FEATURES\": {\"DRLIC\": [{\"FEAT_DESC\": \"DL11111\", \"LIB_FEAT_ID\": 3, \"FEAT_DESC_VALUES\": [{\"FEAT_DESC\": \"DL11111\", \"LIB_FEAT_ID\": 3}]}], \"NAME\": [{\"FEAT_DESC\": \"JOHN M SMITH\", \"LIB_FEAT_ID\": 1, \"UTYPE_CODE\": \"PRIMARY\", \"FEAT_DESC_VALUES\": [{\"FEAT_DESC\": \"JOHN M SMITH\", \"LIB_FEAT_ID\": 1}]}], \"PASSPORT\": [{\"FEAT_DESC\": \"PP11111 US\", \"LIB_FEAT_ID\": 4, \"FEAT_DESC_VALUES\": [{\"FEAT_DESC\": \"PP11111 US\", \"LIB_FEAT_ID\": 4}]}], \"SSN\": [{\"FEAT_DESC\": \"111-11-1111\", \"LIB_FEAT_ID\": 2, \"FEAT_DESC_VALUES\": [{\"FEAT_DESC\": \"111-11-1111\", \"LIB_FEAT_ID\": 2}]}]}, \"RECORD_SUMMARY\": [{\"DATA_SOURCE\": \"TEST\", \"RECORD_COUNT\": 1, \"FIRST_SEEN_DT\": \"2019-07-12 16:52:11.319\", \"LAST_SEEN_DT\": \"2019-07-12 17:10:25.831\"}], \"LAST_SEEN_DT\": \"2019-07-12 17:10:25.831\", \"RECORDS\": [{\"JSON_DATA\": {\"NAMES\": [{\"NAME_TYPE\": \"PRIMARY\", \"NAME_LAST\": \"Smith\", \"NAME_FIRST\": \"John\", \"NAME_MIDDLE\": \"M\"}], \"PASSPORT_NUMBER\": \"PP11111\", \"PASSPORT_COUNTRY\": \"US\", \"DRIVERS_LICENSE_NUMBER\": \"DL11111\", \"SSN_NUMBER\": \"111-11-1111\", \"DATA_SOURCE\": \"TEST\", \"ENTITY_TYPE\": \"TEST\", \"DSRC_ACTION\": \"A\", \"LENS_CODE\": \"DEFAULT\", \"RECORD_ID\": \"1\"}, \"DATA_SOURCE\": \"TEST\", \"ENTITY_TYPE\": \"TEST\", \"ENTITY_KEY\": \"DC22202DD6CC5FFF711D866BCF1394489FFA9180\", \"ENTITY_NAME\": \"John M Smith\", \"RECORD_ID\": \"1\", \"MATCH_KEY\": \"\", \"MATCH_SCORE\": \"\", \"ERRULE_CODE\": \"\", \"REF_SCORE\": 0, \"MATCH_LEVEL\": 0, \"LAST_SEEN_DT\": \"2019-07-12 17:10:25.831\", \"NAME_DATA\": [\"PRIMARY: Smith John M\"], \"ATTRIBUTE_DATA\": [], \"IDENTIFIER_DATA\": [\"DRLIC: DL11111\", \"PASSPORT: PP11111 US\", \"SSN: 111-11-1111\"], \"ADDRESS_DATA\": [], \"PHONE_DATA\": [], \"RELATIONSHIP_DATA\": [], \"ENTITY_DATA\": [], \"OTHER_DATA\": []}]}, \"RELATED_ENTITIES\": []}))\n",
       "        });\n",
       "        "
      ]
     },
     "metadata": {},
     "output_type": "display_data"
    }
   ],
   "source": [
    "response_bytearray = bytearray()\n",
    "result = g2_engine.getEntityByRecordID(datasource_code, record_id, response_bytearray)\n",
    "response_dictionary = json.loads(response_bytearray)\n",
    "\n",
    "print(\"Result: {0}\".format(result))\n",
    "RenderJSON(response_dictionary)"
   ]
  },
  {
   "cell_type": "markdown",
   "metadata": {},
   "source": [
    "## getEntityByEntityID()\n",
    "\n",
    "Use `getEntityByEntityID()` to retrieve entity data based on the ID of a resolved identity. This function accepts the following parameters as input:\n",
    "\n",
    "- **entity_id:** The numeric ID of a resolved entity\n",
    "- **response_bytearray:** A memory buffer for returning the response document; if an error occurred, an error response is stored here."
   ]
  },
  {
   "cell_type": "code",
   "execution_count": 11,
   "metadata": {},
   "outputs": [
    {
     "name": "stdout",
     "output_type": "stream",
     "text": [
      "Result: 0\n"
     ]
    },
    {
     "data": {
      "text/html": [
       "<div id=\"826701e2-5853-433e-9b75-be2d6777c1a2\" style=\"height: 600px; width:100%;\"></div>"
      ]
     },
     "metadata": {},
     "output_type": "display_data"
    },
    {
     "data": {
      "application/javascript": [
       "\n",
       "        require([\"https://rawgit.com/caldwell/renderjson/master/renderjson.js\"], function() {\n",
       "        document.getElementById('826701e2-5853-433e-9b75-be2d6777c1a2').appendChild(renderjson({\"RESOLVED_ENTITY\": {\"ENTITY_ID\": 1, \"LENS_CODE\": \"DEFAULT\", \"ENTITY_NAME\": \"JOHN M SMITH\", \"FEATURES\": {\"DRLIC\": [{\"FEAT_DESC\": \"DL11111\", \"LIB_FEAT_ID\": 3, \"FEAT_DESC_VALUES\": [{\"FEAT_DESC\": \"DL11111\", \"LIB_FEAT_ID\": 3}]}], \"NAME\": [{\"FEAT_DESC\": \"JOHN M SMITH\", \"LIB_FEAT_ID\": 1, \"UTYPE_CODE\": \"PRIMARY\", \"FEAT_DESC_VALUES\": [{\"FEAT_DESC\": \"JOHN M SMITH\", \"LIB_FEAT_ID\": 1}]}], \"PASSPORT\": [{\"FEAT_DESC\": \"PP11111 US\", \"LIB_FEAT_ID\": 4, \"FEAT_DESC_VALUES\": [{\"FEAT_DESC\": \"PP11111 US\", \"LIB_FEAT_ID\": 4}]}], \"SSN\": [{\"FEAT_DESC\": \"111-11-1111\", \"LIB_FEAT_ID\": 2, \"FEAT_DESC_VALUES\": [{\"FEAT_DESC\": \"111-11-1111\", \"LIB_FEAT_ID\": 2}]}]}, \"RECORD_SUMMARY\": [{\"DATA_SOURCE\": \"TEST\", \"RECORD_COUNT\": 1, \"FIRST_SEEN_DT\": \"2019-07-12 16:52:11.319\", \"LAST_SEEN_DT\": \"2019-07-12 17:10:25.831\"}], \"LAST_SEEN_DT\": \"2019-07-12 17:10:25.831\", \"RECORDS\": [{\"JSON_DATA\": {\"NAMES\": [{\"NAME_TYPE\": \"PRIMARY\", \"NAME_LAST\": \"Smith\", \"NAME_FIRST\": \"John\", \"NAME_MIDDLE\": \"M\"}], \"PASSPORT_NUMBER\": \"PP11111\", \"PASSPORT_COUNTRY\": \"US\", \"DRIVERS_LICENSE_NUMBER\": \"DL11111\", \"SSN_NUMBER\": \"111-11-1111\", \"DATA_SOURCE\": \"TEST\", \"ENTITY_TYPE\": \"TEST\", \"DSRC_ACTION\": \"A\", \"LENS_CODE\": \"DEFAULT\", \"RECORD_ID\": \"1\"}, \"DATA_SOURCE\": \"TEST\", \"ENTITY_TYPE\": \"TEST\", \"ENTITY_KEY\": \"DC22202DD6CC5FFF711D866BCF1394489FFA9180\", \"ENTITY_NAME\": \"John M Smith\", \"RECORD_ID\": \"1\", \"MATCH_KEY\": \"\", \"MATCH_SCORE\": \"\", \"ERRULE_CODE\": \"\", \"REF_SCORE\": 0, \"MATCH_LEVEL\": 0, \"LAST_SEEN_DT\": \"2019-07-12 17:10:25.831\", \"NAME_DATA\": [\"PRIMARY: Smith John M\"], \"ATTRIBUTE_DATA\": [], \"IDENTIFIER_DATA\": [\"DRLIC: DL11111\", \"PASSPORT: PP11111 US\", \"SSN: 111-11-1111\"], \"ADDRESS_DATA\": [], \"PHONE_DATA\": [], \"RELATIONSHIP_DATA\": [], \"ENTITY_DATA\": [], \"OTHER_DATA\": []}]}, \"RELATED_ENTITIES\": []}))\n",
       "        });\n",
       "        "
      ]
     },
     "metadata": {},
     "output_type": "display_data"
    }
   ],
   "source": [
    "entity_id = 1\n",
    "response_bytearray = bytearray()\n",
    "result = g2_engine.getEntityByEntityID(entity_id, response_bytearray)\n",
    "response_dictionary = json.loads(response_bytearray)\n",
    "\n",
    "print(\"Result: {0}\".format(result))\n",
    "RenderJSON(response_dictionary)"
   ]
  },
  {
   "cell_type": "markdown",
   "metadata": {},
   "source": [
    "## searchByAttributes()\n",
    "\n",
    "Use `searchByAttributes()` to retrieve entity data based on a user-specified set of entity attributes. This function accepts the following parameters as input:\n",
    "\n",
    "- **data_string:** A JSON document with the attribute data to search for\n",
    "- **response_bytearray:** A memory buffer for returning the response document; if an error occurred, an error response is stored here."
   ]
  },
  {
   "cell_type": "code",
   "execution_count": 12,
   "metadata": {},
   "outputs": [
    {
     "name": "stdout",
     "output_type": "stream",
     "text": [
      "Result: 0\n"
     ]
    },
    {
     "data": {
      "text/html": [
       "<div id=\"69b97348-e7f7-47e7-aa6f-1d57677abf91\" style=\"height: 600px; width:100%;\"></div>"
      ]
     },
     "metadata": {},
     "output_type": "display_data"
    },
    {
     "data": {
      "application/javascript": [
       "\n",
       "        require([\"https://rawgit.com/caldwell/renderjson/master/renderjson.js\"], function() {\n",
       "        document.getElementById('69b97348-e7f7-47e7-aa6f-1d57677abf91').appendChild(renderjson({\"SEARCH_RESPONSE\": {\"RESOLVED_ENTITIES\": [{\"LENS_CODE\": \"DEFAULT\", \"ENTITY_ID\": 1, \"MATCH_LEVEL\": 1, \"MATCH_KEY\": \"+NAME+SSN+DRLIC+PASSPORT\", \"MATCH_SCORE\": \"20\", \"ERRULE_CODE\": \"SF1_CNAME\", \"REF_SCORE\": 8, \"ENTITY_NAME\": \"JOHN M SMITH\", \"FEATURES\": {\"DRLIC\": [{\"FEAT_DESC\": \"DL11111\", \"LIB_FEAT_ID\": 3, \"FEAT_DESC_VALUES\": [{\"FEAT_DESC\": \"DL11111\", \"LIB_FEAT_ID\": 3}]}], \"NAME\": [{\"FEAT_DESC\": \"JOHN M SMITH\", \"LIB_FEAT_ID\": 1, \"UTYPE_CODE\": \"PRIMARY\", \"FEAT_DESC_VALUES\": [{\"FEAT_DESC\": \"JOHN M SMITH\", \"LIB_FEAT_ID\": 1}]}], \"PASSPORT\": [{\"FEAT_DESC\": \"PP11111 US\", \"LIB_FEAT_ID\": 4, \"FEAT_DESC_VALUES\": [{\"FEAT_DESC\": \"PP11111 US\", \"LIB_FEAT_ID\": 4}]}], \"SSN\": [{\"FEAT_DESC\": \"111-11-1111\", \"LIB_FEAT_ID\": 2, \"FEAT_DESC_VALUES\": [{\"FEAT_DESC\": \"111-11-1111\", \"LIB_FEAT_ID\": 2}]}]}, \"MATCH_SCORES\": {\"DRLIC\": [{\"INBOUND_FEAT\": \"DL11111\", \"CANDIDATE_FEAT\": \"DL11111\", \"FULL_SCORE\": 100}], \"NAME\": [{\"INBOUND_FEAT\": \"JOHN M SMITH\", \"CANDIDATE_FEAT\": \"JOHN M SMITH\", \"GNR_FN\": 95, \"GNR_SN\": 100, \"GNR_GN\": 95, \"GENERATION_MATCH\": -1, \"GNR_ON\": -1}], \"PASSPORT\": [{\"INBOUND_FEAT\": \"PP11111 US\", \"CANDIDATE_FEAT\": \"PP11111 US\", \"FULL_SCORE\": 100}], \"SSN\": [{\"INBOUND_FEAT\": \"111-11-1111\", \"CANDIDATE_FEAT\": \"111-11-1111\", \"FULL_SCORE\": 100}]}, \"RECORDS\": [{\"JSON_DATA\": {\"NAMES\": [{\"NAME_TYPE\": \"PRIMARY\", \"NAME_LAST\": \"Smith\", \"NAME_FIRST\": \"John\", \"NAME_MIDDLE\": \"M\"}], \"PASSPORT_NUMBER\": \"PP11111\", \"PASSPORT_COUNTRY\": \"US\", \"DRIVERS_LICENSE_NUMBER\": \"DL11111\", \"SSN_NUMBER\": \"111-11-1111\", \"DATA_SOURCE\": \"TEST\", \"ENTITY_TYPE\": \"TEST\", \"DSRC_ACTION\": \"A\", \"LENS_CODE\": \"DEFAULT\", \"RECORD_ID\": \"1\"}, \"DATA_SOURCE\": \"TEST\", \"ENTITY_TYPE\": \"TEST\", \"ENTITY_KEY\": \"DC22202DD6CC5FFF711D866BCF1394489FFA9180\", \"ENTITY_NAME\": \"John M Smith\", \"RECORD_ID\": \"1\", \"MATCH_KEY\": \"\", \"MATCH_SCORE\": \"\", \"ERRULE_CODE\": \"\", \"REF_SCORE\": 0, \"MATCH_LEVEL\": 0, \"LAST_SEEN_DT\": \"2019-07-12 17:10:25.831\", \"NAME_DATA\": [\"PRIMARY: Smith John M\"], \"ATTRIBUTE_DATA\": [], \"IDENTIFIER_DATA\": [\"DRLIC: DL11111\", \"PASSPORT: PP11111 US\", \"SSN: 111-11-1111\"], \"ADDRESS_DATA\": [], \"PHONE_DATA\": [], \"RELATIONSHIP_DATA\": [], \"ENTITY_DATA\": [], \"OTHER_DATA\": []}], \"RECORD_SUMMARY\": [{\"DATA_SOURCE\": \"TEST\", \"RECORD_COUNT\": 1, \"FIRST_SEEN_DT\": \"2019-07-12 16:52:11.319\", \"LAST_SEEN_DT\": \"2019-07-12 17:10:25.831\"}], \"LAST_SEEN_DT\": \"2019-07-12 17:10:25.831\"}]}}))\n",
       "        });\n",
       "        "
      ]
     },
     "metadata": {},
     "output_type": "display_data"
    }
   ],
   "source": [
    "response_bytearray = bytearray()\n",
    "result = g2_engine.searchByAttributes(data_string, response_bytearray)\n",
    "response_dictionary = json.loads(response_bytearray)\n",
    "\n",
    "print(\"Result: {0}\".format(result))\n",
    "RenderJSON(response_dictionary)"
   ]
  }
 ],
 "metadata": {
  "kernelspec": {
   "display_name": "Python 3",
   "language": "python",
   "name": "python3"
  },
  "language_info": {
   "codemirror_mode": {
    "name": "ipython",
    "version": 3
   },
   "file_extension": ".py",
   "mimetype": "text/x-python",
   "name": "python",
   "nbconvert_exporter": "python",
   "pygments_lexer": "ipython3",
   "version": "3.7.3"
  }
 },
 "nbformat": 4,
 "nbformat_minor": 2
}
