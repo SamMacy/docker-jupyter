{
 "cells": [
  {
   "cell_type": "markdown",
   "metadata": {},
   "source": [
    "# Add DataSource\n",
    "\n",
    "The `addDataSource()` method adds a datasource to the list of accepted datasources."
   ]
  },
  {
   "cell_type": "code",
   "execution_count": null,
   "metadata": {},
   "outputs": [],
   "source": [
    "import os\n",
    "import sys\n",
    "import json\n",
    "\n",
    "# For RenderJSON\n",
    "\n",
    "import uuid\n",
    "from IPython.display import display_javascript, display_html, display"
   ]
  },
  {
   "cell_type": "markdown",
   "metadata": {},
   "source": [
    "## Helper class for JSON Rendering"
   ]
  },
  {
   "cell_type": "code",
   "execution_count": null,
   "metadata": {},
   "outputs": [],
   "source": [
    "class RenderJSON(object):\n",
    "    def __init__(self, json_data):\n",
    "        if isinstance(json_data, dict):\n",
    "            self.json_str = json.dumps(json_data)\n",
    "        else:\n",
    "            self.json_str = json_data\n",
    "        self.uuid = str(uuid.uuid4())\n",
    "\n",
    "    def _ipython_display_(self):\n",
    "        display_html('<div id=\"{}\" style=\"height: 600px; width:100%;\"></div>'.format(self.uuid), raw=True)\n",
    "        display_javascript(\"\"\"\n",
    "        require([\"https://rawgit.com/caldwell/renderjson/master/renderjson.js\"], function() {\n",
    "        document.getElementById('%s').appendChild(renderjson(%s))\n",
    "        });\n",
    "        \"\"\" % (self.uuid, self.json_str), raw=True)"
   ]
  },
  {
   "cell_type": "markdown",
   "metadata": {},
   "source": [
    "## G2Config\n",
    "\n",
    "The G2Config API..."
   ]
  },
  {
   "cell_type": "code",
   "execution_count": null,
   "metadata": {},
   "outputs": [],
   "source": [
    "from G2Config import G2Config"
   ]
  },
  {
   "cell_type": "markdown",
   "metadata": {},
   "source": [
    "## Initialize variables\n",
    "\n",
    "Create variables used in `addDataSource()`."
   ]
  },
  {
   "cell_type": "code",
   "execution_count": null,
   "metadata": {},
   "outputs": [],
   "source": [
    "module_name = 'pyG2ConfigForAddDatasource'\n",
    "senzing_directory = os.environ.get(\"SENZING_DIR\", \"/opt/senzing\")\n",
    "senzing_python_directory = \"{0}/g2/python\".format(senzing_directory)\n",
    "g2module_ini_pathname = \"{0}/G2Module.ini\".format(senzing_python_directory)\n",
    "verbose_logging = False"
   ]
  },
  {
   "cell_type": "markdown",
   "metadata": {},
   "source": [
    "## System path\n",
    "\n",
    "Update system path."
   ]
  },
  {
   "cell_type": "code",
   "execution_count": null,
   "metadata": {},
   "outputs": [],
   "source": [
    "sys.path.append(senzing_python_directory)"
   ]
  },
  {
   "cell_type": "markdown",
   "metadata": {},
   "source": [
    "## Initialization\n",
    "\n",
    "To start using Senzing G2Engine, create and initialize an instance.\n",
    "This should be done once per process.\n",
    "The `init()` method accepts the following parameters:\n",
    "\n",
    "- **module_name:** A short name given to this instance of the G2 engine (i.e. your G2Module object)\n",
    "- **g2module_ini_pathname:** A fully qualified path to the G2 engine INI file (often /opt/senzing/g2/python/G2Module.ini)\n",
    "- **verbose_logging:** A boolean which enables diagnostic logging - this will print a massive amount of information to stdout (default = False)\n",
    "\n",
    "Calling this function will return \"0\" upon success."
   ]
  },
  {
   "cell_type": "code",
   "execution_count": null,
   "metadata": {},
   "outputs": [],
   "source": [
    "g2_config = G2Config()\n",
    "result = g2_config.init(module_name, g2module_ini_pathname, verbose_logging)\n",
    "\n",
    "print(result)"
   ]
  },
  {
   "cell_type": "markdown",
   "metadata": {},
   "source": [
    "## Create configuration handle"
   ]
  },
  {
   "cell_type": "code",
   "execution_count": null,
   "metadata": {},
   "outputs": [],
   "source": [
    "config_handle = g2_config.create()"
   ]
  },
  {
   "cell_type": "markdown",
   "metadata": {},
   "source": [
    "## listDataSources()\n",
    "\n",
    "Call G2Config's `listDataSources()` method and pretty-print results."
   ]
  },
  {
   "cell_type": "code",
   "execution_count": null,
   "metadata": {},
   "outputs": [],
   "source": [
    "response_bytearray = bytearray()\n",
    "result = g2_config.listDataSources(config_handle, response_bytearray)\n",
    "response_dictionary = json.loads(response_bytearray)\n",
    "\n",
    "print(\"Result: {0}\".format(result))\n",
    "RenderJSON(response_dictionary)"
   ]
  },
  {
   "cell_type": "markdown",
   "metadata": {},
   "source": [
    "## addDataSource()\n",
    "\n",
    "Call G2Config's `addDataSource()` method and pretty-print results."
   ]
  },
  {
   "cell_type": "code",
   "execution_count": null,
   "metadata": {},
   "outputs": [],
   "source": [
    "datasource_code = \"CUSTOMER\"\n",
    "result = g2_config.addDataSource(config_handle, datasource_code)\n",
    "\n",
    "print(result)"
   ]
  },
  {
   "cell_type": "markdown",
   "metadata": {},
   "source": [
    "## listDataSources() again\n",
    "\n",
    "Call G2Config's `listDataSources()` method and pretty-print results.\n",
    "Notice that the list now contains the newly added datasource_code of \"CUSTOMER\"."
   ]
  },
  {
   "cell_type": "code",
   "execution_count": null,
   "metadata": {},
   "outputs": [],
   "source": [
    "response_bytearray = bytearray()\n",
    "result = g2_config.listDataSources(config_handle, response_bytearray)\n",
    "response_dictionary = json.loads(response_bytearray)\n",
    "\n",
    "print(\"Result: {0}\".format(result))\n",
    "RenderJSON(response_dictionary)"
   ]
  },
  {
   "cell_type": "markdown",
   "metadata": {},
   "source": [
    "## Close configuration handle"
   ]
  },
  {
   "cell_type": "code",
   "execution_count": null,
   "metadata": {},
   "outputs": [],
   "source": [
    "g2_config.close(config_handle)"
   ]
  }
 ],
 "metadata": {
  "kernelspec": {
   "display_name": "Python 3",
   "language": "python",
   "name": "python3"
  },
  "language_info": {
   "codemirror_mode": {
    "name": "ipython",
    "version": 3
   },
   "file_extension": ".py",
   "mimetype": "text/x-python",
   "name": "python",
   "nbconvert_exporter": "python",
   "pygments_lexer": "ipython3",
   "version": "3.7.3"
  }
 },
 "nbformat": 4,
 "nbformat_minor": 2
}
