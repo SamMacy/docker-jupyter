{
 "cells": [
  {
   "cell_type": "markdown",
   "metadata": {},
   "source": [
    "# Version\n",
    "\n",
    "The `version()` method creates a JSON string with information about your Senzing version."
   ]
  },
  {
   "cell_type": "code",
   "execution_count": null,
   "metadata": {},
   "outputs": [],
   "source": [
    "import os\n",
    "import sys\n",
    "import json"
   ]
  },
  {
   "cell_type": "markdown",
   "metadata": {},
   "source": [
    "## G2Product\n",
    "\n",
    "The G2Product API..."
   ]
  },
  {
   "cell_type": "code",
   "execution_count": null,
   "metadata": {},
   "outputs": [],
   "source": [
    "from G2Product import G2Product"
   ]
  },
  {
   "cell_type": "markdown",
   "metadata": {},
   "source": [
    "## Initialize variables\n",
    "\n",
    "Create variables needed to invoke `version()`."
   ]
  },
  {
   "cell_type": "code",
   "execution_count": null,
   "metadata": {},
   "outputs": [],
   "source": [
    "module_name = 'pyG2ProductForVersion'\n",
    "senzing_python_directory = \"/opt/senzing/g2/python\"\n",
    "verbose_logging = False\n",
    "\n",
    "config_dict = {\n",
    "    \"PIPELINE\": {\n",
    "        \"CONFIGPATH\": \"/etc/opt/senzing\",        \n",
    "        \"SUPPORTPATH\": \"/opt/senzing/data\",\n",
    "        \"RESOURCEPATH\": \"/opt/senzing/g2/resources\"\n",
    "    },\n",
    "    \"SQL\": {\n",
    "        \"CONNECTION\": \"sqlite3://na:na@/var/opt/senzing/sqlite/G2C.db\",\n",
    "    }\n",
    "}\n",
    "config_json = json.dumps(config_dict)"
   ]
  },
  {
   "cell_type": "markdown",
   "metadata": {},
   "source": [
    "## System path\n",
    "\n",
    "Update system path."
   ]
  },
  {
   "cell_type": "code",
   "execution_count": null,
   "metadata": {},
   "outputs": [],
   "source": [
    "sys.path.append(senzing_python_directory)"
   ]
  },
  {
   "cell_type": "markdown",
   "metadata": {},
   "source": [
    "## Initialization\n",
    "\n",
    "To start using Senzing G2Product, create and initialize an instance.\n",
    "This should be done once per process.\n",
    "The `initV2()` method accepts the following parameters:\n",
    "\n",
    "- **module_name:** A short name given to this instance of the G2Product object.\n",
    "- **config_json:** A JSON string containing configuration parameters.\n",
    "- **verbose_logging:** A boolean which enables diagnostic logging.\n",
    "\n",
    "Calling this function will return \"0\" upon success. "
   ]
  },
  {
   "cell_type": "code",
   "execution_count": null,
   "metadata": {},
   "outputs": [],
   "source": [
    "g2_product = G2Product()\n",
    "return_code = g2_product.initV2(module_name, config_json, verbose_logging)\n",
    "\n",
    "print(\"Return Code: {0}\".format(return_code))"
   ]
  },
  {
   "cell_type": "markdown",
   "metadata": {},
   "source": [
    "## version()\n",
    "\n",
    "Call G2Product's `version()` method and pretty-print results."
   ]
  },
  {
   "cell_type": "code",
   "execution_count": null,
   "metadata": {},
   "outputs": [],
   "source": [
    "version_string = g2_product.version()\n",
    "\n",
    "version_dictionary = json.loads(version_string)\n",
    "version = json.dumps(version_dictionary, sort_keys=True, indent=4)\n",
    "print(version)"
   ]
  }
 ],
 "metadata": {
  "kernelspec": {
   "display_name": "Python 3",
   "language": "python",
   "name": "python3"
  },
  "language_info": {
   "codemirror_mode": {
    "name": "ipython",
    "version": 3
   },
   "file_extension": ".py",
   "mimetype": "text/x-python",
   "name": "python",
   "nbconvert_exporter": "python",
   "pygments_lexer": "ipython3",
   "version": "3.7.3"
  }
 },
 "nbformat": 4,
 "nbformat_minor": 2
}
