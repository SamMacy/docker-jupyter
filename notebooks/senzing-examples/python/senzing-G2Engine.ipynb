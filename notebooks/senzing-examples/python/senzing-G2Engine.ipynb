{
 "cells": [
  {
   "cell_type": "markdown",
   "metadata": {},
   "source": [
    "# G2Engine"
   ]
  },
  {
   "cell_type": "code",
   "execution_count": null,
   "metadata": {},
   "outputs": [],
   "source": [
    "import os\n",
    "import sys\n",
    "import json\n",
    "\n",
    "# For RenderJSON\n",
    "\n",
    "import uuid\n",
    "from IPython.display import display_javascript, display_html, display"
   ]
  },
  {
   "cell_type": "markdown",
   "metadata": {},
   "source": [
    "## Helper class for JSON rendering"
   ]
  },
  {
   "cell_type": "code",
   "execution_count": null,
   "metadata": {},
   "outputs": [],
   "source": [
    "class RenderJSON(object):\n",
    "    def __init__(self, json_data):\n",
    "        if isinstance(json_data, dict):\n",
    "            self.json_str = json.dumps(json_data)\n",
    "        else:\n",
    "            self.json_str = json_data\n",
    "        self.uuid = str(uuid.uuid4())\n",
    "\n",
    "    def _ipython_display_(self):\n",
    "        display_html('<div id=\"{}\" style=\"height: 600px; width:100%; background-color: LightCyan\"></div>'.format(self.uuid), raw=True)\n",
    "        display_javascript(\"\"\"\n",
    "        require([\"https://rawgit.com/caldwell/renderjson/master/renderjson.js\"], function() {\n",
    "        document.getElementById('%s').appendChild(renderjson(%s))\n",
    "        });\n",
    "        \"\"\" % (self.uuid, self.json_str), raw=True)"
   ]
  },
  {
   "cell_type": "markdown",
   "metadata": {},
   "source": [
    "## System path\n",
    "\n",
    "Update system path."
   ]
  },
  {
   "cell_type": "code",
   "execution_count": null,
   "metadata": {},
   "outputs": [],
   "source": [
    "sys.path.append('/opt/senzing/g2/python')"
   ]
  },
  {
   "cell_type": "markdown",
   "metadata": {},
   "source": [
    "# G2Engine\n",
    "The G2Engine API..."
   ]
  },
  {
   "cell_type": "code",
   "execution_count": null,
   "metadata": {},
   "outputs": [],
   "source": [
    "from G2Engine import G2Engine\n",
    "import G2Exception"
   ]
  },
  {
   "cell_type": "markdown",
   "metadata": {},
   "source": [
    "## Initialize variables\n",
    "\n",
    "Create variables used for G2Engine."
   ]
  },
  {
   "cell_type": "code",
   "execution_count": null,
   "metadata": {},
   "outputs": [],
   "source": [
    "module_name = 'pyG2EngineForAddRecord'\n",
    "senzing_python_directory = \"/opt/senzing/g2/python\"\n",
    "verbose_logging = False\n",
    "\n",
    "config_dict = {\n",
    "    \"PIPELINE\": {\n",
    "        \"CONFIGPATH\": \"/etc/opt/senzing\",        \n",
    "        \"SUPPORTPATH\": \"/opt/senzing/data\",\n",
    "        \"RESOURCEPATH\": \"/opt/senzing/g2/resources\"\n",
    "    },\n",
    "    \"SQL\": {\n",
    "        \"CONNECTION\": \"sqlite3://na:na@/var/opt/senzing/sqlite/G2C.db\",\n",
    "    }\n",
    "}\n",
    "config_json = json.dumps(config_dict)"
   ]
  },
  {
   "cell_type": "markdown",
   "metadata": {},
   "source": [
    "## Initialization\n",
    "\n",
    "To start using Senzing G2Engine, create and initialize an instance.\n",
    "This should be done once per process.\n",
    "The `initV2()` method accepts the following parameters:\n",
    "\n",
    "- **module_name:** A short name given to this instance of the G2Engine object.\n",
    "- **config_json:** A JSON string containing configuration parameters.\n",
    "- **verbose_logging:** A boolean which enables diagnostic logging.\n",
    "- **config_id:** (optional) The identifier value for the engine configuration can be returned here.\n",
    "\n",
    "Calling this function will return \"0\" upon success."
   ]
  },
  {
   "cell_type": "code",
   "execution_count": null,
   "metadata": {
    "scrolled": false
   },
   "outputs": [],
   "source": [
    "g2_engine = G2Engine()\n",
    "return_code = g2_engine.initV2(module_name, config_json, verbose_logging)\n",
    "print(\"Return Code: {0}\".format(return_code))"
   ]
  },
  {
   "cell_type": "markdown",
   "metadata": {},
   "source": [
    "## Prime Engine\n",
    "\n",
    "The `primeEngine()` method may optionally be called to pre-initialize some of the heavier weight internal resources of the G2 engine."
   ]
  },
  {
   "cell_type": "code",
   "execution_count": null,
   "metadata": {},
   "outputs": [],
   "source": [
    "return_code = g2_engine.primeEngine()\n",
    "print(\"Return Code: {0}\".format(return_code))"
   ]
  },
  {
   "cell_type": "markdown",
   "metadata": {},
   "source": [
    "## Parameters\n",
    "\n",
    "The following variables are used as parameters to the Senzing API."
   ]
  },
  {
   "cell_type": "code",
   "execution_count": null,
   "metadata": {},
   "outputs": [],
   "source": [
    "datasource_code_1 = \"TEST\"\n",
    "record_id_1 = \"1\"\n",
    "datasource_code_2 = \"TEST\"\n",
    "record_id_2 = \"2\"\n",
    "datasource_code_3 = \"TEST\"\n",
    "record_id_3 = \"3\"\n",
    "datasource_code_4 = \"TEST\"\n",
    "record_id_4 = \"4\"\n",
    "datasource_code_5 = \"TEST\"\n",
    "record_id_5 = \"5\"\n",
    "datasource_code_6 = \"TEST\"\n",
    "record_id_6 = \"6\"\n",
    "datasource_code_7 = \"TEST\"\n",
    "record_id_7 = \"7\"\n",
    "\n",
    "load_id = None\n",
    "flags = G2Engine.G2_EXPORT_DEFAULT_FLAGS"
   ]
  },
  {
   "cell_type": "markdown",
   "metadata": {},
   "source": [
    "Initial data."
   ]
  },
  {
   "cell_type": "code",
   "execution_count": null,
   "metadata": {},
   "outputs": [],
   "source": [
    "data = {\n",
    "    \"NAMES\": [{\n",
    "        \"NAME_TYPE\": \"PRIMARY\",\n",
    "        \"NAME_LAST\": \"Smith\",\n",
    "        \"NAME_FIRST\": \"John\",\n",
    "        \"NAME_MIDDLE\": \"M\"\n",
    "    }],\n",
    "    \"PASSPORT_NUMBER\": \"PP11111\",\n",
    "    \"PASSPORT_COUNTRY\": \"US\",\n",
    "    \"DRIVERS_LICENSE_NUMBER\": \"DL11111\",\n",
    "    \"SSN_NUMBER\": \"111-11-1111\"\n",
    "}\n",
    "data_as_json = json.dumps(data)"
   ]
  },
  {
   "cell_type": "markdown",
   "metadata": {},
   "source": [
    "## addRecord()\n",
    "\n",
    "Once the Senzing engine is initialized, use addRecord() to load a record into the Senzing repository -- addRecord() can be called as many times as desired and from multiple threads at the same time. The addRecord() function returns \"0\" upon success, and accepts four parameters as input:\n",
    "\n",
    "- **datasource_code:** The name of the data source the record is associated with. This value is configurable to the system\n",
    "- **record_id:** The record ID, used to identify distinct records\n",
    "- **data_as_json:** A JSON document with the attribute data for the record\n",
    "- **load_id:** The observation load ID for the record; value can be null and will default to data_source\n"
   ]
  },
  {
   "cell_type": "code",
   "execution_count": null,
   "metadata": {},
   "outputs": [],
   "source": [
    "return_code = g2_engine.addRecord(datasource_code_1, record_id_1, data_as_json, load_id)\n",
    "print(\"Return Code: {0}\".format(return_code))"
   ]
  },
  {
   "cell_type": "markdown",
   "metadata": {},
   "source": [
    "# Retrieve a Record\n",
    "Use getRecordV2() to retrieve a single record from the data repository; the record is assigned in JSON form to a user-designated buffer, and the function itself returns \"0\" upon success. Once the Senzing engine is initialized, getRecordV2() can be called as many times as desired and from multiple threads at the same time. The getRecordV2() function accepts the following parameters as input:\n",
    "\n",
    "- **datasource_code:** The name of the data source the record is associated with. This value is configurable to the system\n",
    "- **record_id:** The record ID, used to identify the record for retrieval\n",
    "- **flags:** Control flags for specifying what data about the record to retrieve\n",
    "- **response_bytearray:** A memory buffer for returning the response document; if an error occurred, an error response is stored here\n",
    "- **bufSize(C only):** The max number of bytes that can be stored in response. The response buffer MUST be able to hold at least this many bytes\n",
    "- **resizeFunc (C only):** A function pointer that can be used to resize the memory buffer specified in the response argument. This function will be called to allocate more memory if the response buffer is not large enough. This argument may be NULL. If so, the function will return an error if the result is larger than the buffer"
   ]
  },
  {
   "cell_type": "code",
   "execution_count": null,
   "metadata": {
    "scrolled": true
   },
   "outputs": [],
   "source": [
    "response_bytearray = bytearray(\"\", 'utf-8')\n",
    "return_code = g2_engine.getRecordV2(datasource_code_1, record_id_1, flags, response_bytearray)\n",
    "response_dictionary = json.loads(response_bytearray)\n",
    "\n",
    "print(\"Return Code: {0}\".format(return_code))\n",
    "RenderJSON(response_dictionary)"
   ]
  },
  {
   "cell_type": "markdown",
   "metadata": {},
   "source": [
    "The function `getRecordV2()` is an improved version of `getRecord()` that also allows you to use control flags. The `getRecord()` function has been deprecated."
   ]
  },
  {
   "cell_type": "markdown",
   "metadata": {},
   "source": [
    "## Entity Search\n",
    "##### By Record\n",
    "\n",
    "Entity searching is a key component for interactive use of Entity Resolution intelligence. The core Senzing engine provides real-time search capabilities that are easily accessed via the Senzing API. Senzing offers methods for entity searching, all of which can be called as many times as desired and from multiple threads at the same time (and all of which return \"0\" upon success) .\n",
    "\n",
    "Use `getEntityByRecordIDV2()` to retrieve entity data based on the ID of a resolved identity. This function accepts the following parameters as input:\n",
    "\n",
    "- **datasource_code:** The name of the data source the record is associated with. This value is configurable to the system\n",
    "- **record_id:** The numeric ID of a resolved entity\n",
    "- **flags:** Control flags for specifying what data about the entity to retrieve\n",
    "- **response_bytearray:** A memory buffer for returning the response document; if an error occurred, an error response is stored here\n",
    "- **bufSize (C only):** The max number of bytes that can be stored in response. The response buffer MUST be able to hold at least this many bytes\n",
    "- **resizeFunc (C only):** A function pointer that can be used to resize the memory buffer specified in the response argument. This function will be called to allocate more memory if the response buffer is not large enough. This argument may be NULL. If so, the function will return an error if the result is larger than the buffer"
   ]
  },
  {
   "cell_type": "code",
   "execution_count": null,
   "metadata": {},
   "outputs": [],
   "source": [
    "response_bytearray = bytearray()\n",
    "return_code = g2_engine.getEntityByRecordIDV2(datasource_code_1, record_id_1, flags, response_bytearray)\n",
    "response_dictionary = json.loads(response_bytearray)\n",
    "\n",
    "entity_id_1 = response_dictionary[\"RESOLVED_ENTITY\"][\"ENTITY_ID\"]\n",
    "\n",
    "print(\"Return Code: {0}\".format(return_code))\n",
    "RenderJSON(response_dictionary)"
   ]
  },
  {
   "cell_type": "markdown",
   "metadata": {},
   "source": [
    "# Entity Search\n",
    "##### By Entity\n",
    "\n",
    "Entity searching is a key component for interactive use of Entity Resolution intelligence. The core Senzing engine provides real-time search capabilities that are easily accessed via the Senzing API. Senzing offers methods for entity searching, all of which can be called as many times as desired and from multiple threads at the same time (and all of which return \"0\" upon success) .\n",
    "\n",
    "Use `getEntityByEntityIDV2()` to retrieve entity data based on the ID of a resolved identity. This function accepts the following parameters as input:\n",
    "\n",
    "- **entity_id:** The numeric ID of a resolved entity\n",
    "- **flags:** Control flags for specifying what data about the entity to retrieve\n",
    "- **response_bytearray:** A memory buffer for returning the response document; if an error occurred, an error response is stored here\n",
    "- **bufSize (C only):** The max number of bytes that can be stored in response. The response buffer MUST be able to hold at least this many bytes\n",
    "- **resizeFunc (C only):** A function pointer that can be used to resize the memory buffer specified in the response argument. This function will be called to allocate more memory if the response buffer is not large enough. This argument may be NULL. If so, the function will return an error if the result is larger than the buffer"
   ]
  },
  {
   "cell_type": "code",
   "execution_count": null,
   "metadata": {
    "scrolled": true
   },
   "outputs": [],
   "source": [
    "response_bytearray = bytearray()\n",
    "return_code = g2_engine.getEntityByEntityIDV2(entity_id_1, flags, response_bytearray)\n",
    "response_dictionary = json.loads(response_bytearray)\n",
    "\n",
    "print(\"Return Code: {0}\".format(return_code))\n",
    "RenderJSON(response_dictionary)"
   ]
  },
  {
   "cell_type": "markdown",
   "metadata": {},
   "source": [
    "The `getEntityByEntityIDV2()` and `getEntityByRecordIDV2()` functions are improved versions of `getEntityByEntityID()` and `getEntityByRecordID()`.  The new function signatures have control flags. \n",
    "\n",
    "`getEntityByEntityID()` and `getEntityByRecordID()` functions are deprecated."
   ]
  },
  {
   "cell_type": "markdown",
   "metadata": {},
   "source": [
    "## Search By Attributes\n",
    "\n",
    "Entity searching is a key component for interactive use of Entity Resolution intelligence. The core Senzing engine provides real-time search capabilities that are easily accessed via the Senzing API. Senzing offers a method for entity searching by attributes, which can be called as many times as desired and from multiple threads at the same time (and all of which return \"0\" upon success) .\n",
    "\n",
    "Use `searchByAttributes()` to retrieve entity data based on a user-specified set of entity attributes. This function accepts the following parameters as input:\n",
    "\n",
    "- **data_as_json:** A JSON document with the attribute data to search for\n",
    "- **response_bytearray:** A memory buffer for returning the response document; if an error occurred, an error response is stored here\n",
    "- **bufSize (C only):** The max number of bytes that can be stored in response. The response buffer MUST be able to hold at least this many bytes\n",
    "- **resizeFunc (C only):** A function pointer that can be used to resize the memory buffer specified in the response argument. This function will be called to allocate more memory if the response buffer is not large enough. This argument may be NULL. If so, the function will return an error if the result is larger than the buffer"
   ]
  },
  {
   "cell_type": "code",
   "execution_count": null,
   "metadata": {
    "scrolled": true
   },
   "outputs": [],
   "source": [
    "response_bytearray = bytearray()\n",
    "return_code = g2_engine.searchByAttributes(data_as_json, response_bytearray)\n",
    "response_dictionary = json.loads(response_bytearray)\n",
    "\n",
    "print(\"Return Code: {0}\".format(return_code))\n",
    "RenderJSON(response_dictionary)"
   ]
  },
  {
   "cell_type": "markdown",
   "metadata": {},
   "source": [
    "## Search By Attributes V2\n",
    "\n",
    "This function is similar but preferable to the searchByAttributes() function. This function has improved functionality and a better standardized output structure.\n",
    "\n",
    "Use `searchByAttributesV2()` to retrieve entity data based on a user-specified set of entity attributes. This function accepts the following parameters as input:\n",
    "\n",
    "- **data_as_json:** A JSON document with the attribute data to search for\n",
    "- **flags:** Operational flags\n",
    "- **response_bytearray:** A memory buffer for returning the response document; if an error occurred, an error response is stored here\n",
    "- **bufSize (C only):** The max number of bytes that can be stored in response. The response buffer MUST be able to hold at least this many bytes\n",
    "- **resizeFunc (C only):** A function pointer that can be used to resize the memory buffer specified in the response argument. This function will be called to allocate more memory if the response buffer is not large enough. This argument may be NULL. If so, the function will return an error if the result is larger than the buffer"
   ]
  },
  {
   "cell_type": "code",
   "execution_count": null,
   "metadata": {
    "scrolled": true
   },
   "outputs": [],
   "source": [
    "response_bytearray = bytearray()\n",
    "return_code = g2_engine.searchByAttributesV2(data_as_json, flags, response_bytearray)\n",
    "response_dictionary = json.loads(response_bytearray)\n",
    "\n",
    "print(\"Return Code: {0}\".format(return_code))\n",
    "RenderJSON(response_dictionary)"
   ]
  },
  {
   "cell_type": "markdown",
   "metadata": {},
   "source": [
    "# Replace the record\n",
    "Use the `replaceRecord()` function to update or replace a record in the data repository (if record doesn't exist, a new record is added to the data repository. Like the above functions, `replaceRecord()` returns \"0\" upon success, and it can be called as many times as desired and from multiple threads at the same time. The `replaceRecord()` function accepts four parameters as input:\n",
    "\n",
    "- **datasource_code:** The name of the data source the record is associated with. This value is configurable to the system\n",
    "- **record_id:** The record ID, used to identify distinct records\n",
    "- **data_as_json:** A JSON document with the attribute data for the record\n",
    "- **load_id:** The observation load ID for the record; value can be null and will default to dataSourceCode"
   ]
  },
  {
   "cell_type": "code",
   "execution_count": null,
   "metadata": {},
   "outputs": [],
   "source": [
    "data = {\n",
    "    \"NAMES\": [{\n",
    "        \"NAME_TYPE\": \"PRIMARY\",\n",
    "        \"NAME_LAST\": \"Miller\",\n",
    "        \"NAME_FIRST\": \"John\",\n",
    "        \"NAME_MIDDLE\": \"M\"\n",
    "    }],\n",
    "    \"PASSPORT_NUMBER\": \"PP11111\",\n",
    "    \"PASSPORT_COUNTRY\": \"US\",\n",
    "    \"DRIVERS_LICENSE_NUMBER\": \"DL11111\",\n",
    "    \"SSN_NUMBER\": \"111-11-1111\"\n",
    "}\n",
    "data_as_json = json.dumps(data)\n",
    "\n",
    "return_code = g2_engine.replaceRecord(datasource_code_1, record_id_1, data_as_json, load_id)\n",
    "\n",
    "print(\"Return Code: {0}\".format(return_code))"
   ]
  },
  {
   "cell_type": "markdown",
   "metadata": {},
   "source": [
    "## Export JSON Entity Report\n",
    "\n",
    "There are three steps to exporting resolved entity data from the G2Engine object in JSON format. First, use the `exportJSONEntityReport()` method to generate a long integer, referred to here as an 'exportHandle'. The `exportJSONEntityReport()` method accepts one parameter as input:\n",
    "\n",
    "- **flags**: An integer specifying which entity details should be included in the export. See the \"Entity Export Flags\" section for further details.\n",
    "\n",
    "Second, use the fetchNext() method to read the exportHandle and export a row of JSON output containing the entity data for a single entity. Note that successive calls of fetchNext() will export successive rows of entity data. The fetchNext() method accepts the following parameters as input:\n",
    "\n",
    "- **export_handle:** A long integer from which resolved entity data may be read and exported\n",
    "- **response_bytearray:** A memory buffer for returning the response document; if an error occurred, an error response is stored here."
   ]
  },
  {
   "cell_type": "code",
   "execution_count": null,
   "metadata": {
    "scrolled": true
   },
   "outputs": [],
   "source": [
    "export_handle = g2_engine.exportJSONEntityReport(flags)\n",
    "\n",
    "while True:\n",
    "    response_bytearray = bytearray()\n",
    "    g2_engine.fetchNext(export_handle, response_bytearray)\n",
    "    if not response_bytearray:\n",
    "        break\n",
    "    response_dictionary = json.loads(response_bytearray)        \n",
    "    response = json.dumps(response_dictionary, sort_keys=True, indent=4)        \n",
    "    print(response)"
   ]
  },
  {
   "cell_type": "markdown",
   "metadata": {},
   "source": [
    "## Export CSV Entity Report\n",
    "\n",
    "There are three steps to exporting resolved entity data from the G2Engine object in CSV format. First, use the `exportCSVEntityReportV2()` method to generate a long integer, referred to here as an 'exportHandle'.\n",
    "\n",
    "The `exportCSVEntityReportV2()` method accepts these parameter as input:\n",
    "\n",
    "- **csv_column_list:** A comma-separated list of column names for the CSV export. (These are listed a little further down.)\n",
    "- **flags:** An integer specifying which entity details should be included in the export. See the \"Entity Export Flags\" section for further details.\n",
    "\n",
    "Second, use the `fetchNext()` method to read the exportHandle and export a row of CSV output containing the entity data for a single entity. Note that the first call of `fetchNext()` will yield a header row, and that successive calls of `fetchNext()` will export successive rows of entity data. The `fetchNext()` method accepts the following parameters as input:\n",
    "\n",
    "- **export_handle:** A long integer from which resolved entity data may be read and exported\n",
    "- **response_bytearray:** A memory buffer for returning the response document; if an error occurred, an error response is stored here\n",
    "- **bufSize (C only):** The max number of bytes that can be stored in response. The response buffer MUST be able to hold at least this many bytes"
   ]
  },
  {
   "cell_type": "code",
   "execution_count": null,
   "metadata": {},
   "outputs": [],
   "source": [
    "export_handle = g2_engine.exportCSVEntityReport(flags)\n",
    "\n",
    "while True:\n",
    "    response_bytearray = bytearray()\n",
    "    g2_engine.fetchNext(export_handle, response_bytearray)\n",
    "    if not response_bytearray:\n",
    "        break\n",
    "    print(response_bytearray.decode())"
   ]
  },
  {
   "cell_type": "markdown",
   "metadata": {},
   "source": [
    "## Finding Paths\n",
    "The `FindPathByEntityID()` and `FindPathByRecordID()` functions can be used to find single relationship paths between two entities. Paths are found using known relationships with other entities.\n",
    "\n",
    "Entities can be searched for by either Entity ID or by Record ID, depending on which function is chosen.\n",
    "\n",
    "These functions have the following parameters:\n",
    "\n",
    "- **entity_id_2:** The entity ID for the starting entity of the search path\n",
    "- **entity_id_3:** The entity ID for the ending entity of the search path\n",
    "- **datasource_code_2:** The data source for the starting entity of the search path\n",
    "- **datasource_code_3:** The data source for the ending entity of the search path\n",
    "- **record_id_2:** The record ID for the starting entity of the search path\n",
    "- **record_id_3:** The record ID for the ending entity of the search path\n",
    "- **max_degree:** The number of relationship degrees to search"
   ]
  },
  {
   "cell_type": "markdown",
   "metadata": {},
   "source": [
    "First you will need to create some records so that you have some that you can compare. Can you see what is the same between this record and the previous one?"
   ]
  },
  {
   "cell_type": "code",
   "execution_count": null,
   "metadata": {},
   "outputs": [],
   "source": [
    "data = {\n",
    "    \"NAMES\": [{\n",
    "        \"NAME_TYPE\": \"PRIMARY\",\n",
    "        \"NAME_LAST\": \"Miller\",\n",
    "        \"NAME_FIRST\": \"Max\",\n",
    "        \"NAME_MIDDLE\": \"W\"\n",
    "    }],\n",
    "    \"SSN_NUMBER\": \"111-11-1111\"\n",
    "}\n",
    "data_as_json = json.dumps(data)\n",
    "\n",
    "return_code = g2_engine.replaceRecord(datasource_code_2, record_id_2, data_as_json, None)\n",
    "\n",
    "print(\"Return Code: {0}\".format(return_code))"
   ]
  },
  {
   "cell_type": "markdown",
   "metadata": {},
   "source": [
    "Replace values for Record #3"
   ]
  },
  {
   "cell_type": "code",
   "execution_count": null,
   "metadata": {},
   "outputs": [],
   "source": [
    "data = {\n",
    "    \"NAMES\": [{\n",
    "        \"NAME_TYPE\": \"PRIMARY\",\n",
    "        \"NAME_LAST\": \"Miller\",\n",
    "        \"NAME_FIRST\": \"Mildred\"\n",
    "    }],\n",
    "    \"SSN_NUMBER\": \"111-11-1111\"\n",
    "}\n",
    "data_as_json = json.dumps(data)\n",
    "\n",
    "return_code = g2_engine.replaceRecord(datasource_code_3, record_id_3, data_as_json, None)\n",
    "\n",
    "print(\"Return Code: {0}\".format(return_code))"
   ]
  },
  {
   "cell_type": "markdown",
   "metadata": {},
   "source": [
    "Locate \"entity identifier\" for Record #1"
   ]
  },
  {
   "cell_type": "code",
   "execution_count": null,
   "metadata": {},
   "outputs": [],
   "source": [
    "response_bytearray = bytearray()\n",
    "return_code = g2_engine.getEntityByRecordID(datasource_code_1, record_id_1, response_bytearray)\n",
    "response_dictionary = json.loads(response_bytearray)\n",
    "entity_id_1 = response_dictionary[\"RESOLVED_ENTITY\"][\"ENTITY_ID\"]\n",
    "\n",
    "print(\"Return Code: {0}\\nEntity ID: {1}\".format(return_code, entity_id_1))"
   ]
  },
  {
   "cell_type": "markdown",
   "metadata": {},
   "source": [
    "Locate \"entity identifier\" for Record #2"
   ]
  },
  {
   "cell_type": "code",
   "execution_count": null,
   "metadata": {},
   "outputs": [],
   "source": [
    "response_bytearray = bytearray()\n",
    "return_code = g2_engine.getEntityByRecordID(datasource_code_2, record_id_2, response_bytearray)\n",
    "response_dictionary = json.loads(response_bytearray)\n",
    "entity_id_2 = response_dictionary[\"RESOLVED_ENTITY\"][\"ENTITY_ID\"]\n",
    "\n",
    "print(\"Return Code: {0}\\nEntity ID: {1}\".format(return_code, entity_id_2))"
   ]
  },
  {
   "cell_type": "markdown",
   "metadata": {},
   "source": [
    "Locate \"entity identifier\" for Record #3"
   ]
  },
  {
   "cell_type": "code",
   "execution_count": null,
   "metadata": {},
   "outputs": [],
   "source": [
    "response_bytearray = bytearray()\n",
    "return_code = g2_engine.getEntityByRecordID(datasource_code_3, record_id_3, response_bytearray)\n",
    "response_dictionary = json.loads(response_bytearray)\n",
    "entity_id_3 = response_dictionary[\"RESOLVED_ENTITY\"][\"ENTITY_ID\"]\n",
    "\n",
    "print(\"Return Code: {0}\\nEntity ID: {1}\".format(return_code, entity_id_3))"
   ]
  },
  {
   "cell_type": "markdown",
   "metadata": {},
   "source": [
    "## `FindPathByEntityID()`"
   ]
  },
  {
   "cell_type": "code",
   "execution_count": null,
   "metadata": {},
   "outputs": [],
   "source": [
    "# Define search variables.\n",
    "\n",
    "max_degree = 3\n",
    "\n",
    "# Find the path by entity ID.\n",
    "\n",
    "response_bytearray = bytearray([])\n",
    "g2_engine.findPathByEntityID(entity_id_2, entity_id_3, max_degree, response_bytearray)\n",
    "response_dictionary = json.loads(response_bytearray)\n",
    "\n",
    "# Print the results.\n",
    "\n",
    "print(\"Return Code: {0}\".format(return_code))\n",
    "RenderJSON(response_dictionary)"
   ]
  },
  {
   "cell_type": "markdown",
   "metadata": {},
   "source": [
    "# FindPathByEntityIDV2()\n",
    "The function `FindPathByEntityIDV2()` is an improved version of `FindPathByEntityID()` that also allow you to use control flags."
   ]
  },
  {
   "cell_type": "code",
   "execution_count": null,
   "metadata": {},
   "outputs": [],
   "source": [
    "# Define search variables.\n",
    "\n",
    "max_degree = 3\n",
    "\n",
    "# Find the path by entity ID.\n",
    "\n",
    "response_bytearray = bytearray([])\n",
    "g2_engine.findPathByEntityIDV2(entity_id_2, entity_id_3, max_degree, flags, response_bytearray)\n",
    "response_dictionary = json.loads(response_bytearray)\n",
    "\n",
    "# Print the results.\n",
    "\n",
    "print(\"Return Code: {0}\".format(return_code))\n",
    "RenderJSON(response_dictionary)"
   ]
  },
  {
   "cell_type": "markdown",
   "metadata": {},
   "source": [
    "## `FindPathByRecordID()`"
   ]
  },
  {
   "cell_type": "code",
   "execution_count": null,
   "metadata": {},
   "outputs": [],
   "source": [
    "# Define search variables.\n",
    "\n",
    "max_degree = 3\n",
    "\n",
    "# Find the path by record ID.\n",
    "\n",
    "response_bytearray = bytearray([])\n",
    "g2_engine.findPathByRecordID(datasource_code_2, record_id_2,\n",
    "                             datasource_code_3, record_id_3,\n",
    "                             max_degree, response_bytearray)\n",
    "response_dictionary = json.loads(response_bytearray)\n",
    "\n",
    "# Print the results.\n",
    "\n",
    "print(\"Return Code: {0}\".format(return_code))\n",
    "RenderJSON(response_dictionary)"
   ]
  },
  {
   "cell_type": "markdown",
   "metadata": {},
   "source": [
    "# FindPathByRecordIDV2()\n",
    "The function `FindPathByRecordIDV2()` is an improved version of `FindPathByRecordID()` that also allow you to use control flags."
   ]
  },
  {
   "cell_type": "code",
   "execution_count": null,
   "metadata": {},
   "outputs": [],
   "source": [
    "# Define search variables.\n",
    "\n",
    "max_degree = 3\n",
    "\n",
    "# Find the path by record ID.\n",
    "\n",
    "response_bytearray = bytearray([])\n",
    "g2_engine.findPathByRecordIDV2(datasource_code_2, record_id_2,\n",
    "                               datasource_code_3, record_id_3,\n",
    "                               max_degree, flags, response_bytearray)\n",
    "response_dictionary = json.loads(response_bytearray)\n",
    "\n",
    "# Print the results.\n",
    "\n",
    "RenderJSON(response_dictionary)"
   ]
  },
  {
   "cell_type": "markdown",
   "metadata": {},
   "source": [
    "## Finding Paths with Exclusions\n",
    "The `FindPathExcludingByEntityID()` and `FindPathExcludingByRecordID()` functions can be used to find single relationship paths between two entities. Paths are found using known relationships with other entities. In addition, it will find paths that exclude certain entities from being on the path.\n",
    "\n",
    "Entities can be searched for by either Entity ID or by Record ID, depending on which function is chosen. Additionally, entities to be excluded can also be specified by either Entity ID or by Record ID.\n",
    "\n",
    "When excluding entities, the user may choose to either (a) strictly exclude the entities, or (b) prefer to exclude the entities, but still include them if no other path is found. By default, entities will be strictly excluded. A \"preferred exclude\" may be done by specifying the G2_FIND_PATH_PREFER_EXCLUDE control flag.\n",
    "\n",
    "These functions have the following parameters:\n",
    "\n",
    "- **entity_id_2:** The entity ID for the starting entity of the search path\n",
    "- **entity_id_3:** The entity ID for the ending entity of the search path\n",
    "- **datasource_code_2:** The data source for the starting entity of the search path\n",
    "- **datasource_code_3:** The data source for the ending entity of the search path\n",
    "- **record_id_2:** The record ID for the starting entity of the search path\n",
    "- **record_id_3:** The record ID for the ending entity of the search path\n",
    "- **max_degree:** The number of relationship degrees to search\n",
    "- **excluded_entities_as_json:** Entities that should be avoided on the path (JSON document)\n",
    "- **flags:** Operational flags"
   ]
  },
  {
   "cell_type": "markdown",
   "metadata": {},
   "source": [
    "## `FindPathExcludingByEntityID()`"
   ]
  },
  {
   "cell_type": "code",
   "execution_count": null,
   "metadata": {
    "scrolled": true
   },
   "outputs": [],
   "source": [
    "# Define search variables.\n",
    "\n",
    "max_degree = 4\n",
    "excluded_entities = {\n",
    "    \"ENTITIES\": [{\n",
    "        \"ENTITY_ID\": entity_id_1\n",
    "    }]}\n",
    "excluded_entities_as_json = json.dumps(excluded_entities)\n",
    "\n",
    "# Find the path by entity ID.\n",
    "\n",
    "response_bytearray = bytearray([])\n",
    "g2_engine.findPathExcludingByEntityID(entity_id_2, entity_id_3,\n",
    "                                      max_degree, excluded_entities_as_json,\n",
    "                                      flags, response_bytearray)\n",
    "response_dictionary = json.loads(response_bytearray)\n",
    "\n",
    "# Print the results.\n",
    "\n",
    "print(\"Return Code: {0}\".format(return_code))\n",
    "RenderJSON(response_dictionary)"
   ]
  },
  {
   "cell_type": "markdown",
   "metadata": {},
   "source": [
    "## `FindPathExcludingByRecordID()`"
   ]
  },
  {
   "cell_type": "code",
   "execution_count": null,
   "metadata": {},
   "outputs": [],
   "source": [
    "# Define search variables.\n",
    "\n",
    "excluded_records = {\n",
    "    \"RECORDS\": [{\n",
    "        \"RECORD_ID\": record_id_1,\n",
    "        \"DATA_SOURCE\": datasource_code_1\n",
    "    }]}\n",
    "excluded_records_as_json = json.dumps(excluded_records)\n",
    "\n",
    "# Find the path by record ID.\n",
    "\n",
    "response_bytearray = bytearray([])\n",
    "g2_engine.findPathExcludingByRecordID(datasource_code_2, record_id_2,\n",
    "                                      datasource_code_3, record_id_3,\n",
    "                                      max_degree, excluded_records_as_json,\n",
    "                                      flags, response_bytearray)\n",
    "response_dictionary = json.loads(response_bytearray)\n",
    "\n",
    "# Print the results.\n",
    "\n",
    "RenderJSON(response_dictionary)"
   ]
  },
  {
   "cell_type": "markdown",
   "metadata": {},
   "source": [
    "## Finding Paths with Required Sources\n",
    "The `FindPathIncludingSourceByEntityID()` and `FindPathIncludingSourceByRecordID()` functions can be used to find single relationship paths between two entities. In addition, one of the enties along the path must include a specified data source.\n",
    "\n",
    "Entities can be searched for by either Entity ID or by Record ID, depending on which function is chosen. The required data source or sources are specified by a json document list.\n",
    "\n",
    "Specific entities may also be excluded, using the same methodology as the `FindPathExcludingByEntityID()` and `FindPathExcludingByRecordID()` functions use.\n",
    "\n",
    "These functions have the following parameters:\n",
    "\n",
    "- **entity_id_2:** The entity ID for the starting entity of the search path\n",
    "- **entity_id_3:** The entity ID for the ending entity of the search path\n",
    "- **datasource_code_2:** The data source for the starting entity of the search path\n",
    "- **datasource_code_3:** The data source for the ending entity of the search path\n",
    "- **record_id_2:** The record ID for the starting entity of the search path\n",
    "- **record_id_3:** The record ID for the ending entity of the search path\n",
    "- **max_degree:** The number of relationship degrees to search\n",
    "- **excluded_entities_as_json:** Entities that should be avoided on the path (JSON document)\n",
    "- **required_dsrcs_as_json:** Entities that should be avoided on the path (JSON document)\n",
    "- **flags:** Operational flags"
   ]
  },
  {
   "cell_type": "markdown",
   "metadata": {},
   "source": [
    "## `FindPathIncludingSourceByEntityID()`"
   ]
  },
  {
   "cell_type": "code",
   "execution_count": null,
   "metadata": {},
   "outputs": [],
   "source": [
    "# Define search variables.\n",
    "\n",
    "max_degree = 4\n",
    "excluded_entities = {\n",
    "    \"ENTITIES\": [{\n",
    "        \"ENTITY_ID\": entity_id_1\n",
    "    }]}\n",
    "excluded_entities_as_json = json.dumps(excluded_entities)\n",
    "required_dsrcs = {\n",
    "    \"DATA_SOURCES\": [\n",
    "        datasource_code_1\n",
    "    ]}\n",
    "required_dsrcs_as_json = json.dumps(excluded_entities)\n",
    "\n",
    "# Find the path by entity ID.\n",
    "\n",
    "response_bytearray = bytearray([])\n",
    "g2_engine.findPathIncludingSourceByEntityID(entity_id_2, entity_id_3, max_degree,\n",
    "                                            excluded_entities_as_json,\n",
    "                                            required_dsrcs_as_json,\n",
    "                                            flags, response_bytearray)\n",
    "response_dictionary = json.loads(response_bytearray)\n",
    "\n",
    "# Print the results.\n",
    "\n",
    "RenderJSON(response_dictionary)"
   ]
  },
  {
   "cell_type": "markdown",
   "metadata": {},
   "source": [
    "## `FindPathIncludingSourceByRecordID()`"
   ]
  },
  {
   "cell_type": "code",
   "execution_count": null,
   "metadata": {},
   "outputs": [],
   "source": [
    "# Define search variables.\n",
    "\n",
    "excluded_records = {\n",
    "    \"RECORDS\": [{\n",
    "        \"RECORD_ID\": record_id_1,\n",
    "        \"DATA_SOURCE\": datasource_code_1\n",
    "    }]}\n",
    "excluded_records_as_json = json.dumps(excluded_records)\n",
    "\n",
    "# Find the path by record ID.\n",
    "\n",
    "response_bytearray = bytearray([])\n",
    "g2_engine.findPathIncludingSourceByRecordID(datasource_code_2, record_id_2,\n",
    "                                            datasource_code_3, record_id_3,\n",
    "                                            max_degree, \n",
    "                                            excluded_records_as_json,\n",
    "                                            required_dsrcs_as_json,\n",
    "                                            flags, response_bytearray)\n",
    "response_dictionary = json.loads(response_bytearray)\n",
    "\n",
    "# Print the results.\n",
    "\n",
    "RenderJSON(response_dictionary)"
   ]
  },
  {
   "cell_type": "markdown",
   "metadata": {},
   "source": [
    "# Finding Networks\n",
    "\n",
    "The `FindNetworkByEntityID()` and `FindNetworkByRecordID()` functions can be used to find all entities surrounding a requested set of entities. This includes the requested entities, paths between them, and relations to other nearby entities.\n",
    "\n",
    "Entities can be searched for by either Entity ID or by Record ID, depending on which function is chosen.\n",
    "\n",
    "These functions have the following parameters:\n",
    "\n",
    "- **entity_list_as_json:** A list of entities, specified by Entity ID (JSON document)\n",
    "- **record_list_as_json:** A list of entities, specified by Record ID (JSON document)\n",
    "- **max_degree:** The maximum number of degrees in paths between search entities\n",
    "- **buildout_degree:** The number of degrees of relationships to show around each search entity\n",
    "- **max_entities:** The maximum number of entities to return in the discovered network\n",
    "They also have various arguments used to return response documents\n",
    "\n",
    "The functions return a JSON document that identifies the path between the each set of search entities (if the path exists), and the information on the entities in question (search entities, path entities, and build-out entities."
   ]
  },
  {
   "cell_type": "code",
   "execution_count": null,
   "metadata": {},
   "outputs": [],
   "source": [
    "# Define search variables.\n",
    "\n",
    "entity_list = {\n",
    "    \"ENTITIES\": [{\n",
    "        \"ENTITY_ID\": entity_id_1\n",
    "    }, {\n",
    "        \"ENTITY_ID\": entity_id_2\n",
    "    }, {\n",
    "        \"ENTITY_ID\": entity_id_3\n",
    "    }]}\n",
    "entity_list_as_json = json.dumps(entity_list)\n",
    "max_degree = 2\n",
    "buildout_degree = 1\n",
    "max_entities = 12\n",
    "\n",
    "# Find the network by entity ID.\n",
    "\n",
    "response_bytearray = bytearray()\n",
    "g2_engine.findNetworkByEntityID(entity_list_as_json, max_degree, buildout_degree, max_entities, response_bytearray)\n",
    "response_dictionary = json.loads(response_bytearray)\n",
    "\n",
    "# Print the results.\n",
    "\n",
    "RenderJSON(response_dictionary)"
   ]
  },
  {
   "cell_type": "markdown",
   "metadata": {},
   "source": [
    "# findNetworkByRecordID()"
   ]
  },
  {
   "cell_type": "code",
   "execution_count": null,
   "metadata": {},
   "outputs": [],
   "source": [
    "# Define search variables.\n",
    "\n",
    "record_list = {\n",
    "    \"RECORDS\": [{\n",
    "        \"RECORD_ID\": record_id_1,\n",
    "        \"DATA_SOURCE\": datasource_code_1\n",
    "    }, {\n",
    "        \"RECORD_ID\": record_id_2,\n",
    "        \"DATA_SOURCE\": datasource_code_2\n",
    "    }, {\n",
    "        \"RECORD_ID\": record_id_3,\n",
    "        \"DATA_SOURCE\": datasource_code_3\n",
    "    }]}\n",
    "record_list_as_json = json.dumps(record_list)\n",
    "\n",
    "\n",
    "# Find the network by record ID.\n",
    "\n",
    "response_bytearray = bytearray()\n",
    "g2_engine.findNetworkByRecordID(record_list_as_json, max_degree, buildout_degree, max_entities, response_bytearray)\n",
    "response_dictionary = json.loads(response_bytearray)\n",
    "\n",
    "# Print the results.\n",
    "\n",
    "RenderJSON(response_dictionary)"
   ]
  },
  {
   "cell_type": "markdown",
   "metadata": {},
   "source": [
    "# FindNetworkByEntityIDV2()\n",
    "The function `FindNetworkByEntityIDV2()` is an improved version of `FindNetworkByEntityID()` that also allow you to use control flags."
   ]
  },
  {
   "cell_type": "code",
   "execution_count": null,
   "metadata": {},
   "outputs": [],
   "source": [
    "# Define search variables.\n",
    "\n",
    "entity_list = {\n",
    "    \"ENTITIES\": [{\n",
    "        \"ENTITY_ID\": entity_id_1\n",
    "    }, {\n",
    "        \"ENTITY_ID\": entity_id_2\n",
    "    }, {\n",
    "        \"ENTITY_ID\": entity_id_3\n",
    "    }]}\n",
    "entity_list_as_json = json.dumps(entity_list)\n",
    "max_degree = 2\n",
    "buildout_degree = 1\n",
    "max_entities = 12\n",
    "\n",
    "# Find the network by entity ID.\n",
    "\n",
    "response_bytearray = bytearray()\n",
    "g2_engine.findNetworkByEntityIDV2(entity_list_as_json, max_degree, \n",
    "                                  buildout_degree, max_entities,\n",
    "                                  flags, response_bytearray)\n",
    "response_dictionary = json.loads(response_bytearray)\n",
    "\n",
    "# Print the results.\n",
    "\n",
    "RenderJSON(response_dictionary)"
   ]
  },
  {
   "cell_type": "markdown",
   "metadata": {},
   "source": [
    "# FindNetworkByRecordIDV2()\n",
    "The function `FindNetworkByRecordIDV2()` is an improved version of `FindNetworkByRecordID()` that also allow you to use control flags."
   ]
  },
  {
   "cell_type": "code",
   "execution_count": null,
   "metadata": {},
   "outputs": [],
   "source": [
    "# Define search variables.\n",
    "\n",
    "record_list = {\n",
    "    \"RECORDS\": [{\n",
    "        \"RECORD_ID\": record_id_1,\n",
    "        \"DATA_SOURCE\": datasource_code_1\n",
    "    }, {\n",
    "        \"RECORD_ID\": record_id_2,\n",
    "        \"DATA_SOURCE\": datasource_code_2\n",
    "    }, {\n",
    "        \"RECORD_ID\": record_id_3,\n",
    "        \"DATA_SOURCE\": datasource_code_3\n",
    "    }]}\n",
    "record_list_as_json = json.dumps(record_list)\n",
    "\n",
    "# Find the network by record ID.\n",
    "\n",
    "response_bytearray = bytearray()\n",
    "g2_engine.findNetworkByRecordID(record_list_as_json, max_degree, buildout_degree, max_entities, response_bytearray)\n",
    "response_dictionary = json.loads(response_bytearray)\n",
    "\n",
    "# Print the results.\n",
    "\n",
    "RenderJSON(response_dictionary)"
   ]
  },
  {
   "cell_type": "markdown",
   "metadata": {},
   "source": [
    "## Redo Processing\n",
    "Redo records are automatically created by Senzing when certain conditions occur where it believes more processing may be needed.  Some examples:\n",
    "* A value becomes generic and previous decisions may need to be revisited\n",
    "* Clean up after some record deletes\n",
    "* Detected related entities were being changed at the same time\n",
    "* A table inconsistency exists, potentially after a non-graceful shutdown\n",
    "First we will need to have a total of 6 data sources so let's add 4 more"
   ]
  },
  {
   "cell_type": "markdown",
   "metadata": {},
   "source": [
    "Create Record and Entity #4"
   ]
  },
  {
   "cell_type": "code",
   "execution_count": null,
   "metadata": {},
   "outputs": [],
   "source": [
    "data = {\n",
    "    \"NAMES\": [{\n",
    "        \"NAME_TYPE\": \"PRIMARY\",\n",
    "        \"NAME_LAST\": \"Owens\",\n",
    "        \"NAME_FIRST\": \"Lily\"\n",
    "    }],\n",
    "    \"SSN_NUMBER\": \"111-11-1111\"\n",
    "}\n",
    "data_as_json = json.dumps(data)\n",
    "\n",
    "return_code = g2_engine.replaceRecord(datasource_code_4, record_id_4, data_as_json, None)\n",
    "\n",
    "print(\"Return Code: {0}\".format(return_code))"
   ]
  },
  {
   "cell_type": "code",
   "execution_count": null,
   "metadata": {},
   "outputs": [],
   "source": [
    "response_bytearray = bytearray()\n",
    "return_code = g2_engine.getEntityByRecordID(datasource_code_4, record_id_4, response_bytearray)\n",
    "response_dictionary = json.loads(response_bytearray)\n",
    "entity_id_4 = response_dictionary[\"RESOLVED_ENTITY\"][\"ENTITY_ID\"]\n",
    "print(\"Return Code: {0}\\nEntity ID: {1}\".format(return_code, entity_id_4))"
   ]
  },
  {
   "cell_type": "markdown",
   "metadata": {},
   "source": [
    "Create Record and Entity #5"
   ]
  },
  {
   "cell_type": "code",
   "execution_count": null,
   "metadata": {},
   "outputs": [],
   "source": [
    "data = {\n",
    "    \"NAMES\": [{\n",
    "        \"NAME_TYPE\": \"PRIMARY\",\n",
    "        \"NAME_LAST\": \"Bauler\",\n",
    "        \"NAME_FIRST\": \"August\",\n",
    "        \"NAME_MIDDLE\": \"E\"\n",
    "    }],\n",
    "    \"SSN_NUMBER\": \"111-11-1111\"\n",
    "}\n",
    "data_as_json = json.dumps(data)\n",
    "\n",
    "return_code = g2_engine.replaceRecord(datasource_code_5, record_id_5, data_as_json, None)\n",
    "\n",
    "print(\"Return Code: {0}\".format(return_code))"
   ]
  },
  {
   "cell_type": "code",
   "execution_count": null,
   "metadata": {},
   "outputs": [],
   "source": [
    "response_bytearray = bytearray()\n",
    "return_code = g2_engine.getEntityByRecordID(datasource_code_5, record_id_5, response_bytearray)\n",
    "response_dictionary = json.loads(response_bytearray)\n",
    "entity_id_5 = response_dictionary[\"RESOLVED_ENTITY\"][\"ENTITY_ID\"]\n",
    "print(\"Return Code: {0}\\nEntity ID: {1}\".format(return_code, entity_id_5))"
   ]
  },
  {
   "cell_type": "markdown",
   "metadata": {},
   "source": [
    "Create Record and Entity #6"
   ]
  },
  {
   "cell_type": "code",
   "execution_count": null,
   "metadata": {},
   "outputs": [],
   "source": [
    "data = {\n",
    "    \"NAMES\": [{\n",
    "        \"NAME_TYPE\": \"PRIMARY\",\n",
    "        \"NAME_LAST\": \"Barcy\",\n",
    "        \"NAME_FIRST\": \"Brian\",\n",
    "        \"NAME_MIDDLE\": \"H\"\n",
    "    }],\n",
    "    \"SSN_NUMBER\": \"111-11-1111\"\n",
    "}\n",
    "data_as_json = json.dumps(data)\n",
    "\n",
    "return_code = g2_engine.replaceRecord(datasource_code_6, record_id_6, data_as_json, None)\n",
    "\n",
    "print(\"Return Code: {0}\".format(return_code))"
   ]
  },
  {
   "cell_type": "code",
   "execution_count": null,
   "metadata": {},
   "outputs": [],
   "source": [
    "response_bytearray = bytearray()\n",
    "return_code = g2_engine.getEntityByRecordID(datasource_code_6, record_id_6, response_bytearray)\n",
    "response_dictionary = json.loads(response_bytearray)\n",
    "entity_id_6 = response_dictionary[\"RESOLVED_ENTITY\"][\"ENTITY_ID\"]\n",
    "print(\"Return Code: {0}\\nEntity ID: {1}\".format(return_code, entity_id_6))"
   ]
  },
  {
   "cell_type": "markdown",
   "metadata": {},
   "source": [
    "Create Record and Entity #7"
   ]
  },
  {
   "cell_type": "code",
   "execution_count": null,
   "metadata": {},
   "outputs": [],
   "source": [
    "data = {\n",
    "    \"NAMES\": [{\n",
    "        \"NAME_TYPE\": \"PRIMARY\",\n",
    "        \"NAME_LAST\": \"Miller\",\n",
    "        \"NAME_FIRST\": \"Jack\",\n",
    "        \"NAME_MIDDLE\": \"H\"\n",
    "    }],\n",
    "    \"SSN_NUMBER\": \"111-11-1111\"\n",
    "}\n",
    "data_as_json = json.dumps(data)\n",
    "\n",
    "return_code = g2_engine.replaceRecord(datasource_code_7, record_id_7, data_as_json, None)\n",
    "\n",
    "print(\"Return Code: {0}\".format(return_code))"
   ]
  },
  {
   "cell_type": "code",
   "execution_count": null,
   "metadata": {},
   "outputs": [],
   "source": [
    "response_bytearray = bytearray()\n",
    "return_code = g2_engine.getEntityByRecordID(datasource_code_7, record_id_7, response_bytearray)\n",
    "response_dictionary = json.loads(response_bytearray)\n",
    "entity_id_7 = response_dictionary[\"RESOLVED_ENTITY\"][\"ENTITY_ID\"]\n",
    "print(\"Return Code: {0}\\nEntity ID: {1}\".format(return_code, entity_id_7))"
   ]
  },
  {
   "cell_type": "markdown",
   "metadata": {},
   "source": [
    "## Counting the number of redos\n",
    "This returns the number of redos within the processed records that are awaiting processing."
   ]
  },
  {
   "cell_type": "code",
   "execution_count": null,
   "metadata": {},
   "outputs": [],
   "source": [
    "return_code = g2_engine.countRedoRecords()\n",
    "print(\"Return Code: {0}\".format(return_code))"
   ]
  },
  {
   "cell_type": "markdown",
   "metadata": {},
   "source": [
    "## Geting a redo record\n",
    "Gets a redo record so that it can be processed"
   ]
  },
  {
   "cell_type": "code",
   "execution_count": null,
   "metadata": {},
   "outputs": [],
   "source": [
    "response_bytearray = bytearray()\n",
    "return_code = g2_engine.getRedoRecord(response_bytearray)\n",
    "print(\"Return Code: {0}\".format(return_code))\n",
    "\n",
    "if (return_code == 0 and response_bytearray):\n",
    "    g2_engine.process(response_bytearray.decode())"
   ]
  },
  {
   "cell_type": "markdown",
   "metadata": {},
   "source": [
    "## Processing redo records\n",
    "This processes the next redo record and returns it (If `processRedoRecord()` \"response\" returns 0 and \"response_bytearray\" is blank then there are no more redo records to process and if you do `count.RedoRecords()` again it will return 0)\n",
    "Has potential to create more redo records in certian situations"
   ]
  },
  {
   "cell_type": "code",
   "execution_count": null,
   "metadata": {
    "scrolled": true
   },
   "outputs": [],
   "source": [
    "response_bytearray = bytearray()\n",
    "return_code = g2_engine.processRedoRecord(response_bytearray)\n",
    "print(\"Return Code: {0}\".format(return_code))\n",
    "\n",
    "# Pretty-print XML.\n",
    "\n",
    "xml_string = response_bytearray.decode()\n",
    "if len(xml_string) > 0:\n",
    "    import xml.dom.minidom\n",
    "    xml = xml.dom.minidom.parseString(xml_string)\n",
    "    xml_pretty_string = xml.toprettyxml()\n",
    "    print(xml_pretty_string)"
   ]
  },
  {
   "cell_type": "markdown",
   "metadata": {},
   "source": [
    "## Deleting Records\n",
    "use `deleteRecord()` to remove a record from the data repository (returns \"0\" upon success) ; `deleteRecord()` can be called as many times as desired and from multiple threads at the same time. The `deleteRecord()` function accepts three parameters as input:\n",
    "\n",
    "- **datasource_code:** The name of the data source the record is associated with. This value is configurable to the system\n",
    "- **record_id:** The record ID, used to identify distinct records\n",
    "- **load_id:** The observation load ID for the record; value can be null and will default to dataSourceCode"
   ]
  },
  {
   "cell_type": "code",
   "execution_count": null,
   "metadata": {
    "scrolled": false
   },
   "outputs": [],
   "source": [
    "return_code = g2_engine.deleteRecord(datasource_code_1, record_id_1, load_id)\n",
    "print(\"Return Code: {0}\".format(return_code))"
   ]
  },
  {
   "cell_type": "markdown",
   "metadata": {},
   "source": [
    "Attempt to get the record again. It should error and give an output similar to \"Unknown record\"."
   ]
  },
  {
   "cell_type": "code",
   "execution_count": null,
   "metadata": {},
   "outputs": [],
   "source": [
    "try:\n",
    "    response_bytearray = bytearray()\n",
    "    return_code = g2_engine.getRecord(datasource_code_1, record_id_1, response_bytearray)\n",
    "    response_dictionary = json.loads(response_bytearray)\n",
    "    response = json.dumps(response_dictionary, sort_keys=True, indent=4)\n",
    "    print(\"Return Code: {0}\\n{1}\".format(return_code, response))\n",
    "except G2Exception.G2ModuleGenericException as err:\n",
    "    print(\"Exception: {0}\".format(err))"
   ]
  },
  {
   "cell_type": "markdown",
   "metadata": {},
   "source": [
    "## Purge Repository\n",
    "To purge the G2 repository, use the aptly named `purgeRepository()` method. This will remove every record in your current repository."
   ]
  },
  {
   "cell_type": "code",
   "execution_count": null,
   "metadata": {},
   "outputs": [],
   "source": [
    "g2_engine.purgeRepository()"
   ]
  }
 ],
 "metadata": {
  "kernelspec": {
   "display_name": "Python 3",
   "language": "python",
   "name": "python3"
  },
  "language_info": {
   "codemirror_mode": {
    "name": "ipython",
    "version": 3
   },
   "file_extension": ".py",
   "mimetype": "text/x-python",
   "name": "python",
   "nbconvert_exporter": "python",
   "pygments_lexer": "ipython3",
   "version": "3.7.3"
  }
 },
 "nbformat": 4,
 "nbformat_minor": 2
}
