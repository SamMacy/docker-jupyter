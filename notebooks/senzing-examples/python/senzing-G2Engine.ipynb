{
 "cells": [
  {
   "cell_type": "markdown",
   "metadata": {},
   "source": [
    "# G2Engine"
   ]
  },
  {
   "cell_type": "code",
   "execution_count": 1,
   "metadata": {},
   "outputs": [],
   "source": [
    "import os\n",
    "import sys\n",
    "import json"
   ]
  },
  {
   "cell_type": "markdown",
   "metadata": {},
   "source": [
    "## System path\n",
    "\n",
    "Update system path."
   ]
  },
  {
   "cell_type": "code",
   "execution_count": 2,
   "metadata": {},
   "outputs": [],
   "source": [
    "sys.path.append('/opt/senzing/g2/python')"
   ]
  },
  {
   "cell_type": "markdown",
   "metadata": {},
   "source": [
    "# G2Engine\n",
    "The G2Engine API..."
   ]
  },
  {
   "cell_type": "code",
   "execution_count": 3,
   "metadata": {},
   "outputs": [
    {
     "ename": "ModuleNotFoundError",
     "evalue": "No module named 'G2Exception'",
     "output_type": "error",
     "traceback": [
      "\u001b[0;31m---------------------------------------------------------------------------\u001b[0m",
      "\u001b[0;31mModuleNotFoundError\u001b[0m                       Traceback (most recent call last)",
      "\u001b[0;32m<ipython-input-3-8c45a2036326>\u001b[0m in \u001b[0;36m<module>\u001b[0;34m\u001b[0m\n\u001b[0;32m----> 1\u001b[0;31m \u001b[0;32mimport\u001b[0m \u001b[0mG2Exception\u001b[0m\u001b[0;34m\u001b[0m\u001b[0;34m\u001b[0m\u001b[0m\n\u001b[0m\u001b[1;32m      2\u001b[0m \u001b[0;32mfrom\u001b[0m \u001b[0mG2Engine\u001b[0m \u001b[0;32mimport\u001b[0m \u001b[0mG2Engine\u001b[0m\u001b[0;34m\u001b[0m\u001b[0;34m\u001b[0m\u001b[0m\n",
      "\u001b[0;31mModuleNotFoundError\u001b[0m: No module named 'G2Exception'"
     ]
    }
   ],
   "source": [
    "import G2Exception\n",
    "from G2Engine import G2Engine"
   ]
  },
  {
   "cell_type": "markdown",
   "metadata": {},
   "source": [
    "## Initialize variables\n",
    "\n",
    "Create variables used for G2Engine."
   ]
  },
  {
   "cell_type": "code",
   "execution_count": null,
   "metadata": {},
   "outputs": [],
   "source": [
    "module_name = 'pyG2EngineForAddRecord'\n",
    "senzing_directory = os.environ.get(\"SENZING_DIR\", \"/opt/senzing\")\n",
    "senzing_python_directory = \"{0}/g2/python\".format(senzing_directory)\n",
    "g2module_ini_pathname = \"{0}/G2Module.ini\".format(senzing_python_directory)\n",
    "verbose_logging = True"
   ]
  },
  {
   "cell_type": "markdown",
   "metadata": {},
   "source": [
    "## Initialization\n",
    "\n",
    "To start using Senzing G2Engine, create and initialize an instance.\n",
    "This should be done once per process.\n",
    "The `init()` method accepts the following parameters:\n",
    "\n",
    "- **module_name:** A short name given to this instance of the G2 engine (i.e. your G2Module object)\n",
    "- **g2module_ini_pathname:** A fully qualified path to the G2 engine INI file (often /opt/senzing/g2/python/G2Module.ini)\n",
    "- **verbose_logging:** A boolean which enables diagnostic logging - this will print a massive amount of information to stdout (default = False)\n",
    "- **config_id:** (optional) The identifier value for the engine configuration can be returned here.\n",
    "\n",
    "Calling this function will return \"0\" upon success."
   ]
  },
  {
   "cell_type": "code",
   "execution_count": null,
   "metadata": {},
   "outputs": [],
   "source": [
    "g2_engine = G2Engine()\n",
    "result = g2_engine.init(module_name, g2module_ini_pathname, verbose_logging)\n",
    "print(result)"
   ]
  },
  {
   "cell_type": "markdown",
   "metadata": {},
   "source": [
    "## Prime Engine\n",
    "\n",
    "The `primeEngine()` method may optionally be called to pre-initialize some of the heavier weight internal resources of the G2 engine."
   ]
  },
  {
   "cell_type": "code",
   "execution_count": null,
   "metadata": {},
   "outputs": [],
   "source": [
    "response = g2_engine.primeEngine()"
   ]
  },
  {
   "cell_type": "markdown",
   "metadata": {},
   "source": [
    "## addRecord()\n",
    "\n",
    "Once the Senzing engine is initialized, use addRecord() to load a record into the Senzing repository -- addRecord() can be called as many times as desired and from multiple threads at the same time. The addRecord() function returns \"0\" upon success, and accepts four parameters as input:\n",
    "\n",
    "- **datasource_code:** The name of the data source the record is associated with. This value is configurable to the system\n",
    "- **record_id_1:** The record ID, used to identify distinct records\n",
    "- **data_string:** A JSON document with the attribute data for the record\n",
    "- **load_id:** The observation load ID for the record; value can be null and will default to data_source\n"
   ]
  },
  {
   "cell_type": "code",
   "execution_count": null,
   "metadata": {},
   "outputs": [],
   "source": [
    "datasource_code = \"TEST\"\n",
    "record_id_1 = \"1\"\n",
    "load_id = None\n",
    "data = {\n",
    "    \"NAMES\": [{\n",
    "        \"NAME_TYPE\": \"PRIMARY\",\n",
    "        \"NAME_LAST\": \"Smith\",\n",
    "        \"NAME_FIRST\": \"John\",\n",
    "        \"NAME_MIDDLE\": \"M\"\n",
    "    }],\n",
    "    \"PASSPORT_NUMBER\": \"PP11111\",\n",
    "    \"PASSPORT_COUNTRY\": \"US\",\n",
    "    \"DRIVERS_LICENSE_NUMBER\": \"DL11111\",\n",
    "    \"SSN_NUMBER\": \"111-11-1111\"\n",
    "}\n",
    "data_string = json.dumps(data)\n",
    "\n",
    "result = g2_engine.addRecord(datasource_code, record_id_1, data_string, load_id)\n",
    "print(result)"
   ]
  },
  {
   "cell_type": "markdown",
   "metadata": {},
   "source": [
    "## getRecord()\n",
    "\n",
    "Use `getRecord()` to retrieve a single record from the data repository; the record is assigned in JSON form to a user-designated buffer, and the function itself returns \"0\" upon success. Once the Senzing engine is initialized, `getRecord()` can be called as many times as desired and from multiple threads at the same time. The `getRecord()` function accepts the following parameters as input:\n",
    "\n",
    "- **datasource_code:** The name of the data source the record is associated with. This value is configurable to the system\n",
    "- **record_id_1:** The record ID, used to identify the record for retrieval\n",
    "- **response_string:** A memory buffer for returning the response document; if an error occurred, an error response is stored here"
   ]
  },
  {
   "cell_type": "code",
   "execution_count": null,
   "metadata": {
    "scrolled": true
   },
   "outputs": [],
   "source": [
    "response_string = bytearray(\"\", 'utf-8')\n",
    "result = g2_engine.getRecord(datasource_code, record_id_1, response_string)\n",
    "\n",
    "response_dictionary = json.loads(response_string)\n",
    "response = json.dumps(response_dictionary, sort_keys=True, indent=4)\n",
    "print(\"Result: {0}\\n{1}\".format(result, response))"
   ]
  },
  {
   "cell_type": "markdown",
   "metadata": {},
   "source": [
    "## getEntityByRecordID()\n",
    "\n",
    "Use `getEntityByRecordID()` to retrieve entity data based on the record ID of a particular data record. This function accepts the following parameters as input:\n",
    "\n",
    "- **datasource_code:** The name of the data source the record is associated with. This value is configurable to the system\n",
    "- **record_id_1:** The record ID for a particular data record\n",
    "- **response_string:** A memory buffer for returning the response document; if an error occurred, an error response is stored here."
   ]
  },
  {
   "cell_type": "code",
   "execution_count": null,
   "metadata": {
    "scrolled": true
   },
   "outputs": [],
   "source": [
    "response_string = bytearray()\n",
    "result = g2_engine.getEntityByRecordID(datasource_code, record_id_1, response_string)\n",
    "\n",
    "response_dictionary = json.loads(response_string)\n",
    "response = json.dumps(response_dictionary, sort_keys=True, indent=4)\n",
    "print(\"Result: {0}\\n{1}\".format(result, response))"
   ]
  },
  {
   "cell_type": "markdown",
   "metadata": {},
   "source": [
    "## getEntityByEntityID()\n",
    "\n",
    "Use `getEntityByEntityID()` to retrieve entity data based on the ID of a resolved identity. This function accepts the following parameters as input:\n",
    "\n",
    "- **entity_id_1:** The numeric ID of a resolved entity.\n",
    "- **response_string:** A memory buffer for returning the response document; if an error occurred, an error response is stored here."
   ]
  },
  {
   "cell_type": "code",
   "execution_count": null,
   "metadata": {},
   "outputs": [],
   "source": [
    "# Because Entity Ids can change, this assumes you've run getEntityByRecordID()\n",
    "# to get the latest Entity Id.\n",
    "\n",
    "entity_id_1 = response_dictionary[\"RESOLVED_ENTITY\"][\"ENTITY_ID\"]\n",
    "response_string = bytearray()\n",
    "result = g2_engine.getEntityByEntityID(entity_id_1, response_string)\n",
    "\n",
    "response_dictionary = json.loads(response_string)\n",
    "response = json.dumps(response_dictionary, sort_keys=True, indent=4)\n",
    "print(\"Result: {0}\\n{1}\".format(result, response))"
   ]
  },
  {
   "cell_type": "markdown",
   "metadata": {},
   "source": [
    "## searchByAttributes()\n",
    "\n",
    "Use `searchByAttributes()` to retrieve entity data based on a user-specified set of entity attributes. This function accepts the following parameters as input:\n",
    "\n",
    "- **data_string:** A JSON document with the attribute data to search for\n",
    "- **response_string:** A memory buffer for returning the response document; if an error occurred, an error response is stored here."
   ]
  },
  {
   "cell_type": "code",
   "execution_count": null,
   "metadata": {
    "scrolled": true
   },
   "outputs": [],
   "source": [
    "response_string = bytearray()\n",
    "result = g2_engine.searchByAttributes(data_string, response_string)\n",
    "\n",
    "response_dictionary = json.loads(response_string)\n",
    "response = json.dumps(response_dictionary, sort_keys=True, indent=4)\n",
    "print(\"Result: {0}\\n{1}\".format(result, response))"
   ]
  },
  {
   "cell_type": "markdown",
   "metadata": {},
   "source": [
    "# Replace the record\n",
    "Use the `replaceRecord()` function to update or replace a record in the data repository (if record doesn't exist, a new record is added to the data repository. Like the above functions, `replaceRecord()` returns \"0\" upon success, and it can be called as many times as desired and from multiple threads at the same time. The `replaceRecord()` function accepts four parameters as input:\n",
    "\n",
    "- **datasource_code:** The name of the data source the record is associated with. This value is configurable to the system\n",
    "- **record_id_1:** The record ID, used to identify distinct records\n",
    "- **data_string:** A JSON document with the attribute data for the record\n",
    "- **load_id:** The observation load ID for the record; value can be null and will default to dataSourceCode"
   ]
  },
  {
   "cell_type": "code",
   "execution_count": null,
   "metadata": {},
   "outputs": [],
   "source": [
    "datasource_code = \"TEST\"\n",
    "record_id_1 = \"1\"\n",
    "load_id = None\n",
    "data = {\n",
    "    \"NAMES\": [{\n",
    "        \"NAME_TYPE\": \"PRIMARY\",\n",
    "        \"NAME_LAST\": \"Miller\",\n",
    "        \"NAME_FIRST\": \"John\",\n",
    "        \"NAME_MIDDLE\": \"M\"\n",
    "    }],\n",
    "    \"PASSPORT_NUMBER\": \"PP11111\",\n",
    "    \"PASSPORT_COUNTRY\": \"US\",\n",
    "    \"DRIVERS_LICENSE_NUMBER\": \"DL11111\",\n",
    "    \"SSN_NUMBER\": \"111-11-1111\"\n",
    "}\n",
    "data_string = json.dumps(data)\n",
    "ret = g2_engine.replaceRecord(datasource_code, record_id_1, data_string, load_id)\n",
    "print(result)"
   ]
  },
  {
   "cell_type": "markdown",
   "metadata": {},
   "source": [
    "## Export JSON Entity Report\n",
    "\n",
    "There are three steps to exporting resolved entity data from the G2Engine object in JSON format. First, use the `exportJSONEntityReport()` method to generate a long integer, referred to here as an 'exportHandle'. The `exportJSONEntityReport()` method accepts one parameter as input:\n",
    "\n",
    "- **flags**: An integer specifying which entity details should be included in the export. See the \"Entity Export Flags\" section for further details.\n",
    "\n",
    "Second, use the fetchNext() method to read the exportHandle and export a row of JSON output containing the entity data for a single entity. Note that successive calls of fetchNext() will export successive rows of entity data. The fetchNext() method accepts the following parameters as input:\n",
    "\n",
    "- **export_handle:** A long integer from which resolved entity data may be read and exported\n",
    "- **response_string:** A memory buffer for returning the response document; if an error occurred, an error response is stored here."
   ]
  },
  {
   "cell_type": "code",
   "execution_count": null,
   "metadata": {
    "scrolled": true
   },
   "outputs": [],
   "source": [
    "flags = G2Engine.G2_EXPORT_DEFAULT_FLAGS\n",
    "export_handle = g2_engine.exportJSONEntityReport(flags)\n",
    "response_string = bytearray(\"xyzzy\", 'utf-8')  # Initial value to start loop.\n",
    "while response_string:\n",
    "    g2_engine.fetchNext(export_handle, response_string)\n",
    "    response_dictionary = json.loads(response_string)\n",
    "    response = json.dumps(response_dictionary, sort_keys=True, indent=4)\n",
    "    print(\"Result: {0}\\n{1}\".format(result, response))\n",
    "    response_string = bytearray([])    "
   ]
  },
  {
   "cell_type": "markdown",
   "metadata": {},
   "source": [
    "## Export CSV Entity Report\n",
    "\n",
    "There are three steps to exporting resolved entity data from the G2Engine object in CSV format. First, use the `exportCSVEntityReport()` method to generate a long integer, referred to here as an 'exportHandle'. The `exportCSVEntityReport()` method accepts one parameter as input:\n",
    "\n",
    "- **flags:** An integer specifying which entity details should be included in the export. See the \"Entity Export Flags\" section for further details.\n",
    "Second, use the `fetchNext()` method to read the exportHandle and export a row of CSV output containing the entity data for a single entity. Note that the first call of `fetchNext()` may yield a header row, and that successive calls of `fetchNext()` will export successive rows of entity data. The `fetchNext()` method accepts the following parameters as input:\n",
    "\n",
    "- **export_handle:** A long integer from which resolved entity data may be read and exported\n",
    "- **response_string:** A memory buffer for returning the response document; if an error occurred, an error response is stored here"
   ]
  },
  {
   "cell_type": "code",
   "execution_count": null,
   "metadata": {},
   "outputs": [],
   "source": [
    "flags = G2Engine.G2_EXPORT_DEFAULT_FLAGS\n",
    "export_handle = g2_engine.exportCSVEntityReport(flags)\n",
    "response_string = bytearray(\"xyzzy\", 'utf-8')  # Initial value to start loop.\n",
    "while response_string:\n",
    "    g2_engine.fetchNext(export_handle, response_string)\n",
    "    print(\"Result: {0}\\n{1}\".format(result, response))\n",
    "    response_string = bytearray([])"
   ]
  },
  {
   "cell_type": "markdown",
   "metadata": {},
   "source": [
    "## Finding Paths\n",
    "The `FindPathByEntityID()` and `FindPathByRecordID()` functions can be used to find single relationship paths between two entities. Paths are found using known relationships with other entities.\n",
    "\n",
    "Entities can be searched for by either Entity ID or by Record ID, depending on which function is chosen.\n",
    "\n",
    "These functions have the following parameters:\n",
    "\n",
    "- **entity_id_2:** The entity ID for the starting entity of the search path\n",
    "- **entity_id_3:** The entity ID for the ending entity of the search path\n",
    "- **datasource_code_2:** The data source for the starting entity of the search path\n",
    "- **record_id_2:** The record ID for the starting entity of the search path\n",
    "- **datasource_code_3:** The data source for the ending entity of the search path\n",
    "- **record_id_3:** The record ID for the ending entity of the search path\n",
    "- **max_degree:** The number of relationship degrees to search"
   ]
  },
  {
   "cell_type": "markdown",
   "metadata": {},
   "source": [
    "First you will need to create some records so that you have some that you can compare. Can you see what is the same between this record and the previous one?"
   ]
  },
  {
   "cell_type": "code",
   "execution_count": null,
   "metadata": {},
   "outputs": [],
   "source": [
    "data = {\n",
    "    \"NAMES\": [{\n",
    "        \"NAME_TYPE\": \"PRIMARY\",\n",
    "        \"NAME_LAST\": \"Miller\",\n",
    "        \"NAME_FIRST\": \"Max\",\n",
    "        \"NAME_MIDDLE\": \"W\"\n",
    "    }],\n",
    "    \"SSN_NUMBER\": \"111-11-1111\"\n",
    "}\n",
    "\n",
    "data_string = json.dumps(data)\n",
    "ret = g2_engine.replaceRecord(\"TEST\", \"2\", data_string, None)\n",
    "print(result)\n",
    "\n",
    "data = {\n",
    "    \"NAMES\": [{\n",
    "        \"NAME_TYPE\": \"PRIMARY\",\n",
    "        \"NAME_LAST\": \"Miller\",\n",
    "        \"NAME_FIRST\": \"Mildred\"\n",
    "    }],\n",
    "    \"SSN_NUMBER\": \"111-11-1111\"\n",
    "}\n",
    "\n",
    "data_string = json.dumps(data)\n",
    "ret = g2_engine.replaceRecord(\"TEST\", \"3\", data_string, None)\n",
    "print(result)\n",
    "\n",
    "response_string = bytearray()\n",
    "result = g2_engine.getEntityByRecordID(\"TEST\", \"2\", response_string)\n",
    "response_dictionary = json.loads(response_string)\n",
    "entity_id_2 = response_dictionary[\"RESOLVED_ENTITY\"][\"ENTITY_ID\"]\n",
    "\n",
    "response_string = bytearray()\n",
    "result = g2_engine.getEntityByRecordID(\"TEST\", \"3\", response_string)\n",
    "response_dictionary = json.loads(response_string)\n",
    "entity_id_3 = response_dictionary[\"RESOLVED_ENTITY\"][\"ENTITY_ID\"]"
   ]
  },
  {
   "cell_type": "markdown",
   "metadata": {},
   "source": [
    "## `FindPathByEntityID()`"
   ]
  },
  {
   "cell_type": "code",
   "execution_count": null,
   "metadata": {},
   "outputs": [],
   "source": [
    "# Define search variables.\n",
    "\n",
    "max_degree = 3\n",
    "\n",
    "# Find the path by entity ID.\n",
    "\n",
    "response = bytearray([])\n",
    "g2_engine.findPathByEntityID(entity_id_2, entity_id_3, max_degree, response)\n",
    "\n",
    "# Print the results.\n",
    "\n",
    "response_dictionary = json.loads(response)\n",
    "response = json.dumps(response_dictionary, sort_keys=True, indent=4)\n",
    "print(\"Result: {0}\\n{1}\".format(result, response))"
   ]
  },
  {
   "cell_type": "markdown",
   "metadata": {},
   "source": [
    "## `FindPathByRecordID()`"
   ]
  },
  {
   "cell_type": "code",
   "execution_count": null,
   "metadata": {},
   "outputs": [],
   "source": [
    "# Define search variables.\n",
    "\n",
    "datasource_code_2 = \"TEST\"\n",
    "record_id_2 = \"2\"\n",
    "datasource_code_3 = \"TEST\"\n",
    "record_id_3 = \"3\"\n",
    "max_degree = 3\n",
    "\n",
    "# Find the path by record ID.\n",
    "\n",
    "response = bytearray([])\n",
    "g2_engine.findPathByRecordID(datasource_code_2, record_id_2,\n",
    "                             datasource_code_3, record_id_3,\n",
    "                             max_degree, response)\n",
    "\n",
    "# Print the results.\n",
    "\n",
    "response_dictionary = json.loads(response)\n",
    "response = json.dumps(response_dictionary, sort_keys=True, indent=4)\n",
    "print(\"Result: {0}\\n{1}\".format(result, response))"
   ]
  },
  {
   "cell_type": "markdown",
   "metadata": {},
   "source": [
    "## Finding Paths with Exclusions\n",
    "The `FindPathExcludingByEntityID()` and `FindPathExcludingByRecordID()` functions can be used to find single relationship paths between two entities. Paths are found using known relationships with other entities. In addition, it will find paths that exclude certain entities from being on the path.\n",
    "\n",
    "Entities can be searched for by either Entity ID or by Record ID, depending on which function is chosen. Additionally, entities to be excluded can also be specified by either Entity ID or by Record ID.\n",
    "\n",
    "When excluding entities, the user may choose to either (a) strictly exclude the entities, or (b) prefer to exclude the entities, but still include them if no other path is found. By default, entities will be strictly excluded. A \"preferred exclude\" may be done by specifying the G2_FIND_PATH_PREFER_EXCLUDE control flag.\n",
    "\n",
    "These functions have the following parameters:\n",
    "\n",
    "- **entity_id_2:** The entity ID for the starting entity of the search path\n",
    "- **entity_id_3:** The entity ID for the ending entity of the search path\n",
    "- **datasource_code_2:** The data source for the starting entity of the search path\n",
    "- **record_id_2:** The record ID for the starting entity of the search path\n",
    "- **datasource_code_3:** The data source for the ending entity of the search path\n",
    "- **record_id_3:** The record ID for the ending entity of the search path\n",
    "- **max_degree:** The number of relationship degrees to search\n",
    "- **excluded_entities:** Entities that should be avoided on the path (JSON document)\n",
    "- **flags:** Operational flags"
   ]
  },
  {
   "cell_type": "markdown",
   "metadata": {},
   "source": [
    "## `FindPathExcludingByEntityID()`"
   ]
  },
  {
   "cell_type": "code",
   "execution_count": null,
   "metadata": {
    "scrolled": true
   },
   "outputs": [],
   "source": [
    "# Define search variables.\n",
    "\n",
    "max_degree = 4\n",
    "excluded_entities = {\n",
    "    \"ENTITIES\": [{\n",
    "        \"ENTITY_ID\": entity_id_2\n",
    "    }]\n",
    "}\n",
    "flags = G2Engine.G2_EXPORT_DEFAULT_FLAGS\n",
    "excluded_string = json.dumps(excluded_entities)\n",
    "\n",
    "# Find the path by entity ID.\n",
    "\n",
    "response = bytearray([])\n",
    "g2_engine.findPathExcludingByEntityID(entity_id_2, entity_id_3, max_degree, excluded_string, flags, response)\n",
    "\n",
    "# Print the results.\n",
    "\n",
    "response_dictionary = json.loads(response)\n",
    "response = json.dumps(response_dictionary, sort_keys=True, indent=4)\n",
    "print(\"Result: {0}\\n{1}\".format(result, response))"
   ]
  },
  {
   "cell_type": "markdown",
   "metadata": {},
   "source": [
    "## `FindPathExcludingByRecordID()`"
   ]
  },
  {
   "cell_type": "code",
   "execution_count": null,
   "metadata": {},
   "outputs": [],
   "source": [
    "# Define search variables.\n",
    "\n",
    "datasource_code_2 = \"TEST\"\n",
    "record_id_2 = \"2\"\n",
    "datasource_code_3 = \"TEST\"\n",
    "record_id_3 = \"3\"\n",
    "excluded_records = {\n",
    "    \"RECORDS\": [{\n",
    "        \"RECORD_ID\": \"1\",\n",
    "        \"DATA_SOURCE\": \"TEST\"\n",
    "    }]\n",
    "}\n",
    "excluded_string = json.dumps(excluded_records)\n",
    "\n",
    "# Find the path by record ID.\n",
    "\n",
    "response = bytearray([])\n",
    "g2_engine.findPathExcludingByRecordID(datasource_code_2, record_id_2,\n",
    "                                      datasource_code_3, record_id_3,\n",
    "                                      max_degree, excluded_string, flags, response)\n",
    "\n",
    "# Print the results.\n",
    "\n",
    "response_dictionary = json.loads(response)\n",
    "response = json.dumps(response_dictionary, sort_keys=True, indent=4)\n",
    "print(\"Result: {0}\\n{1}\".format(result, response))"
   ]
  },
  {
   "cell_type": "markdown",
   "metadata": {},
   "source": [
    "## Finding Paths with Required Sources\n",
    "The `FindPathIncludingSourceByEntityID()` and `FindPathIncludingSourceByRecordID()` functions can be used to find single relationship paths between two entities. In addition, one of the enties along the path must include a specified data source.\n",
    "\n",
    "Entities can be searched for by either Entity ID or by Record ID, depending on which function is chosen. The required data source or sources are specified by a json document list.\n",
    "\n",
    "Specific entities may also be excluded, using the same methodology as the `FindPathExcludingByEntityID()` and `FindPathExcludingByRecordID()` functions use.\n",
    "\n",
    "These functions have the following parameters:\n",
    "\n",
    "- **entity_id_2:** The entity ID for the starting entity of the search path\n",
    "- **entity_id_3:** The entity ID for the ending entity of the search path\n",
    "- **datasource_code_2:** The data source for the starting entity of the search path\n",
    "- **record_id_2:** The record ID for the starting entity of the search path\n",
    "- **datasource_code_3:** The data source for the ending entity of the search path\n",
    "- **record_id_3:** The record ID for the ending entity of the search path\n",
    "- **max_degree:** The number of relationship degrees to search\n",
    "- **excluded_entities:** Entities that should be avoided on the path (JSON document)\n",
    "- **required_datasources:** Entities that should be avoided on the path (JSON document)\n",
    "- **flags:** Operational flags"
   ]
  },
  {
   "cell_type": "markdown",
   "metadata": {},
   "source": [
    "## `FindPathIncludingSourceByEntityID()`"
   ]
  },
  {
   "cell_type": "code",
   "execution_count": null,
   "metadata": {},
   "outputs": [],
   "source": [
    "#  Find entity_id_1 again, as it may have changed.\n",
    "\n",
    "response_string = bytearray()\n",
    "result = g2_engine.getEntityByRecordID(datasource_code, record_id_1, response_string)\n",
    "\n",
    "response_dictionary = json.loads(response_string)\n",
    "entity_id_1 = response_dictionary[\"RESOLVED_ENTITY\"][\"ENTITY_ID\"]\n",
    "\n",
    "# Define search variables.\n",
    "\n",
    "print(\"MJD: {0} {1} {2}\".format(entity_id_1, entity_id_2, entity_id_3))\n",
    "\n",
    "max_degree = 4\n",
    "excluded_entities = {\n",
    "    \"ENTITIES\": [{\n",
    "        \"ENTITY_ID\": entity_id_1\n",
    "    }]\n",
    "}\n",
    "excluded_string = json.dumps(excluded_entities)\n",
    "\n",
    "required_datasources = {\n",
    "    \"DATA_SOURCES\": [\n",
    "        \"TEST\"\n",
    "    ]\n",
    "}\n",
    "required_string = json.dumps(required_datasources)\n",
    "\n",
    "flags = G2Engine.G2_EXPORT_DEFAULT_FLAGS\n",
    "\n",
    "# Find the path by entity ID.\n",
    "\n",
    "response = bytearray([])\n",
    "g2_engine.findPathIncludingSourceByEntityID(entity_id_2, entity_id_3,\n",
    "                                            max_degree,\n",
    "                                            excluded_string, required_string,\n",
    "                                            flags, response)\n",
    "\n",
    "# Print the results.\n",
    "\n",
    "response_dictionary = json.loads(response)\n",
    "response = json.dumps(response_dictionary, sort_keys=True, indent=4)\n",
    "print(\"Result: {0}\\n{1}\".format(result, response))"
   ]
  },
  {
   "cell_type": "markdown",
   "metadata": {},
   "source": [
    "## `FindPathIncludingSourceByRecordID()`"
   ]
  },
  {
   "cell_type": "code",
   "execution_count": null,
   "metadata": {},
   "outputs": [],
   "source": [
    "# Define search variables.\n",
    "\n",
    "datasource_code_2 = \"TEST\"\n",
    "record_id_2 = \"2\"\n",
    "datasource_code_3 = \"TEST\"\n",
    "record_id_3 = \"3\"\n",
    "excluded_records = {\n",
    "    \"RECORDS\": [{\n",
    "        \"RECORD_ID\": \"1\",\n",
    "        \"DATA_SOURCE\": \"TEST\"\n",
    "    }]\n",
    "}\n",
    "excluded_string = json.dumps(excluded_entities)\n",
    "\n",
    "# Find the path by record ID.\n",
    "\n",
    "response = bytearray([])\n",
    "g2_engine.findPathIncludingSourceByRecordID(datasource_code_2, record_id_2,\n",
    "                                            datasource_code_3, record_id_3,\n",
    "                                            max_degree,\n",
    "                                            excluded_string, required_string,\n",
    "                                            flags, response)\n",
    "\n",
    "# Print the results.\n",
    "\n",
    "response_dictionary = json.loads(response)\n",
    "response = json.dumps(response_dictionary, sort_keys=True, indent=4)\n",
    "print(\"Result: {0}\\n{1}\".format(result, response))"
   ]
  },
  {
   "cell_type": "markdown",
   "metadata": {},
   "source": [
    "## Redo Processing\n",
    "Redo records are automatically created by Senzing when certain conditions occur where it believes more processing may be needed.  Some examples:\n",
    "* A value becomes generic and previous decisions may need to be revisited\n",
    "* Clean up after some record deletes\n",
    "* Detected related entities were being changed at the same time\n",
    "* A table inconsistency exists, potentially after a non-graceful shutdown\n",
    "First we will need to have a total of 6 data sources so let's add 4 more"
   ]
  },
  {
   "cell_type": "code",
   "execution_count": null,
   "metadata": {},
   "outputs": [],
   "source": [
    "data = {\n",
    "    \"NAMES\": [{\n",
    "        \"NAME_TYPE\": \"PRIMARY\",\n",
    "        \"NAME_LAST\": \"Owens\",\n",
    "        \"NAME_FIRST\": \"Lily\"\n",
    "    }],\n",
    "    \"SSN_NUMBER\": \"111-11-1111\"\n",
    "}\n",
    "data_string = json.dumps(data)\n",
    "ret = g2_engine.replaceRecord(\"TEST\", \"4\", data_string, None)\n",
    "print(result)\n",
    "\n",
    "data = {\n",
    "    \"NAMES\": [{\n",
    "        \"NAME_TYPE\": \"PRIMARY\",\n",
    "        \"NAME_LAST\": \"Bauler\",\n",
    "        \"NAME_FIRST\": \"August\",\n",
    "        \"NAME_MIDDLE\": \"E\"\n",
    "    }],\n",
    "    \"SSN_NUMBER\": \"111-11-1111\"\n",
    "}\n",
    "data_string = json.dumps(data)\n",
    "ret = g2_engine.replaceRecord(\"TEST\", \"5\", data_string, None)\n",
    "print(result)\n",
    "\n",
    "data = {\n",
    "    \"NAMES\": [{\n",
    "        \"NAME_TYPE\": \"PRIMARY\",\n",
    "        \"NAME_LAST\": \"Barcy\",\n",
    "        \"NAME_FIRST\": \"Brian\",\n",
    "        \"NAME_MIDDLE\": \"H\"\n",
    "    }],\n",
    "    \"SSN_NUMBER\": \"111-11-1111\"\n",
    "}\n",
    "data_string = json.dumps(data)\n",
    "ret = g2_engine.replaceRecord(\"TEST\", \"6\", data_string, None)\n",
    "print(result)\n",
    "\n",
    "data = {\n",
    "    \"NAMES\": [{\n",
    "        \"NAME_TYPE\": \"PRIMARY\",\n",
    "        \"NAME_LAST\": \"Miller\",\n",
    "        \"NAME_FIRST\": \"Jack\",\n",
    "        \"NAME_MIDDLE\": \"H\"\n",
    "    }],\n",
    "    \"SSN_NUMBER\": \"111-11-1111\"\n",
    "}\n",
    "data_string = json.dumps(data)\n",
    "ret = g2_engine.replaceRecord(\"TEST\", \"7\", data_string, None)\n",
    "print(result)\n",
    "\n",
    "response_string = bytearray()\n",
    "result = g2_engine.getEntityByRecordID(\"TEST\", \"4\", response_string)\n",
    "response_dictionary = json.loads(response_string)\n",
    "entity_id_4 = response_dictionary[\"RESOLVED_ENTITY\"][\"ENTITY_ID\"]\n",
    "\n",
    "response_string = bytearray()\n",
    "result = g2_engine.getEntityByRecordID(\"TEST\", \"5\", response_string)\n",
    "response_dictionary = json.loads(response_string)\n",
    "entity_id_5 = response_dictionary[\"RESOLVED_ENTITY\"][\"ENTITY_ID\"]\n",
    "\n",
    "response_string = bytearray()\n",
    "result = g2_engine.getEntityByRecordID(\"TEST\", \"6\", response_string)\n",
    "response_dictionary = json.loads(response_string)\n",
    "entity_id_6 = response_dictionary[\"RESOLVED_ENTITY\"][\"ENTITY_ID\"]\n",
    "\n",
    "response_string = bytearray()\n",
    "result = g2_engine.getEntityByRecordID(\"TEST\", \"7\", response_string)\n",
    "response_dictionary = json.loads(response_string)\n",
    "entity_id_7 = response_dictionary[\"RESOLVED_ENTITY\"][\"ENTITY_ID\"]"
   ]
  },
  {
   "cell_type": "markdown",
   "metadata": {},
   "source": [
    "## Counting the number of redos\n",
    "This returns the number of redos within the processed records that are awaiting processing."
   ]
  },
  {
   "cell_type": "code",
   "execution_count": null,
   "metadata": {},
   "outputs": [],
   "source": [
    "response = g2_engine.countRedoRecords()\n",
    "print(response)"
   ]
  },
  {
   "cell_type": "markdown",
   "metadata": {},
   "source": [
    "## Geting a redo record\n",
    "Gets a redo record so that it can be processed"
   ]
  },
  {
   "cell_type": "code",
   "execution_count": null,
   "metadata": {},
   "outputs": [],
   "source": [
    "response_string = bytearray()\n",
    "response = g2_engine.getRedoRecord(response_string)\n",
    "print(response)\n",
    "if (response == 0 and response_string):\n",
    "    g2_engine.process(response_string.decode())"
   ]
  },
  {
   "cell_type": "markdown",
   "metadata": {},
   "source": [
    "## Processing redo records\n",
    "This processes the next redo record and returns it (If `processRedoRecord()` \"response\" returns 0 and \"response_string\" is blank then there are no more redo records to process and if you do `count.RedoRecords()` again it will return 0)\n",
    "Has potential to create more redo records in certian situations"
   ]
  },
  {
   "cell_type": "code",
   "execution_count": null,
   "metadata": {},
   "outputs": [],
   "source": [
    "response_string = bytearray()\n",
    "response = g2_engine.processRedoRecord(response_string)\n",
    "print(response)\n",
    "print(response_string.decode())"
   ]
  },
  {
   "cell_type": "markdown",
   "metadata": {},
   "source": [
    "## Deleting Records\n",
    "use `deleteRecord()` to remove a record from the data repository (returns \"0\" upon success) ; `deleteRecord()` can be called as many times as desired and from multiple threads at the same time. The `deleteRecord()` function accepts three parameters as input:\n",
    "\n",
    "- **datasource_code:** The name of the data source the record is associated with. This value is configurable to the system\n",
    "- **record_id_1:** The record ID, used to identify distinct records\n",
    "- **load_id:** The observation load ID for the record; value can be null and will default to dataSourceCode"
   ]
  },
  {
   "cell_type": "code",
   "execution_count": null,
   "metadata": {
    "scrolled": false
   },
   "outputs": [],
   "source": [
    "datasource_code = 'TEST'\n",
    "record_id_1 = '1'\n",
    "load_id = None\n",
    "ret = g2_engine.deleteRecord(datasource_code, record_id_1, load_id)"
   ]
  },
  {
   "cell_type": "markdown",
   "metadata": {},
   "source": [
    "Attempt to get the record again. It should error and give an output similar to \"Unknown record\"."
   ]
  },
  {
   "cell_type": "code",
   "execution_count": null,
   "metadata": {},
   "outputs": [],
   "source": [
    "response_list = []\n",
    "\n",
    "try:\n",
    "    result = g2_engine.getRecord(datasource_code, record_id_1, response_list)\n",
    "\n",
    "    response_string = \"\".join(response_list)\n",
    "    response_dictionary = json.loads(response_string)\n",
    "    response = json.dumps(response_dictionary, sort_keys=True, indent=4)\n",
    "    print(\"Result: {0}\\n{1}\".format(result, response))\n",
    "except G2Exception.G2ModuleGenericException as error:\n",
    "    print(\"Expected error: {0}\".format(error))"
   ]
  },
  {
   "cell_type": "markdown",
   "metadata": {},
   "source": [
    "## Purge Repository\n",
    "To purge the G2 repository, use the aptly named `purgeRepository()` method. This will remove every record in your current repository."
   ]
  },
  {
   "cell_type": "code",
   "execution_count": null,
   "metadata": {},
   "outputs": [],
   "source": [
    "g2_engine.purgeRepository()"
   ]
  }
 ],
 "metadata": {
  "kernelspec": {
   "display_name": "Python 3",
   "language": "python",
   "name": "python3"
  },
  "language_info": {
   "codemirror_mode": {
    "name": "ipython",
    "version": 3
   },
   "file_extension": ".py",
   "mimetype": "text/x-python",
   "name": "python",
   "nbconvert_exporter": "python",
   "pygments_lexer": "ipython3",
   "version": "3.7.3"
  }
 },
 "nbformat": 4,
 "nbformat_minor": 2
}
