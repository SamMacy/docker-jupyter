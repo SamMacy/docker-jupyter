{
 "cells": [
  {
   "cell_type": "markdown",
   "metadata": {},
   "source": [
    "# Adding records\n",
    "\n",
    "The `addRecord()` method creates a JSON string with information about your Senzing version."
   ]
  },
  {
   "cell_type": "code",
   "execution_count": 26,
   "metadata": {},
   "outputs": [],
   "source": [
    "import os\n",
    "import sys\n",
    "import json\n",
    "\n",
    "sys.path.append('/opt/senzing/g2/python')"
   ]
  },
  {
   "cell_type": "markdown",
   "metadata": {},
   "source": [
    "# G2Engine\n",
    "The G2Engine API..."
   ]
  },
  {
   "cell_type": "code",
   "execution_count": 27,
   "metadata": {},
   "outputs": [],
   "source": [
    "from G2Engine import G2Engine"
   ]
  },
  {
   "cell_type": "code",
   "execution_count": 28,
   "metadata": {},
   "outputs": [
    {
     "name": "stdout",
     "output_type": "stream",
     "text": [
      "Initializing G2 engine\n",
      "Initialization Status: 0\n"
     ]
    }
   ],
   "source": [
    "g2Engine = G2Engine()\n",
    "if (g2Engine.init('G2pynb','/opt/senzing/g2/python/G2Module.ini',True) != 0):\n",
    "    exit(-1)\n",
    "    "
   ]
  },
  {
   "cell_type": "markdown",
   "metadata": {},
   "source": [
    "## Initialize variables\n",
    "\n",
    "Create variables used in `addRecord()`."
   ]
  },
  {
   "cell_type": "code",
   "execution_count": 29,
   "metadata": {},
   "outputs": [],
   "source": [
    "module_name = 'pyG2EngineForAddRecord'\n",
    "senzing_directory = os.environ.get(\"SENZING_DIR\", \"/opt/senzing\")\n",
    "senzing_python_directory = \"{0}/g2/python\".format(senzing_directory)\n",
    "g2module_ini_pathname = \"{0}/G2Module.ini\".format(senzing_python_directory)\n",
    "verbose_logging = False\n",
    "config_id = bytearray([])"
   ]
  },
  {
   "cell_type": "markdown",
   "metadata": {},
   "source": [
    "## System path\n",
    "\n",
    "Update system path."
   ]
  },
  {
   "cell_type": "code",
   "execution_count": 30,
   "metadata": {},
   "outputs": [],
   "source": [
    "sys.path.append(senzing_python_directory)"
   ]
  },
  {
   "cell_type": "markdown",
   "metadata": {},
   "source": [
    "## Initialization\n",
    "\n",
    "To start using Senzing G2Engine, create and initialize an instance.\n",
    "This should be done once per process.\n",
    "The `init()` method accepts the following parameters:\n",
    "\n",
    "- **module_name:** A short name given to this instance of the G2 engine (i.e. your G2Module object)\n",
    "- **g2module_ini_pathname:** A fully qualified path to the G2 engine INI file (often /opt/senzing/g2/python/G2Module.ini)\n",
    "- **verbose_logging:** A boolean which enables diagnostic logging - this will print a massive amount of information to stdout (default = False)\n",
    "- **config_id:** (optional) The identifier value for the engine configuration can be returned here.\n",
    "\n",
    "Calling this function will return \"0\" upon success."
   ]
  },
  {
   "cell_type": "code",
   "execution_count": 31,
   "metadata": {},
   "outputs": [
    {
     "name": "stdout",
     "output_type": "stream",
     "text": [
      "0\n"
     ]
    }
   ],
   "source": [
    "g2_engine = G2Engine()\n",
    "result = g2_engine.init(module_name, g2module_ini_pathname, verbose_logging, config_id)\n",
    "print(result)"
   ]
  },
  {
   "cell_type": "markdown",
   "metadata": {},
   "source": [
    "## Prime Engine\n",
    "\n",
    "The `primeEngine()` method may optionally be called to pre-initialize some of the heavier weight internal resources of the G2 engine."
   ]
  },
  {
   "cell_type": "code",
   "execution_count": 32,
   "metadata": {},
   "outputs": [],
   "source": [
    "response = g2_engine.primeEngine()"
   ]
  },
  {
   "cell_type": "markdown",
   "metadata": {},
   "source": [
    "## addRecord()\n",
    "\n",
    "Once the Senzing engine is initialized, use addRecord() to load a record into the Senzing repository -- addRecord() can be called as many times as desired and from multiple threads at the same time. The addRecord() function returns \"0\" upon success, and accepts four parameters as input:\n",
    "\n",
    "- **datasource_code:** The name of the data source the record is associated with. This value is configurable to the system\n",
    "- **record_id:** The record ID, used to identify distinct records\n",
    "- **data_string:** A JSON document with the attribute data for the record\n",
    "- **load_id:** The observation load ID for the record; value can be null and will default to data_source\n"
   ]
  },
  {
   "cell_type": "code",
   "execution_count": 40,
   "metadata": {},
   "outputs": [
    {
     "name": "stdout",
     "output_type": "stream",
     "text": [
      "0\n"
     ]
    }
   ],
   "source": [
    "datasource_code = \"TEST\"\n",
    "record_id = \"1\"\n",
    "load_id = None\n",
    "data = {\n",
    "\t\"NAMES\": [{\n",
    "\t\t\"NAME_TYPE\": \"PRIMARY\",\n",
    "\t\t\"NAME_LAST\": \"Smith\",\n",
    "\t\t\"NAME_FIRST\": \"John\",\n",
    "\t\t\"NAME_MIDDLE\": \"M\"\n",
    "\t}],\n",
    "\t\"PASSPORT_NUMBER\": \"PP11111\",\n",
    "\t\"PASSPORT_COUNTRY\": \"US\",\n",
    "\t\"DRIVERS_LICENSE_NUMBER\": \"DL11111\",\n",
    "\t\"SSN_NUMBER\": \"111-11-1111\"\n",
    "}\n",
    "data_string = json.dumps(data)\n",
    "\n",
    "result = g2_engine.addRecord(datasource_code, record_id, data_string, load_id)\n",
    "print(result)"
   ]
  },
  {
   "cell_type": "markdown",
   "metadata": {},
   "source": [
    "## getRecord()\n",
    "\n",
    "Use `getRecord()` to retrieve a single record from the data repository; the record is assigned in JSON form to a user-designated buffer, and the function itself returns \"0\" upon success. Once the Senzing engine is initialized, `getRecord()` can be called as many times as desired and from multiple threads at the same time. The `getRecord()` function accepts the following parameters as input:\n",
    "\n",
    "- **data_source:** The name of the data source the record is associated with. This value is configurable to the system\n",
    "- **record_id:** The record ID, used to identify the record for retrieval\n",
    "- **response:** A memory buffer for returning the response document; if an error occurred, an error response is stored here"
   ]
  },
  {
   "cell_type": "code",
   "execution_count": 34,
   "metadata": {
    "scrolled": true
   },
   "outputs": [
    {
     "name": "stdout",
     "output_type": "stream",
     "text": [
      "Result: 0\n",
      "{\n",
      "    \"ADDRESS_DATA\": [],\n",
      "    \"ATTRIBUTE_DATA\": [],\n",
      "    \"DATA_SOURCE\": \"TEST\",\n",
      "    \"ENTITY_DATA\": [],\n",
      "    \"ENTITY_KEY\": \"DC22202DD6CC5FFF711D866BCF1394489FFA9180\",\n",
      "    \"ENTITY_TYPE\": \"TEST\",\n",
      "    \"IDENTIFIER_DATA\": [\n",
      "        \"DRLIC: DL11111\",\n",
      "        \"PASSPORT: PP11111 US\",\n",
      "        \"SSN: 111-11-1111\"\n",
      "    ],\n",
      "    \"JSON_DATA\": {\n",
      "        \"DATA_SOURCE\": \"TEST\",\n",
      "        \"DRIVERS_LICENSE_NUMBER\": \"DL11111\",\n",
      "        \"DSRC_ACTION\": \"A\",\n",
      "        \"ENTITY_TYPE\": \"TEST\",\n",
      "        \"LENS_CODE\": \"DEFAULT\",\n",
      "        \"NAMES\": [\n",
      "            {\n",
      "                \"NAME_FIRST\": \"John\",\n",
      "                \"NAME_LAST\": \"Smith\",\n",
      "                \"NAME_MIDDLE\": \"M\",\n",
      "                \"NAME_TYPE\": \"PRIMARY\"\n",
      "            }\n",
      "        ],\n",
      "        \"PASSPORT_COUNTRY\": \"US\",\n",
      "        \"PASSPORT_NUMBER\": \"PP11111\",\n",
      "        \"RECORD_ID\": \"1\",\n",
      "        \"SSN_NUMBER\": \"111-11-1111\"\n",
      "    },\n",
      "    \"LAST_SEEN_DT\": \"2019-04-20 17:57:43.931\",\n",
      "    \"NAME_DATA\": [\n",
      "        \"PRIMARY: Smith John M\"\n",
      "    ],\n",
      "    \"OBS_ENT_HASH\": \"DC22202DD6CC5FFF711D866BCF1394489FFA9180\",\n",
      "    \"OTHER_DATA\": [],\n",
      "    \"PHONE_DATA\": [],\n",
      "    \"RECORD_ID\": \"1\",\n",
      "    \"RELATIONSHIP_DATA\": []\n",
      "}\n"
     ]
    }
   ],
   "source": [
    "response_list = []\n",
    "result = g2_engine.getRecord(datasource_code, record_id, response_list)\n",
    "\n",
    "response_string = \"\".join(response_list)\n",
    "response_dictionary = json.loads(response_string)\n",
    "response = json.dumps(response_dictionary, sort_keys=True, indent=4)\n",
    "print(\"Result: {0}\\n{1}\".format(result, response))"
   ]
  },
  {
   "cell_type": "markdown",
   "metadata": {},
   "source": [
    "## getEntityByRecordID()\n",
    "\n",
    "Use `getEntityByRecordID()` to retrieve entity data based on the record ID of a particular data record. This function accepts the following parameters as input:\n",
    "\n",
    "- **datasource_code:** The name of the data source the record is associated with. This value is configurable to the system\n",
    "- **record_id:** The record ID for a particular data record\n",
    "- **response:** A memory buffer for returning the response document; if an error occurred, an error response is stored here."
   ]
  },
  {
   "cell_type": "code",
   "execution_count": 35,
   "metadata": {},
   "outputs": [
    {
     "name": "stdout",
     "output_type": "stream",
     "text": [
      "Result: 0\n",
      "{\n",
      "    \"RELATED_ENTITIES\": [],\n",
      "    \"RESOLVED_ENTITY\": {\n",
      "        \"ENTITY_ID\": 3002,\n",
      "        \"ENTITY_NAME\": \"JOHN M SMITH\",\n",
      "        \"FEATURES\": {\n",
      "            \"DRLIC\": [\n",
      "                {\n",
      "                    \"FEAT_DESC\": \"DL11111\",\n",
      "                    \"FEAT_DESC_VALUES\": [\n",
      "                        {\n",
      "                            \"FEAT_DESC\": \"DL11111\",\n",
      "                            \"LIB_FEAT_ID\": 3\n",
      "                        }\n",
      "                    ],\n",
      "                    \"LIB_FEAT_ID\": 3\n",
      "                }\n",
      "            ],\n",
      "            \"NAME\": [\n",
      "                {\n",
      "                    \"FEAT_DESC\": \"JOHN M SMITH\",\n",
      "                    \"FEAT_DESC_VALUES\": [\n",
      "                        {\n",
      "                            \"FEAT_DESC\": \"JOHN M SMITH\",\n",
      "                            \"LIB_FEAT_ID\": 1\n",
      "                        }\n",
      "                    ],\n",
      "                    \"LIB_FEAT_ID\": 1,\n",
      "                    \"UTYPE_CODE\": \"PRIMARY\"\n",
      "                }\n",
      "            ],\n",
      "            \"PASSPORT\": [\n",
      "                {\n",
      "                    \"FEAT_DESC\": \"PP11111 US\",\n",
      "                    \"FEAT_DESC_VALUES\": [\n",
      "                        {\n",
      "                            \"FEAT_DESC\": \"PP11111 US\",\n",
      "                            \"LIB_FEAT_ID\": 4\n",
      "                        }\n",
      "                    ],\n",
      "                    \"LIB_FEAT_ID\": 4\n",
      "                }\n",
      "            ],\n",
      "            \"SSN\": [\n",
      "                {\n",
      "                    \"FEAT_DESC\": \"111-11-1111\",\n",
      "                    \"FEAT_DESC_VALUES\": [\n",
      "                        {\n",
      "                            \"FEAT_DESC\": \"111-11-1111\",\n",
      "                            \"LIB_FEAT_ID\": 2\n",
      "                        }\n",
      "                    ],\n",
      "                    \"LIB_FEAT_ID\": 2\n",
      "                }\n",
      "            ]\n",
      "        },\n",
      "        \"LAST_SEEN_DT\": \"2019-04-20 17:57:43.931\",\n",
      "        \"LENS_ID\": 1,\n",
      "        \"RECORDS\": [\n",
      "            {\n",
      "                \"ADDRESS_DATA\": [],\n",
      "                \"ATTRIBUTE_DATA\": [],\n",
      "                \"DATA_SOURCE\": \"TEST\",\n",
      "                \"ENTITY_DATA\": [],\n",
      "                \"ENTITY_KEY\": \"5233F4BBB2F8F5A3C179210F4190B49E855D71C5\",\n",
      "                \"ENTITY_NAME\": \"John M SMITH\",\n",
      "                \"ENTITY_TYPE\": \"TEST\",\n",
      "                \"ERRULE_CODE\": \"\",\n",
      "                \"IDENTIFIER_DATA\": [\n",
      "                    \"DRLIC: DL11111\",\n",
      "                    \"PASSPORT: PP11111 US\",\n",
      "                    \"SSN: 111-11-1111\"\n",
      "                ],\n",
      "                \"JSON_DATA\": {\n",
      "                    \"DATA_SOURCE\": \"TEST\",\n",
      "                    \"DRIVERS_LICENSE_NUMBER\": \"DL11111\",\n",
      "                    \"DSRC_ACTION\": \"A\",\n",
      "                    \"ENTITY_TYPE\": \"TEST\",\n",
      "                    \"LENS_CODE\": \"DEFAULT\",\n",
      "                    \"NAME_FIRST\": \"John\",\n",
      "                    \"NAME_LAST\": \"SMITH\",\n",
      "                    \"NAME_MIDDLE\": \"M\",\n",
      "                    \"NAME_TYPE\": \"PRIMARY\",\n",
      "                    \"PASSPORT_COUNTRY\": \"US\",\n",
      "                    \"PASSPORT_NUMBER\": \"PP11111\",\n",
      "                    \"RECORD_ID\": \"RECORD3\",\n",
      "                    \"SSN_NUMBER\": \"111-11-1111\"\n",
      "                },\n",
      "                \"LAST_SEEN_DT\": \"2019-04-20 15:11:51.329\",\n",
      "                \"MATCH_KEY\": \"\",\n",
      "                \"MATCH_LEVEL\": 0,\n",
      "                \"MATCH_SCORE\": \"\",\n",
      "                \"NAME_DATA\": [\n",
      "                    \"PRIMARY: SMITH John M\"\n",
      "                ],\n",
      "                \"OTHER_DATA\": [],\n",
      "                \"PHONE_DATA\": [],\n",
      "                \"RECORD_ID\": \"RECORD3\",\n",
      "                \"REF_SCORE\": 0,\n",
      "                \"RELATIONSHIP_DATA\": []\n",
      "            },\n",
      "            {\n",
      "                \"ADDRESS_DATA\": [],\n",
      "                \"ATTRIBUTE_DATA\": [],\n",
      "                \"DATA_SOURCE\": \"TEST\",\n",
      "                \"ENTITY_DATA\": [],\n",
      "                \"ENTITY_KEY\": \"DC22202DD6CC5FFF711D866BCF1394489FFA9180\",\n",
      "                \"ENTITY_NAME\": \"John M Smith\",\n",
      "                \"ENTITY_TYPE\": \"TEST\",\n",
      "                \"ERRULE_CODE\": \"SF1_CNAME\",\n",
      "                \"IDENTIFIER_DATA\": [\n",
      "                    \"DRLIC: DL11111\",\n",
      "                    \"PASSPORT: PP11111 US\",\n",
      "                    \"SSN: 111-11-1111\"\n",
      "                ],\n",
      "                \"JSON_DATA\": {\n",
      "                    \"DATA_SOURCE\": \"TEST\",\n",
      "                    \"DRIVERS_LICENSE_NUMBER\": \"DL11111\",\n",
      "                    \"DSRC_ACTION\": \"A\",\n",
      "                    \"ENTITY_TYPE\": \"TEST\",\n",
      "                    \"LENS_CODE\": \"DEFAULT\",\n",
      "                    \"NAMES\": [\n",
      "                        {\n",
      "                            \"NAME_FIRST\": \"John\",\n",
      "                            \"NAME_LAST\": \"Smith\",\n",
      "                            \"NAME_MIDDLE\": \"M\",\n",
      "                            \"NAME_TYPE\": \"PRIMARY\"\n",
      "                        }\n",
      "                    ],\n",
      "                    \"PASSPORT_COUNTRY\": \"US\",\n",
      "                    \"PASSPORT_NUMBER\": \"PP11111\",\n",
      "                    \"RECORD_ID\": \"1\",\n",
      "                    \"SSN_NUMBER\": \"111-11-1111\"\n",
      "                },\n",
      "                \"LAST_SEEN_DT\": \"2019-04-20 17:57:43.931\",\n",
      "                \"MATCH_KEY\": \"+NAME+SSN+DRLIC+PASSPORT\",\n",
      "                \"MATCH_LEVEL\": 1,\n",
      "                \"MATCH_SCORE\": \"20\",\n",
      "                \"NAME_DATA\": [\n",
      "                    \"PRIMARY: Smith John M\"\n",
      "                ],\n",
      "                \"OTHER_DATA\": [],\n",
      "                \"PHONE_DATA\": [],\n",
      "                \"RECORD_ID\": \"1\",\n",
      "                \"REF_SCORE\": 8,\n",
      "                \"RELATIONSHIP_DATA\": []\n",
      "            }\n",
      "        ],\n",
      "        \"RECORD_SUMMARY\": [\n",
      "            {\n",
      "                \"DATA_SOURCE\": \"TEST\",\n",
      "                \"FIRST_SEEN_DT\": \"2019-02-23 22:06:51.032\",\n",
      "                \"LAST_SEEN_DT\": \"2019-04-20 17:57:43.931\",\n",
      "                \"RECORD_COUNT\": 2\n",
      "            }\n",
      "        ]\n",
      "    }\n",
      "}\n"
     ]
    }
   ],
   "source": [
    "response_list = []\n",
    "result = g2_engine.getEntityByRecordID(datasource_code, record_id, response_list)\n",
    "\n",
    "response_string = \"\".join(response_list)\n",
    "response_dictionary = json.loads(response_string)\n",
    "response = json.dumps(response_dictionary, sort_keys=True, indent=4)\n",
    "print(\"Result: {0}\\n{1}\".format(result, response))"
   ]
  },
  {
   "cell_type": "markdown",
   "metadata": {},
   "source": [
    "## getEntityByEntityID()\n",
    "\n",
    "Use `getEntityByEntityID()` to retrieve entity data based on the ID of a resolved identity. This function accepts the following parameters as input:\n",
    "\n",
    "- **entity_id:** The numeric ID of a resolved entity\n",
    "- **response:** A memory buffer for returning the response document; if an error occurred, an error response is stored here."
   ]
  },
  {
   "cell_type": "code",
   "execution_count": 36,
   "metadata": {
    "scrolled": true
   },
   "outputs": [],
   "source": [
    "##SAMTODO THIS IS BROKEN\n",
    "entity_id = 3002\n",
    "response_list = bytearray('','utf-8')\n",
    "#result = g2_engine.getEntityByEntityID(entity_id, response_list)\n",
    "\n",
    "#response_string = \"\".join(response_list)\n",
    "#response_dictionary = json.loads(response_string)\n",
    "#response = json.dumps(response_dictionary, sort_keys=True, indent=4)\n",
    "#print(\"Result: {0}\\n{1}\".format(result, response))\n"
   ]
  },
  {
   "cell_type": "markdown",
   "metadata": {},
   "source": [
    "## searchByAttributes()\n",
    "\n",
    "Use `searchByAttributes()` to retrieve entity data based on a user-specified set of entity attributes. This function accepts the following parameters as input:\n",
    "\n",
    "- **data_string:** A JSON document with the attribute data to search for\n",
    "- **response:** A memory buffer for returning the response document; if an error occurred, an error response is stored here."
   ]
  },
  {
   "cell_type": "code",
   "execution_count": 37,
   "metadata": {},
   "outputs": [
    {
     "name": "stdout",
     "output_type": "stream",
     "text": [
      "Result: 0\n",
      "{\n",
      "    \"SEARCH_RESPONSE\": {\n",
      "        \"RESOLVED_ENTITIES\": [\n",
      "            {\n",
      "                \"ENTITY_ID\": 3002,\n",
      "                \"ENTITY_NAME\": \"JOHN M SMITH\",\n",
      "                \"ERRULE_CODE\": \"SF1_CNAME\",\n",
      "                \"FEATURES\": {\n",
      "                    \"DRLIC\": [\n",
      "                        {\n",
      "                            \"FEAT_DESC\": \"DL11111\",\n",
      "                            \"FEAT_DESC_VALUES\": [\n",
      "                                {\n",
      "                                    \"FEAT_DESC\": \"DL11111\",\n",
      "                                    \"LIB_FEAT_ID\": 3\n",
      "                                }\n",
      "                            ],\n",
      "                            \"LIB_FEAT_ID\": 3\n",
      "                        }\n",
      "                    ],\n",
      "                    \"NAME\": [\n",
      "                        {\n",
      "                            \"FEAT_DESC\": \"JOHN M SMITH\",\n",
      "                            \"FEAT_DESC_VALUES\": [\n",
      "                                {\n",
      "                                    \"FEAT_DESC\": \"JOHN M SMITH\",\n",
      "                                    \"LIB_FEAT_ID\": 1\n",
      "                                }\n",
      "                            ],\n",
      "                            \"LIB_FEAT_ID\": 1,\n",
      "                            \"UTYPE_CODE\": \"PRIMARY\"\n",
      "                        }\n",
      "                    ],\n",
      "                    \"PASSPORT\": [\n",
      "                        {\n",
      "                            \"FEAT_DESC\": \"PP11111 US\",\n",
      "                            \"FEAT_DESC_VALUES\": [\n",
      "                                {\n",
      "                                    \"FEAT_DESC\": \"PP11111 US\",\n",
      "                                    \"LIB_FEAT_ID\": 4\n",
      "                                }\n",
      "                            ],\n",
      "                            \"LIB_FEAT_ID\": 4\n",
      "                        }\n",
      "                    ],\n",
      "                    \"SSN\": [\n",
      "                        {\n",
      "                            \"FEAT_DESC\": \"111-11-1111\",\n",
      "                            \"FEAT_DESC_VALUES\": [\n",
      "                                {\n",
      "                                    \"FEAT_DESC\": \"111-11-1111\",\n",
      "                                    \"LIB_FEAT_ID\": 2\n",
      "                                }\n",
      "                            ],\n",
      "                            \"LIB_FEAT_ID\": 2\n",
      "                        }\n",
      "                    ]\n",
      "                },\n",
      "                \"LAST_SEEN_DT\": \"2019-04-20 17:57:43.931\",\n",
      "                \"LENS_ID\": 1,\n",
      "                \"MATCH_KEY\": \"+NAME+SSN+DRLIC+PASSPORT\",\n",
      "                \"MATCH_LEVEL\": 1,\n",
      "                \"MATCH_SCORE\": \"20\",\n",
      "                \"MATCH_SCORES\": {\n",
      "                    \"DRLIC\": [\n",
      "                        {\n",
      "                            \"CANDIDATE_FEAT\": \"DL11111\",\n",
      "                            \"FULL_SCORE\": 100,\n",
      "                            \"INBOUND_FEAT\": \"DL11111\"\n",
      "                        }\n",
      "                    ],\n",
      "                    \"NAME\": [\n",
      "                        {\n",
      "                            \"CANDIDATE_FEAT\": \"JOHN M SMITH\",\n",
      "                            \"GENERATION_MATCH\": -1,\n",
      "                            \"GNR_FN\": 95,\n",
      "                            \"GNR_GN\": 95,\n",
      "                            \"GNR_ON\": -1,\n",
      "                            \"GNR_SN\": 100,\n",
      "                            \"INBOUND_FEAT\": \"JOHN M SMITH\"\n",
      "                        }\n",
      "                    ],\n",
      "                    \"PASSPORT\": [\n",
      "                        {\n",
      "                            \"CANDIDATE_FEAT\": \"PP11111 US\",\n",
      "                            \"FULL_SCORE\": 100,\n",
      "                            \"INBOUND_FEAT\": \"PP11111 US\"\n",
      "                        }\n",
      "                    ],\n",
      "                    \"SSN\": [\n",
      "                        {\n",
      "                            \"CANDIDATE_FEAT\": \"111-11-1111\",\n",
      "                            \"FULL_SCORE\": 100,\n",
      "                            \"INBOUND_FEAT\": \"111-11-1111\"\n",
      "                        }\n",
      "                    ]\n",
      "                },\n",
      "                \"RECORDS\": [\n",
      "                    {\n",
      "                        \"ADDRESS_DATA\": [],\n",
      "                        \"ATTRIBUTE_DATA\": [],\n",
      "                        \"DATA_SOURCE\": \"TEST\",\n",
      "                        \"ENTITY_DATA\": [],\n",
      "                        \"ENTITY_KEY\": \"5233F4BBB2F8F5A3C179210F4190B49E855D71C5\",\n",
      "                        \"ENTITY_NAME\": \"John M SMITH\",\n",
      "                        \"ENTITY_TYPE\": \"TEST\",\n",
      "                        \"ERRULE_CODE\": \"\",\n",
      "                        \"IDENTIFIER_DATA\": [\n",
      "                            \"DRLIC: DL11111\",\n",
      "                            \"PASSPORT: PP11111 US\",\n",
      "                            \"SSN: 111-11-1111\"\n",
      "                        ],\n",
      "                        \"JSON_DATA\": {\n",
      "                            \"DATA_SOURCE\": \"TEST\",\n",
      "                            \"DRIVERS_LICENSE_NUMBER\": \"DL11111\",\n",
      "                            \"DSRC_ACTION\": \"A\",\n",
      "                            \"ENTITY_TYPE\": \"TEST\",\n",
      "                            \"LENS_CODE\": \"DEFAULT\",\n",
      "                            \"NAME_FIRST\": \"John\",\n",
      "                            \"NAME_LAST\": \"SMITH\",\n",
      "                            \"NAME_MIDDLE\": \"M\",\n",
      "                            \"NAME_TYPE\": \"PRIMARY\",\n",
      "                            \"PASSPORT_COUNTRY\": \"US\",\n",
      "                            \"PASSPORT_NUMBER\": \"PP11111\",\n",
      "                            \"RECORD_ID\": \"RECORD3\",\n",
      "                            \"SSN_NUMBER\": \"111-11-1111\"\n",
      "                        },\n",
      "                        \"LAST_SEEN_DT\": \"2019-04-20 15:11:51.329\",\n",
      "                        \"MATCH_KEY\": \"\",\n",
      "                        \"MATCH_LEVEL\": 0,\n",
      "                        \"MATCH_SCORE\": \"\",\n",
      "                        \"NAME_DATA\": [\n",
      "                            \"PRIMARY: SMITH John M\"\n",
      "                        ],\n",
      "                        \"OTHER_DATA\": [],\n",
      "                        \"PHONE_DATA\": [],\n",
      "                        \"RECORD_ID\": \"RECORD3\",\n",
      "                        \"REF_SCORE\": 0,\n",
      "                        \"RELATIONSHIP_DATA\": []\n",
      "                    },\n",
      "                    {\n",
      "                        \"ADDRESS_DATA\": [],\n",
      "                        \"ATTRIBUTE_DATA\": [],\n",
      "                        \"DATA_SOURCE\": \"TEST\",\n",
      "                        \"ENTITY_DATA\": [],\n",
      "                        \"ENTITY_KEY\": \"DC22202DD6CC5FFF711D866BCF1394489FFA9180\",\n",
      "                        \"ENTITY_NAME\": \"John M Smith\",\n",
      "                        \"ENTITY_TYPE\": \"TEST\",\n",
      "                        \"ERRULE_CODE\": \"SF1_CNAME\",\n",
      "                        \"IDENTIFIER_DATA\": [\n",
      "                            \"DRLIC: DL11111\",\n",
      "                            \"PASSPORT: PP11111 US\",\n",
      "                            \"SSN: 111-11-1111\"\n",
      "                        ],\n",
      "                        \"JSON_DATA\": {\n",
      "                            \"DATA_SOURCE\": \"TEST\",\n",
      "                            \"DRIVERS_LICENSE_NUMBER\": \"DL11111\",\n",
      "                            \"DSRC_ACTION\": \"A\",\n",
      "                            \"ENTITY_TYPE\": \"TEST\",\n",
      "                            \"LENS_CODE\": \"DEFAULT\",\n",
      "                            \"NAMES\": [\n",
      "                                {\n",
      "                                    \"NAME_FIRST\": \"John\",\n",
      "                                    \"NAME_LAST\": \"Smith\",\n",
      "                                    \"NAME_MIDDLE\": \"M\",\n",
      "                                    \"NAME_TYPE\": \"PRIMARY\"\n",
      "                                }\n",
      "                            ],\n",
      "                            \"PASSPORT_COUNTRY\": \"US\",\n",
      "                            \"PASSPORT_NUMBER\": \"PP11111\",\n",
      "                            \"RECORD_ID\": \"1\",\n",
      "                            \"SSN_NUMBER\": \"111-11-1111\"\n",
      "                        },\n",
      "                        \"LAST_SEEN_DT\": \"2019-04-20 17:57:43.931\",\n",
      "                        \"MATCH_KEY\": \"+NAME+SSN+DRLIC+PASSPORT\",\n",
      "                        \"MATCH_LEVEL\": 1,\n",
      "                        \"MATCH_SCORE\": \"20\",\n",
      "                        \"NAME_DATA\": [\n",
      "                            \"PRIMARY: Smith John M\"\n",
      "                        ],\n",
      "                        \"OTHER_DATA\": [],\n",
      "                        \"PHONE_DATA\": [],\n",
      "                        \"RECORD_ID\": \"1\",\n",
      "                        \"REF_SCORE\": 8,\n",
      "                        \"RELATIONSHIP_DATA\": []\n",
      "                    }\n",
      "                ],\n",
      "                \"RECORD_SUMMARY\": [\n",
      "                    {\n",
      "                        \"DATA_SOURCE\": \"TEST\",\n",
      "                        \"FIRST_SEEN_DT\": \"2019-02-23 22:06:51.032\",\n",
      "                        \"LAST_SEEN_DT\": \"2019-04-20 17:57:43.931\",\n",
      "                        \"RECORD_COUNT\": 2\n",
      "                    }\n",
      "                ],\n",
      "                \"REF_SCORE\": 8\n",
      "            }\n",
      "        ]\n",
      "    }\n",
      "}\n"
     ]
    }
   ],
   "source": [
    "response_list = []\n",
    "result = g2_engine.searchByAttributes(data_string, response_list)\n",
    "\n",
    "response_string = \"\".join(response_list)\n",
    "response_dictionary = json.loads(response_string)\n",
    "response = json.dumps(response_dictionary, sort_keys=True, indent=4)\n",
    "print(\"Result: {0}\\n{1}\".format(result, response))"
   ]
  },
  {
   "cell_type": "markdown",
   "metadata": {},
   "source": [
    "# Deleting Records"
   ]
  },
  {
   "cell_type": "code",
   "execution_count": 44,
   "metadata": {
    "scrolled": false
   },
   "outputs": [],
   "source": [
    "datasource_code = 'TEST'\n",
    "record_ID = '1'\n",
    "load_ID = None\n",
    "ret = g2_engine.deleteRecord(datasource_code, record_ID, load_ID)"
   ]
  },
  {
   "cell_type": "markdown",
   "metadata": {},
   "source": [
    "Attempt to get the record again. It should error and give an output similar to \"Unknown record\"."
   ]
  },
  {
   "cell_type": "code",
   "execution_count": 45,
   "metadata": {},
   "outputs": [
    {
     "ename": "G2ModuleGenericException",
     "evalue": "b'0033E|Unknown record: dsrc[TEST], record[1]'",
     "output_type": "error",
     "traceback": [
      "\u001b[0;31m---------------------------------------------------------------------------\u001b[0m",
      "\u001b[0;31mG2ModuleGenericException\u001b[0m                  Traceback (most recent call last)",
      "\u001b[0;32m<ipython-input-45-6730e60eec7e>\u001b[0m in \u001b[0;36m<module>\u001b[0;34m\u001b[0m\n\u001b[1;32m      1\u001b[0m \u001b[0mresponse_list\u001b[0m \u001b[0;34m=\u001b[0m \u001b[0;34m[\u001b[0m\u001b[0;34m]\u001b[0m\u001b[0;34m\u001b[0m\u001b[0;34m\u001b[0m\u001b[0m\n\u001b[0;32m----> 2\u001b[0;31m \u001b[0mresult\u001b[0m \u001b[0;34m=\u001b[0m \u001b[0mg2_engine\u001b[0m\u001b[0;34m.\u001b[0m\u001b[0mgetRecord\u001b[0m\u001b[0;34m(\u001b[0m\u001b[0mdatasource_code\u001b[0m\u001b[0;34m,\u001b[0m \u001b[0mrecord_id\u001b[0m\u001b[0;34m,\u001b[0m \u001b[0mresponse_list\u001b[0m\u001b[0;34m)\u001b[0m\u001b[0;34m\u001b[0m\u001b[0;34m\u001b[0m\u001b[0m\n\u001b[0m\u001b[1;32m      3\u001b[0m \u001b[0;34m\u001b[0m\u001b[0m\n\u001b[1;32m      4\u001b[0m \u001b[0mresponse_string\u001b[0m \u001b[0;34m=\u001b[0m \u001b[0;34m\"\"\u001b[0m\u001b[0;34m.\u001b[0m\u001b[0mjoin\u001b[0m\u001b[0;34m(\u001b[0m\u001b[0mresponse_list\u001b[0m\u001b[0;34m)\u001b[0m\u001b[0;34m\u001b[0m\u001b[0;34m\u001b[0m\u001b[0m\n\u001b[1;32m      5\u001b[0m \u001b[0mresponse_dictionary\u001b[0m \u001b[0;34m=\u001b[0m \u001b[0mjson\u001b[0m\u001b[0;34m.\u001b[0m\u001b[0mloads\u001b[0m\u001b[0;34m(\u001b[0m\u001b[0mresponse_string\u001b[0m\u001b[0;34m)\u001b[0m\u001b[0;34m\u001b[0m\u001b[0;34m\u001b[0m\u001b[0m\n",
      "\u001b[0;32m/opt/senz_mac/g2/python/G2Engine.py\u001b[0m in \u001b[0;36mgetRecord\u001b[0;34m(self, dsrcCode, recordId, response)\u001b[0m\n\u001b[1;32m    570\u001b[0m             \u001b[0mself\u001b[0m\u001b[0;34m.\u001b[0m\u001b[0m_lib_handle\u001b[0m\u001b[0;34m.\u001b[0m\u001b[0mG2_getLastException\u001b[0m\u001b[0;34m(\u001b[0m\u001b[0mtls_var\u001b[0m\u001b[0;34m.\u001b[0m\u001b[0mbuf\u001b[0m\u001b[0;34m,\u001b[0m \u001b[0msizeof\u001b[0m\u001b[0;34m(\u001b[0m\u001b[0mtls_var\u001b[0m\u001b[0;34m.\u001b[0m\u001b[0mbuf\u001b[0m\u001b[0;34m)\u001b[0m\u001b[0;34m)\u001b[0m\u001b[0;34m\u001b[0m\u001b[0;34m\u001b[0m\u001b[0m\n\u001b[1;32m    571\u001b[0m             \u001b[0mself\u001b[0m\u001b[0;34m.\u001b[0m\u001b[0m_lib_handle\u001b[0m\u001b[0;34m.\u001b[0m\u001b[0mG2_clearLastException\u001b[0m\u001b[0;34m(\u001b[0m\u001b[0;34m)\u001b[0m\u001b[0;34m\u001b[0m\u001b[0;34m\u001b[0m\u001b[0m\n\u001b[0;32m--> 572\u001b[0;31m             \u001b[0;32mraise\u001b[0m \u001b[0mTranslateG2ModuleException\u001b[0m\u001b[0;34m(\u001b[0m\u001b[0mtls_var\u001b[0m\u001b[0;34m.\u001b[0m\u001b[0mbuf\u001b[0m\u001b[0;34m.\u001b[0m\u001b[0mvalue\u001b[0m\u001b[0;34m)\u001b[0m\u001b[0;34m\u001b[0m\u001b[0;34m\u001b[0m\u001b[0m\n\u001b[0m\u001b[1;32m    573\u001b[0m         \u001b[0mstringRet\u001b[0m \u001b[0;34m=\u001b[0m \u001b[0mstr\u001b[0m\u001b[0;34m(\u001b[0m\u001b[0mresponseBuf\u001b[0m\u001b[0;34m.\u001b[0m\u001b[0mvalue\u001b[0m\u001b[0;34m.\u001b[0m\u001b[0mdecode\u001b[0m\u001b[0;34m(\u001b[0m\u001b[0;34m'utf-8'\u001b[0m\u001b[0;34m)\u001b[0m\u001b[0;34m)\u001b[0m\u001b[0;34m\u001b[0m\u001b[0;34m\u001b[0m\u001b[0m\n\u001b[1;32m    574\u001b[0m         \u001b[0;32mfor\u001b[0m \u001b[0mi\u001b[0m \u001b[0;32min\u001b[0m \u001b[0mstringRet\u001b[0m\u001b[0;34m:\u001b[0m\u001b[0;34m\u001b[0m\u001b[0;34m\u001b[0m\u001b[0m\n",
      "\u001b[0;31mG2ModuleGenericException\u001b[0m: b'0033E|Unknown record: dsrc[TEST], record[1]'"
     ]
    }
   ],
   "source": [
    "response_list = []\n",
    "result = g2_engine.getRecord(datasource_code, record_id, response_list)\n",
    "\n",
    "response_string = \"\".join(response_list)\n",
    "response_dictionary = json.loads(response_string)\n",
    "response = json.dumps(response_dictionary, sort_keys=True, indent=4)\n",
    "print(\"Result: {0}\\n{1}\".format(result, response))"
   ]
  }
 ],
 "metadata": {
  "kernelspec": {
   "display_name": "Python 3",
   "language": "python",
   "name": "python3"
  },
  "language_info": {
   "codemirror_mode": {
    "name": "ipython",
    "version": 3
   },
   "file_extension": ".py",
   "mimetype": "text/x-python",
   "name": "python",
   "nbconvert_exporter": "python",
   "pygments_lexer": "ipython3",
   "version": "3.7.1"
  }
 },
 "nbformat": 4,
 "nbformat_minor": 2
}
